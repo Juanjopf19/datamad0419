{
 "cells": [
  {
   "cell_type": "code",
   "execution_count": 1,
   "metadata": {},
   "outputs": [],
   "source": [
    "# Importo librerías\n",
    "\n",
    "%matplotlib inline\n",
    "\n",
    "import pandas as pd\n",
    "import matplotlib.pyplot as plt\n",
    "import seaborn as sns\n",
    "from sklearn import metrics"
   ]
  },
  {
   "cell_type": "code",
   "execution_count": 2,
   "metadata": {},
   "outputs": [],
   "source": [
    "# Importo mi dataset.\n",
    "\n",
    "songs = pd.read_csv(\"SpotifyAudioFeaturesApril2019.csv\")"
   ]
  },
  {
   "cell_type": "code",
   "execution_count": 3,
   "metadata": {},
   "outputs": [
    {
     "name": "stdout",
     "output_type": "stream",
     "text": [
      "(130663, 17)\n"
     ]
    },
    {
     "data": {
      "text/html": [
       "<div>\n",
       "<style scoped>\n",
       "    .dataframe tbody tr th:only-of-type {\n",
       "        vertical-align: middle;\n",
       "    }\n",
       "\n",
       "    .dataframe tbody tr th {\n",
       "        vertical-align: top;\n",
       "    }\n",
       "\n",
       "    .dataframe thead th {\n",
       "        text-align: right;\n",
       "    }\n",
       "</style>\n",
       "<table border=\"1\" class=\"dataframe\">\n",
       "  <thead>\n",
       "    <tr style=\"text-align: right;\">\n",
       "      <th></th>\n",
       "      <th>artist_name</th>\n",
       "      <th>track_id</th>\n",
       "      <th>track_name</th>\n",
       "      <th>acousticness</th>\n",
       "      <th>danceability</th>\n",
       "      <th>duration_ms</th>\n",
       "      <th>energy</th>\n",
       "      <th>instrumentalness</th>\n",
       "      <th>key</th>\n",
       "      <th>liveness</th>\n",
       "      <th>loudness</th>\n",
       "      <th>mode</th>\n",
       "      <th>speechiness</th>\n",
       "      <th>tempo</th>\n",
       "      <th>time_signature</th>\n",
       "      <th>valence</th>\n",
       "      <th>popularity</th>\n",
       "    </tr>\n",
       "  </thead>\n",
       "  <tbody>\n",
       "    <tr>\n",
       "      <th>0</th>\n",
       "      <td>YG</td>\n",
       "      <td>2RM4jf1Xa9zPgMGRDiht8O</td>\n",
       "      <td>Big Bank feat. 2 Chainz, Big Sean, Nicki Minaj</td>\n",
       "      <td>0.005820</td>\n",
       "      <td>0.743</td>\n",
       "      <td>238373</td>\n",
       "      <td>0.339</td>\n",
       "      <td>0.000</td>\n",
       "      <td>1</td>\n",
       "      <td>0.0812</td>\n",
       "      <td>-7.678</td>\n",
       "      <td>1</td>\n",
       "      <td>0.4090</td>\n",
       "      <td>203.927</td>\n",
       "      <td>4</td>\n",
       "      <td>0.118</td>\n",
       "      <td>15</td>\n",
       "    </tr>\n",
       "    <tr>\n",
       "      <th>1</th>\n",
       "      <td>YG</td>\n",
       "      <td>1tHDG53xJNGsItRA3vfVgs</td>\n",
       "      <td>BAND DRUM (feat. A$AP Rocky)</td>\n",
       "      <td>0.024400</td>\n",
       "      <td>0.846</td>\n",
       "      <td>214800</td>\n",
       "      <td>0.557</td>\n",
       "      <td>0.000</td>\n",
       "      <td>8</td>\n",
       "      <td>0.2860</td>\n",
       "      <td>-7.259</td>\n",
       "      <td>1</td>\n",
       "      <td>0.4570</td>\n",
       "      <td>159.009</td>\n",
       "      <td>4</td>\n",
       "      <td>0.371</td>\n",
       "      <td>0</td>\n",
       "    </tr>\n",
       "    <tr>\n",
       "      <th>2</th>\n",
       "      <td>R3HAB</td>\n",
       "      <td>6Wosx2euFPMT14UXiWudMy</td>\n",
       "      <td>Radio Silence</td>\n",
       "      <td>0.025000</td>\n",
       "      <td>0.603</td>\n",
       "      <td>138913</td>\n",
       "      <td>0.723</td>\n",
       "      <td>0.000</td>\n",
       "      <td>9</td>\n",
       "      <td>0.0824</td>\n",
       "      <td>-5.890</td>\n",
       "      <td>0</td>\n",
       "      <td>0.0454</td>\n",
       "      <td>114.966</td>\n",
       "      <td>4</td>\n",
       "      <td>0.382</td>\n",
       "      <td>56</td>\n",
       "    </tr>\n",
       "    <tr>\n",
       "      <th>3</th>\n",
       "      <td>Chris Cooq</td>\n",
       "      <td>3J2Jpw61sO7l6Hc7qdYV91</td>\n",
       "      <td>Lactose</td>\n",
       "      <td>0.029400</td>\n",
       "      <td>0.800</td>\n",
       "      <td>125381</td>\n",
       "      <td>0.579</td>\n",
       "      <td>0.912</td>\n",
       "      <td>5</td>\n",
       "      <td>0.0994</td>\n",
       "      <td>-12.118</td>\n",
       "      <td>0</td>\n",
       "      <td>0.0701</td>\n",
       "      <td>123.003</td>\n",
       "      <td>4</td>\n",
       "      <td>0.641</td>\n",
       "      <td>0</td>\n",
       "    </tr>\n",
       "    <tr>\n",
       "      <th>4</th>\n",
       "      <td>Chris Cooq</td>\n",
       "      <td>2jbYvQCyPgX3CdmAzeVeuS</td>\n",
       "      <td>Same - Original mix</td>\n",
       "      <td>0.000035</td>\n",
       "      <td>0.783</td>\n",
       "      <td>124016</td>\n",
       "      <td>0.792</td>\n",
       "      <td>0.878</td>\n",
       "      <td>7</td>\n",
       "      <td>0.0332</td>\n",
       "      <td>-10.277</td>\n",
       "      <td>1</td>\n",
       "      <td>0.0661</td>\n",
       "      <td>120.047</td>\n",
       "      <td>4</td>\n",
       "      <td>0.928</td>\n",
       "      <td>0</td>\n",
       "    </tr>\n",
       "  </tbody>\n",
       "</table>\n",
       "</div>"
      ],
      "text/plain": [
       "  artist_name                track_id  \\\n",
       "0          YG  2RM4jf1Xa9zPgMGRDiht8O   \n",
       "1          YG  1tHDG53xJNGsItRA3vfVgs   \n",
       "2       R3HAB  6Wosx2euFPMT14UXiWudMy   \n",
       "3  Chris Cooq  3J2Jpw61sO7l6Hc7qdYV91   \n",
       "4  Chris Cooq  2jbYvQCyPgX3CdmAzeVeuS   \n",
       "\n",
       "                                       track_name  acousticness  danceability  \\\n",
       "0  Big Bank feat. 2 Chainz, Big Sean, Nicki Minaj      0.005820         0.743   \n",
       "1                    BAND DRUM (feat. A$AP Rocky)      0.024400         0.846   \n",
       "2                                   Radio Silence      0.025000         0.603   \n",
       "3                                         Lactose      0.029400         0.800   \n",
       "4                             Same - Original mix      0.000035         0.783   \n",
       "\n",
       "   duration_ms  energy  instrumentalness  key  liveness  loudness  mode  \\\n",
       "0       238373   0.339             0.000    1    0.0812    -7.678     1   \n",
       "1       214800   0.557             0.000    8    0.2860    -7.259     1   \n",
       "2       138913   0.723             0.000    9    0.0824    -5.890     0   \n",
       "3       125381   0.579             0.912    5    0.0994   -12.118     0   \n",
       "4       124016   0.792             0.878    7    0.0332   -10.277     1   \n",
       "\n",
       "   speechiness    tempo  time_signature  valence  popularity  \n",
       "0       0.4090  203.927               4    0.118          15  \n",
       "1       0.4570  159.009               4    0.371           0  \n",
       "2       0.0454  114.966               4    0.382          56  \n",
       "3       0.0701  123.003               4    0.641           0  \n",
       "4       0.0661  120.047               4    0.928           0  "
      ]
     },
     "execution_count": 3,
     "metadata": {},
     "output_type": "execute_result"
    }
   ],
   "source": [
    "print(songs.shape)\n",
    "songs.head()"
   ]
  },
  {
   "cell_type": "code",
   "execution_count": 4,
   "metadata": {},
   "outputs": [],
   "source": [
    "# Son muchísimos registros. En pos de la optimización del tiempo a la hora de aplicar\n",
    "# modelos, me voy a quedar con 15000. Por si acaso el orden de las filas condiciona de\n",
    "# alguna forma los valores de las variables, voy a hacer un shuffle para así obtener \n",
    "# resgistros de forma aleatoria. \n",
    "\n",
    "from sklearn.utils import shuffle\n",
    "\n",
    "songs = shuffle(songs).head(15000)"
   ]
  },
  {
   "cell_type": "code",
   "execution_count": 5,
   "metadata": {},
   "outputs": [
    {
     "data": {
      "text/plain": [
       "(15000, 17)"
      ]
     },
     "execution_count": 5,
     "metadata": {},
     "output_type": "execute_result"
    }
   ],
   "source": [
    "songs.shape"
   ]
  },
  {
   "cell_type": "code",
   "execution_count": 6,
   "metadata": {},
   "outputs": [
    {
     "data": {
      "text/html": [
       "<div>\n",
       "<style scoped>\n",
       "    .dataframe tbody tr th:only-of-type {\n",
       "        vertical-align: middle;\n",
       "    }\n",
       "\n",
       "    .dataframe tbody tr th {\n",
       "        vertical-align: top;\n",
       "    }\n",
       "\n",
       "    .dataframe thead th {\n",
       "        text-align: right;\n",
       "    }\n",
       "</style>\n",
       "<table border=\"1\" class=\"dataframe\">\n",
       "  <thead>\n",
       "    <tr style=\"text-align: right;\">\n",
       "      <th></th>\n",
       "      <th>artist_name</th>\n",
       "      <th>track_id</th>\n",
       "      <th>track_name</th>\n",
       "      <th>acousticness</th>\n",
       "      <th>danceability</th>\n",
       "      <th>duration_ms</th>\n",
       "      <th>energy</th>\n",
       "      <th>instrumentalness</th>\n",
       "      <th>key</th>\n",
       "      <th>liveness</th>\n",
       "      <th>loudness</th>\n",
       "      <th>mode</th>\n",
       "      <th>speechiness</th>\n",
       "      <th>tempo</th>\n",
       "      <th>time_signature</th>\n",
       "      <th>valence</th>\n",
       "      <th>popularity</th>\n",
       "    </tr>\n",
       "  </thead>\n",
       "  <tbody>\n",
       "    <tr>\n",
       "      <th>29424</th>\n",
       "      <td>Londrelle</td>\n",
       "      <td>4m5kGUGKngl7Kp99Y5GapA</td>\n",
       "      <td>Sunflower Soul</td>\n",
       "      <td>0.04220</td>\n",
       "      <td>0.806</td>\n",
       "      <td>182000</td>\n",
       "      <td>0.484</td>\n",
       "      <td>0.000000</td>\n",
       "      <td>4</td>\n",
       "      <td>0.316</td>\n",
       "      <td>-9.607</td>\n",
       "      <td>0</td>\n",
       "      <td>0.3740</td>\n",
       "      <td>138.024</td>\n",
       "      <td>4</td>\n",
       "      <td>0.2340</td>\n",
       "      <td>29</td>\n",
       "    </tr>\n",
       "    <tr>\n",
       "      <th>68762</th>\n",
       "      <td>P Stack</td>\n",
       "      <td>1dEzz7zXQRo3X0VESBzlUM</td>\n",
       "      <td>Fiya</td>\n",
       "      <td>0.11900</td>\n",
       "      <td>0.777</td>\n",
       "      <td>161280</td>\n",
       "      <td>0.614</td>\n",
       "      <td>0.000000</td>\n",
       "      <td>2</td>\n",
       "      <td>0.129</td>\n",
       "      <td>-5.374</td>\n",
       "      <td>0</td>\n",
       "      <td>0.3640</td>\n",
       "      <td>128.056</td>\n",
       "      <td>4</td>\n",
       "      <td>0.3210</td>\n",
       "      <td>8</td>\n",
       "    </tr>\n",
       "    <tr>\n",
       "      <th>4290</th>\n",
       "      <td>3LAU</td>\n",
       "      <td>3as4sLqPThvJbuzoSJfQDz</td>\n",
       "      <td>Worlds Away</td>\n",
       "      <td>0.00174</td>\n",
       "      <td>0.513</td>\n",
       "      <td>232441</td>\n",
       "      <td>0.866</td>\n",
       "      <td>0.000007</td>\n",
       "      <td>1</td>\n",
       "      <td>0.166</td>\n",
       "      <td>-4.638</td>\n",
       "      <td>0</td>\n",
       "      <td>0.0289</td>\n",
       "      <td>126.997</td>\n",
       "      <td>4</td>\n",
       "      <td>0.0843</td>\n",
       "      <td>42</td>\n",
       "    </tr>\n",
       "    <tr>\n",
       "      <th>15955</th>\n",
       "      <td>Arijit Singh</td>\n",
       "      <td>4ISkpYcYDh58QRoVapxUTa</td>\n",
       "      <td>Maya</td>\n",
       "      <td>0.81500</td>\n",
       "      <td>0.539</td>\n",
       "      <td>234615</td>\n",
       "      <td>0.644</td>\n",
       "      <td>0.000000</td>\n",
       "      <td>7</td>\n",
       "      <td>0.133</td>\n",
       "      <td>-7.960</td>\n",
       "      <td>1</td>\n",
       "      <td>0.2090</td>\n",
       "      <td>156.051</td>\n",
       "      <td>4</td>\n",
       "      <td>0.4190</td>\n",
       "      <td>3</td>\n",
       "    </tr>\n",
       "    <tr>\n",
       "      <th>106479</th>\n",
       "      <td>Grateful Dead</td>\n",
       "      <td>34MFx4e30wwelAmN9GrUCS</td>\n",
       "      <td>Goin' Down The Road Feeling Bad - Live at Port...</td>\n",
       "      <td>0.50500</td>\n",
       "      <td>0.641</td>\n",
       "      <td>421053</td>\n",
       "      <td>0.571</td>\n",
       "      <td>0.592000</td>\n",
       "      <td>4</td>\n",
       "      <td>0.897</td>\n",
       "      <td>-11.204</td>\n",
       "      <td>1</td>\n",
       "      <td>0.0327</td>\n",
       "      <td>95.719</td>\n",
       "      <td>4</td>\n",
       "      <td>0.8110</td>\n",
       "      <td>47</td>\n",
       "    </tr>\n",
       "  </tbody>\n",
       "</table>\n",
       "</div>"
      ],
      "text/plain": [
       "          artist_name                track_id  \\\n",
       "29424       Londrelle  4m5kGUGKngl7Kp99Y5GapA   \n",
       "68762         P Stack  1dEzz7zXQRo3X0VESBzlUM   \n",
       "4290             3LAU  3as4sLqPThvJbuzoSJfQDz   \n",
       "15955    Arijit Singh  4ISkpYcYDh58QRoVapxUTa   \n",
       "106479  Grateful Dead  34MFx4e30wwelAmN9GrUCS   \n",
       "\n",
       "                                               track_name  acousticness  \\\n",
       "29424                                      Sunflower Soul       0.04220   \n",
       "68762                                                Fiya       0.11900   \n",
       "4290                                          Worlds Away       0.00174   \n",
       "15955                                                Maya       0.81500   \n",
       "106479  Goin' Down The Road Feeling Bad - Live at Port...       0.50500   \n",
       "\n",
       "        danceability  duration_ms  energy  instrumentalness  key  liveness  \\\n",
       "29424          0.806       182000   0.484          0.000000    4     0.316   \n",
       "68762          0.777       161280   0.614          0.000000    2     0.129   \n",
       "4290           0.513       232441   0.866          0.000007    1     0.166   \n",
       "15955          0.539       234615   0.644          0.000000    7     0.133   \n",
       "106479         0.641       421053   0.571          0.592000    4     0.897   \n",
       "\n",
       "        loudness  mode  speechiness    tempo  time_signature  valence  \\\n",
       "29424     -9.607     0       0.3740  138.024               4   0.2340   \n",
       "68762     -5.374     0       0.3640  128.056               4   0.3210   \n",
       "4290      -4.638     0       0.0289  126.997               4   0.0843   \n",
       "15955     -7.960     1       0.2090  156.051               4   0.4190   \n",
       "106479   -11.204     1       0.0327   95.719               4   0.8110   \n",
       "\n",
       "        popularity  \n",
       "29424           29  \n",
       "68762            8  \n",
       "4290            42  \n",
       "15955            3  \n",
       "106479          47  "
      ]
     },
     "execution_count": 6,
     "metadata": {},
     "output_type": "execute_result"
    }
   ],
   "source": [
    "songs.head()"
   ]
  },
  {
   "cell_type": "code",
   "execution_count": 7,
   "metadata": {},
   "outputs": [
    {
     "data": {
      "text/plain": [
       "artist_name          object\n",
       "track_id             object\n",
       "track_name           object\n",
       "acousticness        float64\n",
       "danceability        float64\n",
       "duration_ms           int64\n",
       "energy              float64\n",
       "instrumentalness    float64\n",
       "key                   int64\n",
       "liveness            float64\n",
       "loudness            float64\n",
       "mode                  int64\n",
       "speechiness         float64\n",
       "tempo               float64\n",
       "time_signature        int64\n",
       "valence             float64\n",
       "popularity            int64\n",
       "dtype: object"
      ]
     },
     "execution_count": 7,
     "metadata": {},
     "output_type": "execute_result"
    }
   ],
   "source": [
    "songs.dtypes"
   ]
  },
  {
   "cell_type": "code",
   "execution_count": 8,
   "metadata": {},
   "outputs": [
    {
     "data": {
      "text/plain": [
       "8922"
      ]
     },
     "execution_count": 8,
     "metadata": {},
     "output_type": "execute_result"
    }
   ],
   "source": [
    "# Todas mis variables están en formato numérico salvo las 3 primeras.\n",
    "\n",
    "len(songs[\"artist_name\"].unique())"
   ]
  },
  {
   "cell_type": "code",
   "execution_count": 9,
   "metadata": {},
   "outputs": [
    {
     "data": {
      "text/html": [
       "<div>\n",
       "<style scoped>\n",
       "    .dataframe tbody tr th:only-of-type {\n",
       "        vertical-align: middle;\n",
       "    }\n",
       "\n",
       "    .dataframe tbody tr th {\n",
       "        vertical-align: top;\n",
       "    }\n",
       "\n",
       "    .dataframe thead th {\n",
       "        text-align: right;\n",
       "    }\n",
       "</style>\n",
       "<table border=\"1\" class=\"dataframe\">\n",
       "  <thead>\n",
       "    <tr style=\"text-align: right;\">\n",
       "      <th></th>\n",
       "      <th>acousticness</th>\n",
       "      <th>danceability</th>\n",
       "      <th>duration_ms</th>\n",
       "      <th>energy</th>\n",
       "      <th>instrumentalness</th>\n",
       "      <th>key</th>\n",
       "      <th>liveness</th>\n",
       "      <th>loudness</th>\n",
       "      <th>mode</th>\n",
       "      <th>speechiness</th>\n",
       "      <th>tempo</th>\n",
       "      <th>time_signature</th>\n",
       "      <th>valence</th>\n",
       "      <th>popularity</th>\n",
       "    </tr>\n",
       "  </thead>\n",
       "  <tbody>\n",
       "    <tr>\n",
       "      <th>29424</th>\n",
       "      <td>0.04220</td>\n",
       "      <td>0.806</td>\n",
       "      <td>182000</td>\n",
       "      <td>0.484</td>\n",
       "      <td>0.000000</td>\n",
       "      <td>4</td>\n",
       "      <td>0.316</td>\n",
       "      <td>-9.607</td>\n",
       "      <td>0</td>\n",
       "      <td>0.3740</td>\n",
       "      <td>138.024</td>\n",
       "      <td>4</td>\n",
       "      <td>0.2340</td>\n",
       "      <td>29</td>\n",
       "    </tr>\n",
       "    <tr>\n",
       "      <th>68762</th>\n",
       "      <td>0.11900</td>\n",
       "      <td>0.777</td>\n",
       "      <td>161280</td>\n",
       "      <td>0.614</td>\n",
       "      <td>0.000000</td>\n",
       "      <td>2</td>\n",
       "      <td>0.129</td>\n",
       "      <td>-5.374</td>\n",
       "      <td>0</td>\n",
       "      <td>0.3640</td>\n",
       "      <td>128.056</td>\n",
       "      <td>4</td>\n",
       "      <td>0.3210</td>\n",
       "      <td>8</td>\n",
       "    </tr>\n",
       "    <tr>\n",
       "      <th>4290</th>\n",
       "      <td>0.00174</td>\n",
       "      <td>0.513</td>\n",
       "      <td>232441</td>\n",
       "      <td>0.866</td>\n",
       "      <td>0.000007</td>\n",
       "      <td>1</td>\n",
       "      <td>0.166</td>\n",
       "      <td>-4.638</td>\n",
       "      <td>0</td>\n",
       "      <td>0.0289</td>\n",
       "      <td>126.997</td>\n",
       "      <td>4</td>\n",
       "      <td>0.0843</td>\n",
       "      <td>42</td>\n",
       "    </tr>\n",
       "    <tr>\n",
       "      <th>15955</th>\n",
       "      <td>0.81500</td>\n",
       "      <td>0.539</td>\n",
       "      <td>234615</td>\n",
       "      <td>0.644</td>\n",
       "      <td>0.000000</td>\n",
       "      <td>7</td>\n",
       "      <td>0.133</td>\n",
       "      <td>-7.960</td>\n",
       "      <td>1</td>\n",
       "      <td>0.2090</td>\n",
       "      <td>156.051</td>\n",
       "      <td>4</td>\n",
       "      <td>0.4190</td>\n",
       "      <td>3</td>\n",
       "    </tr>\n",
       "    <tr>\n",
       "      <th>106479</th>\n",
       "      <td>0.50500</td>\n",
       "      <td>0.641</td>\n",
       "      <td>421053</td>\n",
       "      <td>0.571</td>\n",
       "      <td>0.592000</td>\n",
       "      <td>4</td>\n",
       "      <td>0.897</td>\n",
       "      <td>-11.204</td>\n",
       "      <td>1</td>\n",
       "      <td>0.0327</td>\n",
       "      <td>95.719</td>\n",
       "      <td>4</td>\n",
       "      <td>0.8110</td>\n",
       "      <td>47</td>\n",
       "    </tr>\n",
       "  </tbody>\n",
       "</table>\n",
       "</div>"
      ],
      "text/plain": [
       "        acousticness  danceability  duration_ms  energy  instrumentalness  \\\n",
       "29424        0.04220         0.806       182000   0.484          0.000000   \n",
       "68762        0.11900         0.777       161280   0.614          0.000000   \n",
       "4290         0.00174         0.513       232441   0.866          0.000007   \n",
       "15955        0.81500         0.539       234615   0.644          0.000000   \n",
       "106479       0.50500         0.641       421053   0.571          0.592000   \n",
       "\n",
       "        key  liveness  loudness  mode  speechiness    tempo  time_signature  \\\n",
       "29424     4     0.316    -9.607     0       0.3740  138.024               4   \n",
       "68762     2     0.129    -5.374     0       0.3640  128.056               4   \n",
       "4290      1     0.166    -4.638     0       0.0289  126.997               4   \n",
       "15955     7     0.133    -7.960     1       0.2090  156.051               4   \n",
       "106479    4     0.897   -11.204     1       0.0327   95.719               4   \n",
       "\n",
       "        valence  popularity  \n",
       "29424    0.2340          29  \n",
       "68762    0.3210           8  \n",
       "4290     0.0843          42  \n",
       "15955    0.4190           3  \n",
       "106479   0.8110          47  "
      ]
     },
     "execution_count": 9,
     "metadata": {},
     "output_type": "execute_result"
    }
   ],
   "source": [
    "# Las variables categóricas (artist_name, track_id y track_name) no me resultan relevantes. \n",
    "\n",
    "songs.drop([\"artist_name\", \"track_id\", \"track_name\"], axis = 1, inplace = True)\n",
    "songs.head()"
   ]
  },
  {
   "cell_type": "code",
   "execution_count": 10,
   "metadata": {},
   "outputs": [
    {
     "data": {
      "text/html": [
       "<div>\n",
       "<style scoped>\n",
       "    .dataframe tbody tr th:only-of-type {\n",
       "        vertical-align: middle;\n",
       "    }\n",
       "\n",
       "    .dataframe tbody tr th {\n",
       "        vertical-align: top;\n",
       "    }\n",
       "\n",
       "    .dataframe thead th {\n",
       "        text-align: right;\n",
       "    }\n",
       "</style>\n",
       "<table border=\"1\" class=\"dataframe\">\n",
       "  <thead>\n",
       "    <tr style=\"text-align: right;\">\n",
       "      <th></th>\n",
       "      <th>acousticness</th>\n",
       "      <th>danceability</th>\n",
       "      <th>duration_ms</th>\n",
       "      <th>energy</th>\n",
       "      <th>instrumentalness</th>\n",
       "      <th>key</th>\n",
       "      <th>liveness</th>\n",
       "      <th>loudness</th>\n",
       "      <th>mode</th>\n",
       "      <th>speechiness</th>\n",
       "      <th>tempo</th>\n",
       "      <th>time_signature</th>\n",
       "      <th>valence</th>\n",
       "      <th>popularity</th>\n",
       "    </tr>\n",
       "  </thead>\n",
       "  <tbody>\n",
       "    <tr>\n",
       "      <th>count</th>\n",
       "      <td>15000.000000</td>\n",
       "      <td>15000.000000</td>\n",
       "      <td>1.500000e+04</td>\n",
       "      <td>15000.000000</td>\n",
       "      <td>15000.000000</td>\n",
       "      <td>15000.000000</td>\n",
       "      <td>15000.000000</td>\n",
       "      <td>15000.000000</td>\n",
       "      <td>15000.00000</td>\n",
       "      <td>15000.000000</td>\n",
       "      <td>15000.000000</td>\n",
       "      <td>15000.000000</td>\n",
       "      <td>15000.000000</td>\n",
       "      <td>15000.000000</td>\n",
       "    </tr>\n",
       "    <tr>\n",
       "      <th>mean</th>\n",
       "      <td>0.344817</td>\n",
       "      <td>0.583184</td>\n",
       "      <td>2.110122e+05</td>\n",
       "      <td>0.570857</td>\n",
       "      <td>0.221503</td>\n",
       "      <td>5.294133</td>\n",
       "      <td>0.194788</td>\n",
       "      <td>-9.946762</td>\n",
       "      <td>0.61300</td>\n",
       "      <td>0.111131</td>\n",
       "      <td>119.393804</td>\n",
       "      <td>3.879333</td>\n",
       "      <td>0.440968</td>\n",
       "      <td>24.228467</td>\n",
       "    </tr>\n",
       "    <tr>\n",
       "      <th>std</th>\n",
       "      <td>0.344700</td>\n",
       "      <td>0.190057</td>\n",
       "      <td>1.165805e+05</td>\n",
       "      <td>0.259615</td>\n",
       "      <td>0.358956</td>\n",
       "      <td>3.603010</td>\n",
       "      <td>0.167588</td>\n",
       "      <td>6.535036</td>\n",
       "      <td>0.48708</td>\n",
       "      <td>0.121235</td>\n",
       "      <td>30.004260</td>\n",
       "      <td>0.528764</td>\n",
       "      <td>0.259195</td>\n",
       "      <td>19.734287</td>\n",
       "    </tr>\n",
       "    <tr>\n",
       "      <th>min</th>\n",
       "      <td>0.000000</td>\n",
       "      <td>0.000000</td>\n",
       "      <td>4.556000e+03</td>\n",
       "      <td>0.000000</td>\n",
       "      <td>0.000000</td>\n",
       "      <td>0.000000</td>\n",
       "      <td>0.000000</td>\n",
       "      <td>-60.000000</td>\n",
       "      <td>0.00000</td>\n",
       "      <td>0.000000</td>\n",
       "      <td>0.000000</td>\n",
       "      <td>0.000000</td>\n",
       "      <td>0.000000</td>\n",
       "      <td>0.000000</td>\n",
       "    </tr>\n",
       "    <tr>\n",
       "      <th>25%</th>\n",
       "      <td>0.033500</td>\n",
       "      <td>0.460000</td>\n",
       "      <td>1.635748e+05</td>\n",
       "      <td>0.398000</td>\n",
       "      <td>0.000000</td>\n",
       "      <td>2.000000</td>\n",
       "      <td>0.096900</td>\n",
       "      <td>-11.897000</td>\n",
       "      <td>0.00000</td>\n",
       "      <td>0.039000</td>\n",
       "      <td>96.310500</td>\n",
       "      <td>4.000000</td>\n",
       "      <td>0.224000</td>\n",
       "      <td>7.000000</td>\n",
       "    </tr>\n",
       "    <tr>\n",
       "      <th>50%</th>\n",
       "      <td>0.209000</td>\n",
       "      <td>0.609000</td>\n",
       "      <td>2.017160e+05</td>\n",
       "      <td>0.605000</td>\n",
       "      <td>0.000146</td>\n",
       "      <td>5.000000</td>\n",
       "      <td>0.123000</td>\n",
       "      <td>-7.938500</td>\n",
       "      <td>1.00000</td>\n",
       "      <td>0.055500</td>\n",
       "      <td>120.018500</td>\n",
       "      <td>4.000000</td>\n",
       "      <td>0.422000</td>\n",
       "      <td>22.000000</td>\n",
       "    </tr>\n",
       "    <tr>\n",
       "      <th>75%</th>\n",
       "      <td>0.641250</td>\n",
       "      <td>0.728000</td>\n",
       "      <td>2.400130e+05</td>\n",
       "      <td>0.776000</td>\n",
       "      <td>0.420250</td>\n",
       "      <td>9.000000</td>\n",
       "      <td>0.237000</td>\n",
       "      <td>-5.642000</td>\n",
       "      <td>1.00000</td>\n",
       "      <td>0.131000</td>\n",
       "      <td>139.203500</td>\n",
       "      <td>4.000000</td>\n",
       "      <td>0.638000</td>\n",
       "      <td>38.000000</td>\n",
       "    </tr>\n",
       "    <tr>\n",
       "      <th>max</th>\n",
       "      <td>0.996000</td>\n",
       "      <td>0.985000</td>\n",
       "      <td>3.532867e+06</td>\n",
       "      <td>1.000000</td>\n",
       "      <td>1.000000</td>\n",
       "      <td>11.000000</td>\n",
       "      <td>0.994000</td>\n",
       "      <td>0.935000</td>\n",
       "      <td>1.00000</td>\n",
       "      <td>0.954000</td>\n",
       "      <td>239.183000</td>\n",
       "      <td>5.000000</td>\n",
       "      <td>0.993000</td>\n",
       "      <td>96.000000</td>\n",
       "    </tr>\n",
       "  </tbody>\n",
       "</table>\n",
       "</div>"
      ],
      "text/plain": [
       "       acousticness  danceability   duration_ms        energy  \\\n",
       "count  15000.000000  15000.000000  1.500000e+04  15000.000000   \n",
       "mean       0.344817      0.583184  2.110122e+05      0.570857   \n",
       "std        0.344700      0.190057  1.165805e+05      0.259615   \n",
       "min        0.000000      0.000000  4.556000e+03      0.000000   \n",
       "25%        0.033500      0.460000  1.635748e+05      0.398000   \n",
       "50%        0.209000      0.609000  2.017160e+05      0.605000   \n",
       "75%        0.641250      0.728000  2.400130e+05      0.776000   \n",
       "max        0.996000      0.985000  3.532867e+06      1.000000   \n",
       "\n",
       "       instrumentalness           key      liveness      loudness  \\\n",
       "count      15000.000000  15000.000000  15000.000000  15000.000000   \n",
       "mean           0.221503      5.294133      0.194788     -9.946762   \n",
       "std            0.358956      3.603010      0.167588      6.535036   \n",
       "min            0.000000      0.000000      0.000000    -60.000000   \n",
       "25%            0.000000      2.000000      0.096900    -11.897000   \n",
       "50%            0.000146      5.000000      0.123000     -7.938500   \n",
       "75%            0.420250      9.000000      0.237000     -5.642000   \n",
       "max            1.000000     11.000000      0.994000      0.935000   \n",
       "\n",
       "              mode   speechiness         tempo  time_signature       valence  \\\n",
       "count  15000.00000  15000.000000  15000.000000    15000.000000  15000.000000   \n",
       "mean       0.61300      0.111131    119.393804        3.879333      0.440968   \n",
       "std        0.48708      0.121235     30.004260        0.528764      0.259195   \n",
       "min        0.00000      0.000000      0.000000        0.000000      0.000000   \n",
       "25%        0.00000      0.039000     96.310500        4.000000      0.224000   \n",
       "50%        1.00000      0.055500    120.018500        4.000000      0.422000   \n",
       "75%        1.00000      0.131000    139.203500        4.000000      0.638000   \n",
       "max        1.00000      0.954000    239.183000        5.000000      0.993000   \n",
       "\n",
       "         popularity  \n",
       "count  15000.000000  \n",
       "mean      24.228467  \n",
       "std       19.734287  \n",
       "min        0.000000  \n",
       "25%        7.000000  \n",
       "50%       22.000000  \n",
       "75%       38.000000  \n",
       "max       96.000000  "
      ]
     },
     "execution_count": 10,
     "metadata": {},
     "output_type": "execute_result"
    }
   ],
   "source": [
    "# Echo un ojo a los valores de mis variables\n",
    "\n",
    "songs.describe()"
   ]
  },
  {
   "cell_type": "code",
   "execution_count": 11,
   "metadata": {},
   "outputs": [
    {
     "data": {
      "text/html": [
       "<div>\n",
       "<style scoped>\n",
       "    .dataframe tbody tr th:only-of-type {\n",
       "        vertical-align: middle;\n",
       "    }\n",
       "\n",
       "    .dataframe tbody tr th {\n",
       "        vertical-align: top;\n",
       "    }\n",
       "\n",
       "    .dataframe thead th {\n",
       "        text-align: right;\n",
       "    }\n",
       "</style>\n",
       "<table border=\"1\" class=\"dataframe\">\n",
       "  <thead>\n",
       "    <tr style=\"text-align: right;\">\n",
       "      <th></th>\n",
       "      <th>acousticness</th>\n",
       "      <th>danceability</th>\n",
       "      <th>duration_ms</th>\n",
       "      <th>energy</th>\n",
       "      <th>instrumentalness</th>\n",
       "      <th>key</th>\n",
       "      <th>liveness</th>\n",
       "      <th>loudness</th>\n",
       "      <th>mode</th>\n",
       "      <th>speechiness</th>\n",
       "      <th>tempo</th>\n",
       "      <th>time_signature</th>\n",
       "      <th>valence</th>\n",
       "      <th>popularity</th>\n",
       "    </tr>\n",
       "  </thead>\n",
       "  <tbody>\n",
       "    <tr>\n",
       "      <th>29424</th>\n",
       "      <td>0.04220</td>\n",
       "      <td>0.806</td>\n",
       "      <td>182000</td>\n",
       "      <td>0.484</td>\n",
       "      <td>0.000000</td>\n",
       "      <td>4</td>\n",
       "      <td>0.316</td>\n",
       "      <td>-9.607</td>\n",
       "      <td>0</td>\n",
       "      <td>0.3740</td>\n",
       "      <td>138.024</td>\n",
       "      <td>4</td>\n",
       "      <td>0.2340</td>\n",
       "      <td>1</td>\n",
       "    </tr>\n",
       "    <tr>\n",
       "      <th>68762</th>\n",
       "      <td>0.11900</td>\n",
       "      <td>0.777</td>\n",
       "      <td>161280</td>\n",
       "      <td>0.614</td>\n",
       "      <td>0.000000</td>\n",
       "      <td>2</td>\n",
       "      <td>0.129</td>\n",
       "      <td>-5.374</td>\n",
       "      <td>0</td>\n",
       "      <td>0.3640</td>\n",
       "      <td>128.056</td>\n",
       "      <td>4</td>\n",
       "      <td>0.3210</td>\n",
       "      <td>0</td>\n",
       "    </tr>\n",
       "    <tr>\n",
       "      <th>4290</th>\n",
       "      <td>0.00174</td>\n",
       "      <td>0.513</td>\n",
       "      <td>232441</td>\n",
       "      <td>0.866</td>\n",
       "      <td>0.000007</td>\n",
       "      <td>1</td>\n",
       "      <td>0.166</td>\n",
       "      <td>-4.638</td>\n",
       "      <td>0</td>\n",
       "      <td>0.0289</td>\n",
       "      <td>126.997</td>\n",
       "      <td>4</td>\n",
       "      <td>0.0843</td>\n",
       "      <td>1</td>\n",
       "    </tr>\n",
       "    <tr>\n",
       "      <th>15955</th>\n",
       "      <td>0.81500</td>\n",
       "      <td>0.539</td>\n",
       "      <td>234615</td>\n",
       "      <td>0.644</td>\n",
       "      <td>0.000000</td>\n",
       "      <td>7</td>\n",
       "      <td>0.133</td>\n",
       "      <td>-7.960</td>\n",
       "      <td>1</td>\n",
       "      <td>0.2090</td>\n",
       "      <td>156.051</td>\n",
       "      <td>4</td>\n",
       "      <td>0.4190</td>\n",
       "      <td>0</td>\n",
       "    </tr>\n",
       "    <tr>\n",
       "      <th>106479</th>\n",
       "      <td>0.50500</td>\n",
       "      <td>0.641</td>\n",
       "      <td>421053</td>\n",
       "      <td>0.571</td>\n",
       "      <td>0.592000</td>\n",
       "      <td>4</td>\n",
       "      <td>0.897</td>\n",
       "      <td>-11.204</td>\n",
       "      <td>1</td>\n",
       "      <td>0.0327</td>\n",
       "      <td>95.719</td>\n",
       "      <td>4</td>\n",
       "      <td>0.8110</td>\n",
       "      <td>1</td>\n",
       "    </tr>\n",
       "  </tbody>\n",
       "</table>\n",
       "</div>"
      ],
      "text/plain": [
       "        acousticness  danceability  duration_ms  energy  instrumentalness  \\\n",
       "29424        0.04220         0.806       182000   0.484          0.000000   \n",
       "68762        0.11900         0.777       161280   0.614          0.000000   \n",
       "4290         0.00174         0.513       232441   0.866          0.000007   \n",
       "15955        0.81500         0.539       234615   0.644          0.000000   \n",
       "106479       0.50500         0.641       421053   0.571          0.592000   \n",
       "\n",
       "        key  liveness  loudness  mode  speechiness    tempo  time_signature  \\\n",
       "29424     4     0.316    -9.607     0       0.3740  138.024               4   \n",
       "68762     2     0.129    -5.374     0       0.3640  128.056               4   \n",
       "4290      1     0.166    -4.638     0       0.0289  126.997               4   \n",
       "15955     7     0.133    -7.960     1       0.2090  156.051               4   \n",
       "106479    4     0.897   -11.204     1       0.0327   95.719               4   \n",
       "\n",
       "        valence  popularity  \n",
       "29424    0.2340           1  \n",
       "68762    0.3210           0  \n",
       "4290     0.0843           1  \n",
       "15955    0.4190           0  \n",
       "106479   0.8110           1  "
      ]
     },
     "execution_count": 11,
     "metadata": {},
     "output_type": "execute_result"
    }
   ],
   "source": [
    "# Voy a reducir los valores de popularidad a 2: no popular (0), popular (1).\n",
    "# Para ello, voy a cortar por la media.\n",
    "\n",
    "def reduce_popularity(p):\n",
    "    if p >= 24:\n",
    "        return 1\n",
    "    else:\n",
    "        return 0\n",
    "    \n",
    "songs[\"popularity\"] = songs[\"popularity\"].apply(reduce_popularity)\n",
    "\n",
    "songs.head()"
   ]
  },
  {
   "cell_type": "code",
   "execution_count": 12,
   "metadata": {},
   "outputs": [
    {
     "data": {
      "text/plain": [
       "<matplotlib.axes._subplots.AxesSubplot at 0x1096680f0>"
      ]
     },
     "execution_count": 12,
     "metadata": {},
     "output_type": "execute_result"
    },
    {
     "data": {
      "image/png": "[encoded data removed]",
      "text/plain": [
       "<Figure size 720x432 with 2 Axes>"
      ]
     },
     "metadata": {
      "needs_background": "light"
     },
     "output_type": "display_data"
    }
   ],
   "source": [
    "# Hago la matriz de correlación\n",
    "\n",
    "numeric_data = songs._get_numeric_data()\n",
    "correl = numeric_data.corr()\n",
    "\n",
    "fig, ax = plt.subplots(figsize=(10,6))\n",
    "sns.heatmap(correl)\n",
    "\n",
    "# No hay ninguna columna excesivamente correlacionada con otra. "
   ]
  },
  {
   "cell_type": "markdown",
   "metadata": {},
   "source": [
    "### Model"
   ]
  },
  {
   "cell_type": "code",
   "execution_count": 16,
   "metadata": {},
   "outputs": [],
   "source": [
    "from sklearn import svm\n",
    "from sklearn.linear_model import LogisticRegression\n",
    "from sklearn.ensemble import RandomForestClassifier\n",
    "from sklearn.model_selection import cross_val_score\n",
    "from sklearn.metrics import confusion_matrix\n",
    "from sklearn.metrics import roc_curve"
   ]
  },
  {
   "cell_type": "code",
   "execution_count": 13,
   "metadata": {},
   "outputs": [],
   "source": [
    "# Voy a utilizar popularity como groundtruth, utilizando el resto de valores como\n",
    "# features para tratar de predecir el valor de popularity.\n",
    "\n",
    "from sklearn.model_selection import train_test_split\n",
    "\n",
    "X = songs.drop(\"popularity\", axis = 1)\n",
    "y = songs[\"popularity\"]"
   ]
  },
  {
   "cell_type": "code",
   "execution_count": 14,
   "metadata": {},
   "outputs": [],
   "source": [
    "X_train, X_test, y_train, y_test = train_test_split(X, y, test_size = 0.2)"
   ]
  },
  {
   "cell_type": "code",
   "execution_count": 15,
   "metadata": {},
   "outputs": [
    {
     "name": "stdout",
     "output_type": "stream",
     "text": [
      "(12000, 13) (3000, 13) (12000,) (3000,)\n"
     ]
    }
   ],
   "source": [
    "print(X_train.shape, X_test.shape, y_train.shape, y_test.shape)"
   ]
  },
  {
   "cell_type": "code",
   "execution_count": 17,
   "metadata": {},
   "outputs": [],
   "source": [
    "clf_svc = svm.SVC(gamma =\"auto\").fit(X_train, y_train)\n",
    "clf_LR = LogisticRegression(solver = \"liblinear\", C = 5, multi_class = \"auto\").fit(X_train, y_train)\n",
    "clf_RF = RandomForestClassifier(n_estimators = 10).fit(X_train, y_train)"
   ]
  },
  {
   "cell_type": "code",
   "execution_count": 18,
   "metadata": {},
   "outputs": [],
   "source": [
    "models = [clf_svc, clf_LR, clf_RF]\n",
    "modelsS = [\"clf_svc\", \"clf_LR\", \"clf_RF\"]"
   ]
  },
  {
   "cell_type": "markdown",
   "metadata": {},
   "source": [
    "### Score"
   ]
  },
  {
   "cell_type": "code",
   "execution_count": 19,
   "metadata": {},
   "outputs": [
    {
     "data": {
      "text/html": [
       "<div>\n",
       "<style scoped>\n",
       "    .dataframe tbody tr th:only-of-type {\n",
       "        vertical-align: middle;\n",
       "    }\n",
       "\n",
       "    .dataframe tbody tr th {\n",
       "        vertical-align: top;\n",
       "    }\n",
       "\n",
       "    .dataframe thead th {\n",
       "        text-align: right;\n",
       "    }\n",
       "</style>\n",
       "<table border=\"1\" class=\"dataframe\">\n",
       "  <thead>\n",
       "    <tr style=\"text-align: right;\">\n",
       "      <th></th>\n",
       "      <th>clf_svc</th>\n",
       "      <th>clf_LR</th>\n",
       "      <th>clf_RF</th>\n",
       "    </tr>\n",
       "  </thead>\n",
       "  <tbody>\n",
       "    <tr>\n",
       "      <th>0</th>\n",
       "      <td>0.907467</td>\n",
       "      <td>0.599733</td>\n",
       "      <td>0.9072</td>\n",
       "    </tr>\n",
       "  </tbody>\n",
       "</table>\n",
       "</div>"
      ],
      "text/plain": [
       "    clf_svc    clf_LR  clf_RF\n",
       "0  0.907467  0.599733  0.9072"
      ]
     },
     "metadata": {},
     "output_type": "display_data"
    }
   ],
   "source": [
    "scores = {}\n",
    "\n",
    "for i in range(len(models)):\n",
    "    scores[modelsS[i]] = models[i].score(X, y)\n",
    "\n",
    "    \n",
    "scoresdf = pd.DataFrame(scores, index = range(1))\n",
    "\n",
    "display(scoresdf)"
   ]
  },
  {
   "cell_type": "markdown",
   "metadata": {},
   "source": [
    "### Confusion Matrix"
   ]
  },
  {
   "cell_type": "code",
   "execution_count": 20,
   "metadata": {},
   "outputs": [
    {
     "data": {
      "text/plain": [
       "{'clf_svc': array([[1609,   17],\n",
       "        [1356,   18]]), 'clf_LR': array([[1010,  616],\n",
       "        [ 627,  747]]), 'clf_RF': array([[1128,  498],\n",
       "        [ 688,  686]])}"
      ]
     },
     "execution_count": 20,
     "metadata": {},
     "output_type": "execute_result"
    }
   ],
   "source": [
    "conf_matrixes = {}\n",
    "\n",
    "for i in range(len(models)):\n",
    "    predictions = models[i].predict(X_test)\n",
    "    conf_matrixes[modelsS[i]] = confusion_matrix(y_test, predictions)\n",
    "\n",
    "conf_matrixes"
   ]
  },
  {
   "cell_type": "code",
   "execution_count": null,
   "metadata": {},
   "outputs": [],
   "source": [
    "for mod in models:\n",
    "    predictions = mod.predict(X_test)\n",
    "    c_matrix = confusion_matrix(y_test, predictions)\n",
    "    df_cm = pd.DataFrame(c_matrix, index = range(len(c_matrix)),\n",
    "                  columns = range(len(c_matrix)))\n",
    "    plt.figure(figsize = (10,7))\n",
    "    sns.heatmap(df_cm, annot = True)"
   ]
  },
  {
   "cell_type": "code",
   "execution_count": 21,
   "metadata": {},
   "outputs": [],
   "source": [
    "predictions = clf_svc.predict(X_test)\n",
    "c_matrix = confusion_matrix(y_test, predictions)"
   ]
  },
  {
   "cell_type": "code",
   "execution_count": 22,
   "metadata": {},
   "outputs": [
    {
     "data": {
      "text/plain": [
       "<matplotlib.axes._subplots.AxesSubplot at 0x11fdec630>"
      ]
     },
     "execution_count": 22,
     "metadata": {},
     "output_type": "execute_result"
    },
    {
     "data": {
      "image/png": "[encoded data removed]",
      "text/plain": [
       "<Figure size 720x504 with 2 Axes>"
      ]
     },
     "metadata": {
      "needs_background": "light"
     },
     "output_type": "display_data"
    }
   ],
   "source": [
    "df_cm = pd.DataFrame(c_matrix, index = range(len(c_matrix)),\n",
    "                  columns = range(len(c_matrix)))\n",
    "plt.figure(figsize = (10,7))\n",
    "sns.heatmap(df_cm, annot = True)"
   ]
  },
  {
   "cell_type": "markdown",
   "metadata": {},
   "source": [
    "### Roc Curve"
   ]
  },
  {
   "cell_type": "markdown",
   "metadata": {},
   "source": [
    "### clf_svc"
   ]
  },
  {
   "cell_type": "code",
   "execution_count": 23,
   "metadata": {},
   "outputs": [
    {
     "data": {
      "text/plain": [
       "[<matplotlib.lines.Line2D at 0x11c88b0b8>]"
      ]
     },
     "execution_count": 23,
     "metadata": {},
     "output_type": "execute_result"
    },
    {
     "data": {
      "image/png": "[encoded data removed]",
      "text/plain": [
       "<Figure size 432x288 with 1 Axes>"
      ]
     },
     "metadata": {
      "needs_background": "light"
     },
     "output_type": "display_data"
    }
   ],
   "source": [
    "predictions = clf_svc.predict(X_test)\n",
    "roc_curve(y_test, predictions)\n",
    "fpr, tpr, _ = metrics.roc_curve(y_test,  predictions)\n",
    "auc = metrics.roc_auc_score(y_test, predictions)\n",
    "plt.title(\"AUC: {}\".format(auc))\n",
    "plt.plot(fpr,tpr)"
   ]
  },
  {
   "cell_type": "markdown",
   "metadata": {},
   "source": [
    "### clf_LR"
   ]
  },
  {
   "cell_type": "code",
   "execution_count": 24,
   "metadata": {},
   "outputs": [
    {
     "data": {
      "text/plain": [
       "[<matplotlib.lines.Line2D at 0x11c8d3b00>]"
      ]
     },
     "execution_count": 24,
     "metadata": {},
     "output_type": "execute_result"
    },
    {
     "data": {
      "image/png": "[encoded data removed]",
      "text/plain": [
       "<Figure size 432x288 with 1 Axes>"
      ]
     },
     "metadata": {
      "needs_background": "light"
     },
     "output_type": "display_data"
    }
   ],
   "source": [
    "predictions = clf_LR.predict(X_test)\n",
    "roc_curve(y_test, predictions)\n",
    "fpr, tpr, _ = metrics.roc_curve(y_test,  predictions)\n",
    "auc = metrics.roc_auc_score(y_test, predictions)\n",
    "plt.title(\"AUC: {}\".format(auc))\n",
    "plt.plot(fpr,tpr)"
   ]
  },
  {
   "cell_type": "markdown",
   "metadata": {},
   "source": [
    "### clf_RF"
   ]
  },
  {
   "cell_type": "code",
   "execution_count": 25,
   "metadata": {},
   "outputs": [
    {
     "data": {
      "text/plain": [
       "[<matplotlib.lines.Line2D at 0x11ca17128>]"
      ]
     },
     "execution_count": 25,
     "metadata": {},
     "output_type": "execute_result"
    },
    {
     "data": {
      "image/png": "[encoded data removed]",
      "text/plain": [
       "<Figure size 432x288 with 1 Axes>"
      ]
     },
     "metadata": {
      "needs_background": "light"
     },
     "output_type": "display_data"
    }
   ],
   "source": [
    "predictions = clf_RF.predict(X_test)\n",
    "roc_curve(y_test, predictions)\n",
    "fpr, tpr, _ = metrics.roc_curve(y_test,  predictions)\n",
    "auc = metrics.roc_auc_score(y_test, predictions)\n",
    "plt.title(\"AUC: {}\".format(auc))\n",
    "plt.plot(fpr,tpr)"
   ]
  },
  {
   "cell_type": "code",
   "execution_count": null,
   "metadata": {},
   "outputs": [],
   "source": []
  }
 ],
 "metadata": {
  "kernelspec": {
   "display_name": "Python 3",
   "language": "python",
   "name": "python3"
  },
  "language_info": {
   "codemirror_mode": {
    "name": "ipython",
    "version": 3
   },
   "file_extension": ".py",
   "mimetype": "text/x-python",
   "name": "python",
   "nbconvert_exporter": "python",
   "pygments_lexer": "ipython3",
   "version": "3.7.3"
  }
 },
 "nbformat": 4,
 "nbformat_minor": 2
}

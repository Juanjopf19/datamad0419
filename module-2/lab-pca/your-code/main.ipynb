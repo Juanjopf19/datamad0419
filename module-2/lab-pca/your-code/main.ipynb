{
 "cells": [
  {
   "cell_type": "markdown",
   "metadata": {},
   "source": [
    "# Before your start:\n",
    "- Read the README.md file\n",
    "- Comment as much as you can and use the resources (README.md file)\n",
    "- Happy learning!"
   ]
  },
  {
   "cell_type": "code",
   "execution_count": 342,
   "metadata": {},
   "outputs": [],
   "source": [
    "# Run this code:\n",
    "\n",
    "%matplotlib inline\n",
    "\n",
    "import matplotlib.pyplot as plt"
   ]
  },
  {
   "cell_type": "code",
   "execution_count": 343,
   "metadata": {},
   "outputs": [],
   "source": [
    "# Import numpy and pandas:\n",
    "\n",
    "import numpy as np \n",
    "import pandas as pd"
   ]
  },
  {
   "cell_type": "markdown",
   "metadata": {},
   "source": [
    "# Challenge 1 - Reading and Standardizing the Data\n",
    "\n",
    "In this challenge we will work with image data and reduce the dimensions of the data to create a 2 dimensional plot. While we have not worked much with image data before, it can be represented as a numpy array where each pixel is assigned a numeric value. In this lesson, we will look at a dataset of cats and a dataset of dogs and see whether reducing them to two dimensions allows us to see if the data is separable. We will start by loading and processing the data. Run the cell below to load the two csv files and convert them into numpy arrays."
   ]
  },
  {
   "cell_type": "code",
   "execution_count": 344,
   "metadata": {},
   "outputs": [],
   "source": [
    "# Run this code\n",
    "\n",
    "cats = np.array(pd.read_csv(\"https://raw.githubusercontent.com/bioramble/pca/master/cat.csv\", header=None))\n",
    "dogs = np.array(pd.read_csv(\"https://raw.githubusercontent.com/bioramble/pca/master/dog.csv\", header=None))"
   ]
  },
  {
   "cell_type": "markdown",
   "metadata": {},
   "source": [
    "Next, we'll examine the shape of both the cats and the dogs arrays. Print out both shapes below."
   ]
  },
  {
   "cell_type": "code",
   "execution_count": 345,
   "metadata": {},
   "outputs": [
    {
     "name": "stdout",
     "output_type": "stream",
     "text": [
      "(4096, 80)\n",
      "(4096, 80)\n"
     ]
    }
   ],
   "source": [
    "# Your code here:\n",
    "\n",
    "print(cats.shape)\n",
    "print(dogs.shape)"
   ]
  },
  {
   "cell_type": "markdown",
   "metadata": {},
   "source": [
    "What this means is that both arrays contain 80 images each (the number of columns). Each image is comprised of 64x64 pixels (so a total of 4096 pixels per image). The images have been flattened such that all 4096 are in a single row.\n",
    "\n",
    "Print out column 0 of the cats array to see what the pixels values look like."
   ]
  },
  {
   "cell_type": "code",
   "execution_count": 346,
   "metadata": {},
   "outputs": [
    {
     "data": {
      "text/plain": [
       "array([ 64,  23, 250, 137,  55, 173,  18, 134,  19,  47, 109, 164,  41,\n",
       "        78, 108, 108, 247, 105, 158,  54, 103,   4,  23, 102, 239,  72,\n",
       "        42,  21, 168, 109, 112, 177,  22, 233,  15, 236, 250, 137,  32,\n",
       "         5, 178, 109,  24, 107,  53, 241, 226, 143,   5, 136,  98, 100,\n",
       "        89,  66, 228,  92, 255,  88, 230,  56, 160,  69,   6,  24, 195,\n",
       "       183, 239,  35, 154, 154, 122,  18,  87, 106, 174,  69,  28,  60,\n",
       "       223, 101])"
      ]
     },
     "metadata": {},
     "output_type": "display_data"
    },
    {
     "name": "stdout",
     "output_type": "stream",
     "text": [
      "80\n"
     ]
    }
   ],
   "source": [
    "# Your code here:\n",
    "\n",
    "display(cats[0])\n",
    "print(len(cats[0]))"
   ]
  },
  {
   "cell_type": "markdown",
   "metadata": {},
   "source": [
    "Using `matplotlib` we can plot a single cat or a single dog. We do this by reshaping the vector back to a 64x64 image and then using the `imshow` function.\n",
    "\n",
    "Run the code below to look at the first dog and the first cat."
   ]
  },
  {
   "cell_type": "code",
   "execution_count": 347,
   "metadata": {},
   "outputs": [
    {
     "name": "stdout",
     "output_type": "stream",
     "text": [
      "[ 64  23 250 137  55 173  18 134  19  47 109 164  41  78 108 108 247 105\n",
      " 158  54 103   4  23 102 239  72  42  21 168 109 112 177  22 233  15 236\n",
      " 250 137  32   5 178 109  24 107  53 241 226 143   5 136  98 100  89  66\n",
      " 228  92 255  88 230  56 160  69   6  24 195 183 239  35 154 154 122  18\n",
      "  87 106 174  69  28  60 223 101]\n",
      "[ 61   9 244 124  52  45  70 114 189  47 201 231  45  33 142  94  78  43\n",
      " 167  99  10  49 166 192  67  69 185 196  53  95  10 160  21   7  50 223\n",
      "  45 191 190  49 172 127  49   0  25 169 190 251  70  68  15 126 202 217\n",
      " 191 178 234  54  69 255 221  77  92 144 109  32  42 172  98 140 138 165\n",
      "  65 202  34  66 144 104 177 113]\n",
      "[64 64 64 ... 64 64 61]\n",
      "4096\n"
     ]
    }
   ],
   "source": [
    "print(cats[0])\n",
    "print(cats[-1])\n",
    "print(cats[:,0])\n",
    "print(64*64)"
   ]
  },
  {
   "cell_type": "code",
   "execution_count": 348,
   "metadata": {},
   "outputs": [
    {
     "name": "stdout",
     "output_type": "stream",
     "text": [
      "(80,)\n",
      "80\n",
      "[ 64  23 250 137  55 173  18 134  19  47 109 164  41  78 108 108 247 105\n",
      " 158  54 103   4  23 102 239  72  42  21 168 109 112 177  22 233  15 236\n",
      " 250 137  32   5 178 109  24 107  53 241 226 143   5 136  98 100  89  66\n",
      " 228  92 255  88 230  56 160  69   6  24 195 183 239  35 154 154 122  18\n",
      "  87 106 174  69  28  60 223 101]\n",
      "·················\n",
      "(64, 64)\n",
      "64\n",
      "[[64 64 64 ... 77 64 64]\n",
      " [64 64 64 ... 77 64 64]\n",
      " [64 77 64 ... 77 64 77]\n",
      " ...\n",
      " [64 64 64 ... 64 64 61]\n",
      " [64 64 64 ... 64 64 61]\n",
      " [61 61 61 ... 64 64 61]]\n"
     ]
    }
   ],
   "source": [
    "print(cats[0].shape)\n",
    "print(len(cats[0]))\n",
    "print(cats[0])\n",
    "\n",
    "print(\"·················\")\n",
    "\n",
    "catsb = cats[:,0].reshape(64, 64)\n",
    "print(catsb.shape)\n",
    "print(len(catsb))\n",
    "print(catsb)"
   ]
  },
  {
   "cell_type": "code",
   "execution_count": 349,
   "metadata": {},
   "outputs": [
    {
     "data": {
      "text/plain": [
       "<matplotlib.image.AxesImage at 0x11588fcc0>"
      ]
     },
     "execution_count": 349,
     "metadata": {},
     "output_type": "execute_result"
    },
    {
     "data": {
      "image/png": "[encoded data removed]",
      "text/plain": [
       "<Figure size 432x288 with 1 Axes>"
      ]
     },
     "metadata": {
      "needs_background": "light"
     },
     "output_type": "display_data"
    }
   ],
   "source": [
    "# Run this code:\n",
    "\n",
    "fig, ax = plt.subplots()\n",
    "ax.imshow(cats[:,0].reshape(64, 64).T, cmap=plt.cm.bone, interpolation='nearest') "
   ]
  },
  {
   "cell_type": "code",
   "execution_count": 350,
   "metadata": {},
   "outputs": [
    {
     "data": {
      "text/plain": [
       "<matplotlib.image.AxesImage at 0x10e654ac8>"
      ]
     },
     "execution_count": 350,
     "metadata": {},
     "output_type": "execute_result"
    },
    {
     "data": {
      "image/png": "[encoded data removed]",
      "text/plain": [
       "<Figure size 432x288 with 1 Axes>"
      ]
     },
     "metadata": {
      "needs_background": "light"
     },
     "output_type": "display_data"
    }
   ],
   "source": [
    "# Run this code:\n",
    "\n",
    "fig, ax = plt.subplots()\n",
    "ax.imshow(dogs[:,0].reshape(64, 64).T, cmap=plt.cm.bone, interpolation='nearest') "
   ]
  },
  {
   "cell_type": "markdown",
   "metadata": {},
   "source": [
    "Next, we would like to create a standardization function. This function will find the mean and standard deviation of each image. We subtract the mean from each pixel and divide each pixel by the standard deviation. Write the function below.\n",
    "\n",
    "Hint: To find the mean and standard deviation of each image, use `numpy`'s version of mean and stadnard deviation and use `axis=0`."
   ]
  },
  {
   "cell_type": "code",
   "execution_count": 351,
   "metadata": {},
   "outputs": [],
   "source": [
    "def standardize(x):\n",
    "    #This function takes as input a numpy array and returns a stadardized numpy array of the same dimensions.\n",
    "    #Sample input: np.array([[1,2,3],[4,5,6]])\n",
    "    #Sample output: np.array([[-1,-1,-1],[1,1,1]])\n",
    "    \n",
    "    # Your code here:\n",
    "    mu = np.mean(x, axis = 0)\n",
    "    std = np.std(x, axis = 0)\n",
    "    imagen = (x - mu) / std \n",
    "    \n",
    "    return np.array(imagen)"
   ]
  },
  {
   "cell_type": "code",
   "execution_count": 352,
   "metadata": {},
   "outputs": [
    {
     "data": {
      "text/plain": [
       "array([[-1., -1., -1.],\n",
       "       [ 1.,  1.,  1.]])"
      ]
     },
     "metadata": {},
     "output_type": "display_data"
    }
   ],
   "source": [
    "display(standardize(np.array([[1,2,3],[4,5,6]])))"
   ]
  },
  {
   "cell_type": "markdown",
   "metadata": {},
   "source": [
    "Now, use the `np.concatenate` function to combine the cats and dogs arrays. Use `axis=1` to combine the two correctly. Make sure to put dogs first."
   ]
  },
  {
   "cell_type": "code",
   "execution_count": 353,
   "metadata": {},
   "outputs": [
    {
     "name": "stdout",
     "output_type": "stream",
     "text": [
      "(4096, 160)\n"
     ]
    }
   ],
   "source": [
    "animals = np.concatenate((dogs, cats), axis = 1)\n",
    "animals\n",
    "print(animals.shape)"
   ]
  },
  {
   "cell_type": "markdown",
   "metadata": {},
   "source": [
    "Standardize the concatenated array below."
   ]
  },
  {
   "cell_type": "code",
   "execution_count": 354,
   "metadata": {},
   "outputs": [],
   "source": [
    "# Your code here:\n",
    "\n",
    "animals_st = standardize(animals)"
   ]
  },
  {
   "cell_type": "code",
   "execution_count": 355,
   "metadata": {},
   "outputs": [
    {
     "name": "stdout",
     "output_type": "stream",
     "text": [
      "(4096, 80)\n",
      "(4096, 80)\n",
      "(4096, 160)\n"
     ]
    },
    {
     "data": {
      "text/html": [
       "<div>\n",
       "<style scoped>\n",
       "    .dataframe tbody tr th:only-of-type {\n",
       "        vertical-align: middle;\n",
       "    }\n",
       "\n",
       "    .dataframe tbody tr th {\n",
       "        vertical-align: top;\n",
       "    }\n",
       "\n",
       "    .dataframe thead th {\n",
       "        text-align: right;\n",
       "    }\n",
       "</style>\n",
       "<table border=\"1\" class=\"dataframe\">\n",
       "  <thead>\n",
       "    <tr style=\"text-align: right;\">\n",
       "      <th></th>\n",
       "      <th>0</th>\n",
       "      <th>1</th>\n",
       "      <th>2</th>\n",
       "      <th>3</th>\n",
       "      <th>4</th>\n",
       "      <th>5</th>\n",
       "      <th>6</th>\n",
       "      <th>7</th>\n",
       "      <th>8</th>\n",
       "      <th>9</th>\n",
       "      <th>...</th>\n",
       "      <th>4086</th>\n",
       "      <th>4087</th>\n",
       "      <th>4088</th>\n",
       "      <th>4089</th>\n",
       "      <th>4090</th>\n",
       "      <th>4091</th>\n",
       "      <th>4092</th>\n",
       "      <th>4093</th>\n",
       "      <th>4094</th>\n",
       "      <th>4095</th>\n",
       "    </tr>\n",
       "  </thead>\n",
       "  <tbody>\n",
       "    <tr>\n",
       "      <th>0</th>\n",
       "      <td>2.376629</td>\n",
       "      <td>2.376629</td>\n",
       "      <td>2.376629</td>\n",
       "      <td>2.272642</td>\n",
       "      <td>2.376629</td>\n",
       "      <td>2.185985</td>\n",
       "      <td>1.839360</td>\n",
       "      <td>1.839360</td>\n",
       "      <td>1.648716</td>\n",
       "      <td>1.648716</td>\n",
       "      <td>...</td>\n",
       "      <td>0.816816</td>\n",
       "      <td>1.059454</td>\n",
       "      <td>0.452859</td>\n",
       "      <td>0.019578</td>\n",
       "      <td>-0.673672</td>\n",
       "      <td>-0.916310</td>\n",
       "      <td>-0.465697</td>\n",
       "      <td>0.227553</td>\n",
       "      <td>0.227553</td>\n",
       "      <td>0.227553</td>\n",
       "    </tr>\n",
       "    <tr>\n",
       "      <th>1</th>\n",
       "      <td>-0.307530</td>\n",
       "      <td>-0.405003</td>\n",
       "      <td>-0.683497</td>\n",
       "      <td>-0.794895</td>\n",
       "      <td>-0.892368</td>\n",
       "      <td>0.165910</td>\n",
       "      <td>0.736823</td>\n",
       "      <td>0.708974</td>\n",
       "      <td>0.708974</td>\n",
       "      <td>1.112790</td>\n",
       "      <td>...</td>\n",
       "      <td>-0.405003</td>\n",
       "      <td>-0.599949</td>\n",
       "      <td>-0.794895</td>\n",
       "      <td>-0.794895</td>\n",
       "      <td>-0.599949</td>\n",
       "      <td>-0.405003</td>\n",
       "      <td>-0.683497</td>\n",
       "      <td>-0.683497</td>\n",
       "      <td>-0.405003</td>\n",
       "      <td>-0.405003</td>\n",
       "    </tr>\n",
       "    <tr>\n",
       "      <th>2</th>\n",
       "      <td>0.932549</td>\n",
       "      <td>1.156817</td>\n",
       "      <td>0.932549</td>\n",
       "      <td>1.156817</td>\n",
       "      <td>2.627023</td>\n",
       "      <td>1.779786</td>\n",
       "      <td>1.156817</td>\n",
       "      <td>1.156817</td>\n",
       "      <td>0.932549</td>\n",
       "      <td>0.932549</td>\n",
       "      <td>...</td>\n",
       "      <td>-0.014364</td>\n",
       "      <td>0.359418</td>\n",
       "      <td>-0.014364</td>\n",
       "      <td>0.359418</td>\n",
       "      <td>0.359418</td>\n",
       "      <td>0.359418</td>\n",
       "      <td>0.359418</td>\n",
       "      <td>0.633524</td>\n",
       "      <td>0.359418</td>\n",
       "      <td>0.359418</td>\n",
       "    </tr>\n",
       "    <tr>\n",
       "      <th>3</th>\n",
       "      <td>-0.305156</td>\n",
       "      <td>-0.327394</td>\n",
       "      <td>-0.327394</td>\n",
       "      <td>-0.727689</td>\n",
       "      <td>-1.016790</td>\n",
       "      <td>-1.039028</td>\n",
       "      <td>-1.039028</td>\n",
       "      <td>-1.039028</td>\n",
       "      <td>-1.016790</td>\n",
       "      <td>-0.727689</td>\n",
       "      <td>...</td>\n",
       "      <td>-2.973784</td>\n",
       "      <td>-2.818114</td>\n",
       "      <td>-2.640205</td>\n",
       "      <td>-2.573489</td>\n",
       "      <td>-1.906333</td>\n",
       "      <td>-1.417084</td>\n",
       "      <td>-1.417084</td>\n",
       "      <td>-1.417084</td>\n",
       "      <td>-1.283653</td>\n",
       "      <td>-1.039028</td>\n",
       "    </tr>\n",
       "    <tr>\n",
       "      <th>4</th>\n",
       "      <td>0.587798</td>\n",
       "      <td>0.403992</td>\n",
       "      <td>0.403992</td>\n",
       "      <td>0.587798</td>\n",
       "      <td>0.934988</td>\n",
       "      <td>0.587798</td>\n",
       "      <td>0.812451</td>\n",
       "      <td>0.812451</td>\n",
       "      <td>0.587798</td>\n",
       "      <td>0.587798</td>\n",
       "      <td>...</td>\n",
       "      <td>0.403992</td>\n",
       "      <td>0.587798</td>\n",
       "      <td>0.301877</td>\n",
       "      <td>0.301877</td>\n",
       "      <td>0.301877</td>\n",
       "      <td>0.403992</td>\n",
       "      <td>0.138493</td>\n",
       "      <td>-0.269966</td>\n",
       "      <td>-0.269966</td>\n",
       "      <td>0.015955</td>\n",
       "    </tr>\n",
       "  </tbody>\n",
       "</table>\n",
       "<p>5 rows × 4096 columns</p>\n",
       "</div>"
      ],
      "text/plain": [
       "       0         1         2         3         4         5         6     \\\n",
       "0  2.376629  2.376629  2.376629  2.272642  2.376629  2.185985  1.839360   \n",
       "1 -0.307530 -0.405003 -0.683497 -0.794895 -0.892368  0.165910  0.736823   \n",
       "2  0.932549  1.156817  0.932549  1.156817  2.627023  1.779786  1.156817   \n",
       "3 -0.305156 -0.327394 -0.327394 -0.727689 -1.016790 -1.039028 -1.039028   \n",
       "4  0.587798  0.403992  0.403992  0.587798  0.934988  0.587798  0.812451   \n",
       "\n",
       "       7         8         9     ...      4086      4087      4088      4089  \\\n",
       "0  1.839360  1.648716  1.648716  ...  0.816816  1.059454  0.452859  0.019578   \n",
       "1  0.708974  0.708974  1.112790  ... -0.405003 -0.599949 -0.794895 -0.794895   \n",
       "2  1.156817  0.932549  0.932549  ... -0.014364  0.359418 -0.014364  0.359418   \n",
       "3 -1.039028 -1.016790 -0.727689  ... -2.973784 -2.818114 -2.640205 -2.573489   \n",
       "4  0.812451  0.587798  0.587798  ...  0.403992  0.587798  0.301877  0.301877   \n",
       "\n",
       "       4090      4091      4092      4093      4094      4095  \n",
       "0 -0.673672 -0.916310 -0.465697  0.227553  0.227553  0.227553  \n",
       "1 -0.599949 -0.405003 -0.683497 -0.683497 -0.405003 -0.405003  \n",
       "2  0.359418  0.359418  0.359418  0.633524  0.359418  0.359418  \n",
       "3 -1.906333 -1.417084 -1.417084 -1.417084 -1.283653 -1.039028  \n",
       "4  0.301877  0.403992  0.138493 -0.269966 -0.269966  0.015955  \n",
       "\n",
       "[5 rows x 4096 columns]"
      ]
     },
     "metadata": {},
     "output_type": "display_data"
    }
   ],
   "source": [
    "print(cats.shape)\n",
    "print(dogs.shape)\n",
    "print(animals_st.shape)\n",
    "\n",
    "animalsdf = pd.DataFrame(animals_st).T\n",
    "display(animalsdf.head())"
   ]
  },
  {
   "cell_type": "markdown",
   "metadata": {},
   "source": [
    "# Challenge 2 - Using PCA\n",
    "\n",
    "Now that we have created a standardized matrix of cats and dogs, we'll find the two most important components in the data.\n",
    "\n",
    "Load the `PCA` function from `statsmodels` (read about this function [here](https://www.statsmodels.org/dev/generated/statsmodels.multivariate.pca.PCA.html)) and apply the function to our standarized data. Create a PCA model with two components."
   ]
  },
  {
   "cell_type": "code",
   "execution_count": 356,
   "metadata": {},
   "outputs": [],
   "source": [
    "# Your code here:\n",
    "\n",
    "from statsmodels.multivariate.pca import PCA\n",
    "\n",
    "\n",
    "pc = PCA(np.array(animalsdf), ncomp=2)\n",
    "pc.factors.shape\n",
    "animals_pca = pd.DataFrame(pc.factors)"
   ]
  },
  {
   "cell_type": "markdown",
   "metadata": {},
   "source": [
    "Use `numpy` to find to transpose the standardized pet array. This will help us compute the projection."
   ]
  },
  {
   "cell_type": "code",
   "execution_count": 357,
   "metadata": {},
   "outputs": [
    {
     "name": "stdout",
     "output_type": "stream",
     "text": [
      "(160, 4096)\n",
      "(160, 2)\n"
     ]
    }
   ],
   "source": [
    "# Your code here:\n",
    "\n",
    "# No me hace falta porque ya he hecho el transpose al crear animalsdf.\n",
    "\n",
    "print(animalsdf.shape)\n",
    "print(animals_pca.shape)"
   ]
  },
  {
   "cell_type": "markdown",
   "metadata": {},
   "source": [
    "\n",
    "Find the dot product of the transposed standardized pet matrix and the `factors` of the `PCA` model found above. This will be the projection onto 2 dimensions. This means that each cat and dog image will now only have two columns instead of 4096."
   ]
  },
  {
   "cell_type": "code",
   "execution_count": 358,
   "metadata": {},
   "outputs": [
    {
     "data": {
      "text/html": [
       "<div>\n",
       "<style scoped>\n",
       "    .dataframe tbody tr th:only-of-type {\n",
       "        vertical-align: middle;\n",
       "    }\n",
       "\n",
       "    .dataframe tbody tr th {\n",
       "        vertical-align: top;\n",
       "    }\n",
       "\n",
       "    .dataframe thead th {\n",
       "        text-align: right;\n",
       "    }\n",
       "</style>\n",
       "<table border=\"1\" class=\"dataframe\">\n",
       "  <thead>\n",
       "    <tr style=\"text-align: right;\">\n",
       "      <th></th>\n",
       "      <th>0</th>\n",
       "      <th>1</th>\n",
       "    </tr>\n",
       "  </thead>\n",
       "  <tbody>\n",
       "    <tr>\n",
       "      <th>0</th>\n",
       "      <td>-0.125203</td>\n",
       "      <td>0.081320</td>\n",
       "    </tr>\n",
       "    <tr>\n",
       "      <th>1</th>\n",
       "      <td>-0.104467</td>\n",
       "      <td>-0.032559</td>\n",
       "    </tr>\n",
       "    <tr>\n",
       "      <th>2</th>\n",
       "      <td>0.029401</td>\n",
       "      <td>-0.038502</td>\n",
       "    </tr>\n",
       "    <tr>\n",
       "      <th>3</th>\n",
       "      <td>-0.020476</td>\n",
       "      <td>-0.106492</td>\n",
       "    </tr>\n",
       "    <tr>\n",
       "      <th>4</th>\n",
       "      <td>-0.095112</td>\n",
       "      <td>0.061321</td>\n",
       "    </tr>\n",
       "  </tbody>\n",
       "</table>\n",
       "</div>"
      ],
      "text/plain": [
       "          0         1\n",
       "0 -0.125203  0.081320\n",
       "1 -0.104467 -0.032559\n",
       "2  0.029401 -0.038502\n",
       "3 -0.020476 -0.106492\n",
       "4 -0.095112  0.061321"
      ]
     },
     "execution_count": 358,
     "metadata": {},
     "output_type": "execute_result"
    }
   ],
   "source": [
    "# Your code here:\n",
    "\n",
    "animals_pca.head()"
   ]
  },
  {
   "cell_type": "markdown",
   "metadata": {},
   "source": [
    "# Challenge 3 - Plotting the Data\n",
    "\n",
    "Now that we have reduced our cats and dogs arrays, we can easily plot the data in a way that the human eye can understand. We can look at this plot to see whether there are differences between the cat and dog images. \n",
    "\n",
    "In the cell below, turn the two dimensional projection into a pandas dataframe and name the columns `pc1`, and `pc2` respectively."
   ]
  },
  {
   "cell_type": "code",
   "execution_count": 359,
   "metadata": {},
   "outputs": [
    {
     "data": {
      "text/html": [
       "<div>\n",
       "<style scoped>\n",
       "    .dataframe tbody tr th:only-of-type {\n",
       "        vertical-align: middle;\n",
       "    }\n",
       "\n",
       "    .dataframe tbody tr th {\n",
       "        vertical-align: top;\n",
       "    }\n",
       "\n",
       "    .dataframe thead th {\n",
       "        text-align: right;\n",
       "    }\n",
       "</style>\n",
       "<table border=\"1\" class=\"dataframe\">\n",
       "  <thead>\n",
       "    <tr style=\"text-align: right;\">\n",
       "      <th></th>\n",
       "      <th>pc1</th>\n",
       "      <th>pc2</th>\n",
       "    </tr>\n",
       "  </thead>\n",
       "  <tbody>\n",
       "    <tr>\n",
       "      <th>0</th>\n",
       "      <td>-0.125203</td>\n",
       "      <td>0.081320</td>\n",
       "    </tr>\n",
       "    <tr>\n",
       "      <th>1</th>\n",
       "      <td>-0.104467</td>\n",
       "      <td>-0.032559</td>\n",
       "    </tr>\n",
       "    <tr>\n",
       "      <th>2</th>\n",
       "      <td>0.029401</td>\n",
       "      <td>-0.038502</td>\n",
       "    </tr>\n",
       "    <tr>\n",
       "      <th>3</th>\n",
       "      <td>-0.020476</td>\n",
       "      <td>-0.106492</td>\n",
       "    </tr>\n",
       "    <tr>\n",
       "      <th>4</th>\n",
       "      <td>-0.095112</td>\n",
       "      <td>0.061321</td>\n",
       "    </tr>\n",
       "  </tbody>\n",
       "</table>\n",
       "</div>"
      ],
      "text/plain": [
       "        pc1       pc2\n",
       "0 -0.125203  0.081320\n",
       "1 -0.104467 -0.032559\n",
       "2  0.029401 -0.038502\n",
       "3 -0.020476 -0.106492\n",
       "4 -0.095112  0.061321"
      ]
     },
     "execution_count": 359,
     "metadata": {},
     "output_type": "execute_result"
    }
   ],
   "source": [
    "# Your code here:\n",
    "\n",
    "animals_pca.columns = [\"pc1\", \"pc2\"]\n",
    "animals_pca.head()"
   ]
  },
  {
   "cell_type": "markdown",
   "metadata": {},
   "source": [
    "Create a labels list. This list will be of size 160. The first 80 elements in the list will be the word `blue`, and the last 80 elements will be `red`. This will ensure that all dog observations will be colored in blue and all cats will be colored in red. Name this list `colors`."
   ]
  },
  {
   "cell_type": "code",
   "execution_count": 360,
   "metadata": {},
   "outputs": [
    {
     "name": "stdout",
     "output_type": "stream",
     "text": [
      "['blue', 'blue', 'blue', 'blue', 'blue', 'blue', 'blue', 'blue', 'blue', 'blue'] ...\n",
      "... ['red', 'red', 'red', 'red', 'red', 'red', 'red', 'red', 'red', 'red']\n",
      "160\n"
     ]
    }
   ],
   "source": [
    "# Your code here:\n",
    "\n",
    "colors = []\n",
    "for i in range(80):\n",
    "    colors.append(\"blue\")\n",
    "for i in range(80):\n",
    "    colors.append(\"red\")\n",
    "\n",
    "print(colors[:10], \"...\")\n",
    "print(\"...\", labels[:-11:-1])\n",
    "print(len(colors))"
   ]
  },
  {
   "cell_type": "markdown",
   "metadata": {},
   "source": [
    "Create a scatter plot of `pc1` and `pc2` below. Use the `colors` list above to color the observations by setting `c=colors`."
   ]
  },
  {
   "cell_type": "code",
   "execution_count": 361,
   "metadata": {},
   "outputs": [
    {
     "data": {
      "text/plain": [
       "<matplotlib.collections.PathCollection at 0x10e7ed630>"
      ]
     },
     "execution_count": 361,
     "metadata": {},
     "output_type": "execute_result"
    },
    {
     "data": {
      "image/png": "[encoded data removed]",
      "text/plain": [
       "<Figure size 432x288 with 1 Axes>"
      ]
     },
     "metadata": {
      "needs_background": "light"
     },
     "output_type": "display_data"
    }
   ],
   "source": [
    "# Your code here:\n",
    "\n",
    "plt.scatter(animals_pca[\"pc1\"],animals_pca[\"pc2\"], c=colors)"
   ]
  },
  {
   "cell_type": "markdown",
   "metadata": {},
   "source": [
    "Do you see a clear separation between cats and dogs? Write your answer below."
   ]
  },
  {
   "cell_type": "code",
   "execution_count": 363,
   "metadata": {},
   "outputs": [],
   "source": [
    "# Your conclusions here:\n",
    "\n",
    "import seaborn as sns"
   ]
  },
  {
   "cell_type": "code",
   "execution_count": 372,
   "metadata": {},
   "outputs": [],
   "source": [
    "animals_pca[\"colors\"] = colors"
   ]
  },
  {
   "cell_type": "code",
   "execution_count": 373,
   "metadata": {},
   "outputs": [
    {
     "data": {
      "text/plain": [
       "<seaborn.axisgrid.FacetGrid at 0x11c2f2d68>"
      ]
     },
     "execution_count": 373,
     "metadata": {},
     "output_type": "execute_result"
    },
    {
     "data": {
      "image/png": "[encoded data removed]",
      "text/plain": [
       "<Figure size 417.625x360 with 1 Axes>"
      ]
     },
     "metadata": {
      "needs_background": "light"
     },
     "output_type": "display_data"
    }
   ],
   "source": [
    "sns.lmplot(x = \"pc1\", y = \"pc2\", hue = \"colors\", data = animals_pca)"
   ]
  },
  {
   "cell_type": "code",
   "execution_count": null,
   "metadata": {},
   "outputs": [],
   "source": []
  }
 ],
 "metadata": {
  "kernelspec": {
   "display_name": "Python 3",
   "language": "python",
   "name": "python3"
  },
  "language_info": {
   "codemirror_mode": {
    "name": "ipython",
    "version": 3
   },
   "file_extension": ".py",
   "mimetype": "text/x-python",
   "name": "python",
   "nbconvert_exporter": "python",
   "pygments_lexer": "ipython3",
   "version": "3.7.3"
  }
 },
 "nbformat": 4,
 "nbformat_minor": 2
}

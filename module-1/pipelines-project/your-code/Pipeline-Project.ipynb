{
 "cells": [
  {
   "cell_type": "markdown",
   "metadata": {},
   "source": [
    "# Análisis sobre el efecto de los tuits en el precio del Bitcoin."
   ]
  },
  {
   "cell_type": "markdown",
   "metadata": {},
   "source": [
    "### Voy a comparar el número de tuits que hablen negativamente sobre bitcoin, de cuyos datos dispongo en mi dataset, con el precio del bitcoin del día siguiente, que obtendré a través de la API de Coindesk."
   ]
  },
  {
   "cell_type": "markdown",
   "metadata": {},
   "source": [
    "### DATA ACQUISITION"
   ]
  },
  {
   "cell_type": "code",
   "execution_count": 175,
   "metadata": {},
   "outputs": [],
   "source": [
    "# Importo pandas para trabajar con dataframes, numpy para posibles operaciones numéricas con los datos, y operator\n",
    "# para encontrar valores en un diccionario.\n",
    "\n",
    "import pandas as pd\n",
    "import numpy as np\n",
    "import operator"
   ]
  },
  {
   "cell_type": "code",
   "execution_count": 176,
   "metadata": {},
   "outputs": [],
   "source": [
    "# Cargo y leo el dataset, convirtiéndolo en un DataFrame de pandas\n",
    "\n",
    "dataset = pd.read_csv(\"Data_To_Hourervals_no_filter.csv\", sep =';')\n",
    "\n",
    "url_dataset = \"https://www.kaggle.com/jaimebadiola/bitcoin-tweets-and-price/version/1\""
   ]
  },
  {
   "cell_type": "code",
   "execution_count": 177,
   "metadata": {},
   "outputs": [
    {
     "data": {
      "text/html": [
       "<div>\n",
       "<style scoped>\n",
       "    .dataframe tbody tr th:only-of-type {\n",
       "        vertical-align: middle;\n",
       "    }\n",
       "\n",
       "    .dataframe tbody tr th {\n",
       "        vertical-align: top;\n",
       "    }\n",
       "\n",
       "    .dataframe thead th {\n",
       "        text-align: right;\n",
       "    }\n",
       "</style>\n",
       "<table border=\"1\" class=\"dataframe\">\n",
       "  <thead>\n",
       "    <tr style=\"text-align: right;\">\n",
       "      <th></th>\n",
       "      <th>Date</th>\n",
       "      <th>Compound_Score</th>\n",
       "      <th>n</th>\n",
       "      <th>Count_Negatives</th>\n",
       "      <th>Count_Positives</th>\n",
       "      <th>Count_Neutrals</th>\n",
       "      <th>Sent_Negatives</th>\n",
       "      <th>Sent_Positives</th>\n",
       "      <th>Open</th>\n",
       "      <th>High</th>\n",
       "      <th>Low</th>\n",
       "      <th>Close</th>\n",
       "      <th>Volume (BTC)</th>\n",
       "      <th>Volume (Currency)</th>\n",
       "    </tr>\n",
       "  </thead>\n",
       "  <tbody>\n",
       "    <tr>\n",
       "      <th>0</th>\n",
       "      <td>01/08/2017 0:00</td>\n",
       "      <td>0.097156</td>\n",
       "      <td>1027.0</td>\n",
       "      <td>148.0</td>\n",
       "      <td>403.0</td>\n",
       "      <td>476.0</td>\n",
       "      <td>-0.504061</td>\n",
       "      <td>0.432704</td>\n",
       "      <td>2855.81</td>\n",
       "      <td>2863.06</td>\n",
       "      <td>2823.00</td>\n",
       "      <td>2825.92</td>\n",
       "      <td>184.02</td>\n",
       "      <td>522951,00</td>\n",
       "    </tr>\n",
       "    <tr>\n",
       "      <th>1</th>\n",
       "      <td>01/08/2017 1:00</td>\n",
       "      <td>0.064507</td>\n",
       "      <td>778.0</td>\n",
       "      <td>143.0</td>\n",
       "      <td>239.0</td>\n",
       "      <td>396.0</td>\n",
       "      <td>-0.381007</td>\n",
       "      <td>0.437953</td>\n",
       "      <td>2823.01</td>\n",
       "      <td>2860.02</td>\n",
       "      <td>2821.01</td>\n",
       "      <td>2853.38</td>\n",
       "      <td>77.3</td>\n",
       "      <td>219605.16</td>\n",
       "    </tr>\n",
       "    <tr>\n",
       "      <th>2</th>\n",
       "      <td>01/08/2017 2:00</td>\n",
       "      <td>0.119218</td>\n",
       "      <td>836.0</td>\n",
       "      <td>118.0</td>\n",
       "      <td>333.0</td>\n",
       "      <td>385.0</td>\n",
       "      <td>-0.394999</td>\n",
       "      <td>0.439269</td>\n",
       "      <td>2846.27</td>\n",
       "      <td>2858.04</td>\n",
       "      <td>2837.31</td>\n",
       "      <td>2841.60</td>\n",
       "      <td>135.83</td>\n",
       "      <td>386739.15</td>\n",
       "    </tr>\n",
       "    <tr>\n",
       "      <th>3</th>\n",
       "      <td>01/08/2017 3:00</td>\n",
       "      <td>0.004163</td>\n",
       "      <td>984.0</td>\n",
       "      <td>262.0</td>\n",
       "      <td>279.0</td>\n",
       "      <td>443.0</td>\n",
       "      <td>-0.431913</td>\n",
       "      <td>0.420278</td>\n",
       "      <td>2841.84</td>\n",
       "      <td>2863.88</td>\n",
       "      <td>2837.73</td>\n",
       "      <td>2862.93</td>\n",
       "      <td>143.2</td>\n",
       "      <td>408360.03</td>\n",
       "    </tr>\n",
       "    <tr>\n",
       "      <th>4</th>\n",
       "      <td>01/08/2017 4:00</td>\n",
       "      <td>0.065608</td>\n",
       "      <td>751.0</td>\n",
       "      <td>133.0</td>\n",
       "      <td>237.0</td>\n",
       "      <td>381.0</td>\n",
       "      <td>-0.405835</td>\n",
       "      <td>0.435645</td>\n",
       "      <td>2862.92</td>\n",
       "      <td>2876.00</td>\n",
       "      <td>2848.11</td>\n",
       "      <td>2874.99</td>\n",
       "      <td>222.53</td>\n",
       "      <td>637045.88</td>\n",
       "    </tr>\n",
       "  </tbody>\n",
       "</table>\n",
       "</div>"
      ],
      "text/plain": [
       "              Date  Compound_Score       n  Count_Negatives  Count_Positives  \\\n",
       "0  01/08/2017 0:00        0.097156  1027.0            148.0            403.0   \n",
       "1  01/08/2017 1:00        0.064507   778.0            143.0            239.0   \n",
       "2  01/08/2017 2:00        0.119218   836.0            118.0            333.0   \n",
       "3  01/08/2017 3:00        0.004163   984.0            262.0            279.0   \n",
       "4  01/08/2017 4:00        0.065608   751.0            133.0            237.0   \n",
       "\n",
       "   Count_Neutrals  Sent_Negatives  Sent_Positives     Open     High      Low  \\\n",
       "0           476.0       -0.504061        0.432704  2855.81  2863.06  2823.00   \n",
       "1           396.0       -0.381007        0.437953  2823.01  2860.02  2821.01   \n",
       "2           385.0       -0.394999        0.439269  2846.27  2858.04  2837.31   \n",
       "3           443.0       -0.431913        0.420278  2841.84  2863.88  2837.73   \n",
       "4           381.0       -0.405835        0.435645  2862.92  2876.00  2848.11   \n",
       "\n",
       "     Close Volume (BTC) Volume (Currency)  \n",
       "0  2825.92       184.02         522951,00  \n",
       "1  2853.38         77.3         219605.16  \n",
       "2  2841.60       135.83         386739.15  \n",
       "3  2862.93        143.2         408360.03  \n",
       "4  2874.99       222.53         637045.88  "
      ]
     },
     "execution_count": 177,
     "metadata": {},
     "output_type": "execute_result"
    }
   ],
   "source": [
    "dataset.head()"
   ]
  },
  {
   "cell_type": "code",
   "execution_count": 178,
   "metadata": {},
   "outputs": [
    {
     "data": {
      "text/html": [
       "<div>\n",
       "<style scoped>\n",
       "    .dataframe tbody tr th:only-of-type {\n",
       "        vertical-align: middle;\n",
       "    }\n",
       "\n",
       "    .dataframe tbody tr th {\n",
       "        vertical-align: top;\n",
       "    }\n",
       "\n",
       "    .dataframe thead th {\n",
       "        text-align: right;\n",
       "    }\n",
       "</style>\n",
       "<table border=\"1\" class=\"dataframe\">\n",
       "  <thead>\n",
       "    <tr style=\"text-align: right;\">\n",
       "      <th></th>\n",
       "      <th>bpi</th>\n",
       "      <th>disclaimer</th>\n",
       "      <th>time</th>\n",
       "    </tr>\n",
       "  </thead>\n",
       "  <tbody>\n",
       "    <tr>\n",
       "      <th>2017-01-08</th>\n",
       "      <td>913.5238</td>\n",
       "      <td>This data was produced from the CoinDesk Bitco...</td>\n",
       "      <td>NaN</td>\n",
       "    </tr>\n",
       "    <tr>\n",
       "      <th>2017-01-09</th>\n",
       "      <td>899.3500</td>\n",
       "      <td>This data was produced from the CoinDesk Bitco...</td>\n",
       "      <td>NaN</td>\n",
       "    </tr>\n",
       "    <tr>\n",
       "      <th>2017-01-10</th>\n",
       "      <td>904.7925</td>\n",
       "      <td>This data was produced from the CoinDesk Bitco...</td>\n",
       "      <td>NaN</td>\n",
       "    </tr>\n",
       "    <tr>\n",
       "      <th>2017-01-11</th>\n",
       "      <td>775.9813</td>\n",
       "      <td>This data was produced from the CoinDesk Bitco...</td>\n",
       "      <td>NaN</td>\n",
       "    </tr>\n",
       "    <tr>\n",
       "      <th>2017-01-12</th>\n",
       "      <td>802.8288</td>\n",
       "      <td>This data was produced from the CoinDesk Bitco...</td>\n",
       "      <td>NaN</td>\n",
       "    </tr>\n",
       "  </tbody>\n",
       "</table>\n",
       "</div>"
      ],
      "text/plain": [
       "                 bpi                                         disclaimer time\n",
       "2017-01-08  913.5238  This data was produced from the CoinDesk Bitco...  NaN\n",
       "2017-01-09  899.3500  This data was produced from the CoinDesk Bitco...  NaN\n",
       "2017-01-10  904.7925  This data was produced from the CoinDesk Bitco...  NaN\n",
       "2017-01-11  775.9813  This data was produced from the CoinDesk Bitco...  NaN\n",
       "2017-01-12  802.8288  This data was produced from the CoinDesk Bitco...  NaN"
      ]
     },
     "execution_count": 178,
     "metadata": {},
     "output_type": "execute_result"
    }
   ],
   "source": [
    "# Ahora obtengo los datos de la API.\n",
    "\n",
    "import json\n",
    "import requests\n",
    "\n",
    "url = \"https://api.coindesk.com/v1/bpi/historical/close.json?start=2017-01-08&end=2019-01-21\"\n",
    "\n",
    "response = requests.get(url)\n",
    "results = response.json()\n",
    "dataset2 = pd.DataFrame(results)\n",
    "\n",
    "dataset2.head()"
   ]
  },
  {
   "cell_type": "markdown",
   "metadata": {},
   "source": [
    "### WRANGLING"
   ]
  },
  {
   "cell_type": "code",
   "execution_count": 179,
   "metadata": {},
   "outputs": [
    {
     "name": "stdout",
     "output_type": "stream",
     "text": [
      "['Date' 'Compound_Score' 'n' 'Count_Negatives' 'Count_Positives'\n",
      " 'Count_Neutrals' 'Sent_Negatives' 'Sent_Positives' 'Open' 'High' 'Low'\n",
      " 'Close' 'Volume (BTC)' 'Volume (Currency)']\n"
     ]
    }
   ],
   "source": [
    "# Muestro los nombres de las columnas de mi dataset, para ver si me puedo deshacer de alguna que no \n",
    "# tenga relevancia para mi análisis.\n",
    "\n",
    "print(dataset.columns.values)"
   ]
  },
  {
   "cell_type": "code",
   "execution_count": 180,
   "metadata": {},
   "outputs": [
    {
     "name": "stdout",
     "output_type": "stream",
     "text": [
      "Dataset rows: 12936\n",
      "Date\n"
     ]
    }
   ],
   "source": [
    "# Me interesan Date, Count_Negatives, y la columna que tenga menos duplicados para guardarla hasta el \n",
    "# final. Miro a ver cuál es:\n",
    "\n",
    "def less_duplicates(dataset):\n",
    "    res = {}\n",
    "    print(\"Dataset rows:\", len(dataset.index))\n",
    "    for col in dataset.columns:\n",
    "        values = []\n",
    "        for v in dataset[\"{}\".format(col)]:\n",
    "            values.append(v)\n",
    "        res.update({col: len(set(values))})\n",
    "    return max(res.items(), key=operator.itemgetter(1))[0]\n",
    "\n",
    "\n",
    "print(less_duplicates(dataset))"
   ]
  },
  {
   "cell_type": "code",
   "execution_count": 181,
   "metadata": {},
   "outputs": [],
   "source": [
    "# Me sirve Date. Por tanto, me deshago de todas las columnas que no necesito:\n",
    "\n",
    "mis_columnas = [\"Date\", \"Count_Negatives\"]\n",
    "\n",
    "for col in dataset.columns.values:\n",
    "    if col not in mis_columnas:\n",
    "        dataset = dataset.drop(col, axis = 1)"
   ]
  },
  {
   "cell_type": "code",
   "execution_count": 182,
   "metadata": {},
   "outputs": [
    {
     "data": {
      "text/html": [
       "<div>\n",
       "<style scoped>\n",
       "    .dataframe tbody tr th:only-of-type {\n",
       "        vertical-align: middle;\n",
       "    }\n",
       "\n",
       "    .dataframe tbody tr th {\n",
       "        vertical-align: top;\n",
       "    }\n",
       "\n",
       "    .dataframe thead th {\n",
       "        text-align: right;\n",
       "    }\n",
       "</style>\n",
       "<table border=\"1\" class=\"dataframe\">\n",
       "  <thead>\n",
       "    <tr style=\"text-align: right;\">\n",
       "      <th></th>\n",
       "      <th>Date</th>\n",
       "      <th>Count_Negatives</th>\n",
       "    </tr>\n",
       "  </thead>\n",
       "  <tbody>\n",
       "    <tr>\n",
       "      <th>0</th>\n",
       "      <td>01/08/2017 0:00</td>\n",
       "      <td>148.0</td>\n",
       "    </tr>\n",
       "    <tr>\n",
       "      <th>1</th>\n",
       "      <td>01/08/2017 1:00</td>\n",
       "      <td>143.0</td>\n",
       "    </tr>\n",
       "    <tr>\n",
       "      <th>2</th>\n",
       "      <td>01/08/2017 2:00</td>\n",
       "      <td>118.0</td>\n",
       "    </tr>\n",
       "    <tr>\n",
       "      <th>3</th>\n",
       "      <td>01/08/2017 3:00</td>\n",
       "      <td>262.0</td>\n",
       "    </tr>\n",
       "    <tr>\n",
       "      <th>4</th>\n",
       "      <td>01/08/2017 4:00</td>\n",
       "      <td>133.0</td>\n",
       "    </tr>\n",
       "  </tbody>\n",
       "</table>\n",
       "</div>"
      ],
      "text/plain": [
       "              Date  Count_Negatives\n",
       "0  01/08/2017 0:00            148.0\n",
       "1  01/08/2017 1:00            143.0\n",
       "2  01/08/2017 2:00            118.0\n",
       "3  01/08/2017 3:00            262.0\n",
       "4  01/08/2017 4:00            133.0"
      ]
     },
     "execution_count": 182,
     "metadata": {},
     "output_type": "execute_result"
    }
   ],
   "source": [
    "dataset.head()"
   ]
  },
  {
   "cell_type": "code",
   "execution_count": 183,
   "metadata": {},
   "outputs": [],
   "source": [
    "# Quiero los valores de los datos en datetime, para poder categorizarlos en franjas temporales:\n",
    "\n",
    "dataset[\"Date\"] = pd.to_datetime(dataset[\"Date\"], dayfirst = True)"
   ]
  },
  {
   "cell_type": "code",
   "execution_count": 184,
   "metadata": {},
   "outputs": [],
   "source": [
    "# Y ahora me quiero deshacer de las horas.\n",
    "\n",
    "dataset[\"Date\"] = dataset[\"Date\"].dt.date"
   ]
  },
  {
   "cell_type": "code",
   "execution_count": 185,
   "metadata": {},
   "outputs": [
    {
     "data": {
      "text/html": [
       "<div>\n",
       "<style scoped>\n",
       "    .dataframe tbody tr th:only-of-type {\n",
       "        vertical-align: middle;\n",
       "    }\n",
       "\n",
       "    .dataframe tbody tr th {\n",
       "        vertical-align: top;\n",
       "    }\n",
       "\n",
       "    .dataframe thead th {\n",
       "        text-align: right;\n",
       "    }\n",
       "</style>\n",
       "<table border=\"1\" class=\"dataframe\">\n",
       "  <thead>\n",
       "    <tr style=\"text-align: right;\">\n",
       "      <th></th>\n",
       "      <th>Date</th>\n",
       "      <th>Count_Negatives</th>\n",
       "    </tr>\n",
       "  </thead>\n",
       "  <tbody>\n",
       "    <tr>\n",
       "      <th>0</th>\n",
       "      <td>2017-08-01</td>\n",
       "      <td>148.0</td>\n",
       "    </tr>\n",
       "    <tr>\n",
       "      <th>1</th>\n",
       "      <td>2017-08-01</td>\n",
       "      <td>143.0</td>\n",
       "    </tr>\n",
       "    <tr>\n",
       "      <th>2</th>\n",
       "      <td>2017-08-01</td>\n",
       "      <td>118.0</td>\n",
       "    </tr>\n",
       "    <tr>\n",
       "      <th>3</th>\n",
       "      <td>2017-08-01</td>\n",
       "      <td>262.0</td>\n",
       "    </tr>\n",
       "    <tr>\n",
       "      <th>4</th>\n",
       "      <td>2017-08-01</td>\n",
       "      <td>133.0</td>\n",
       "    </tr>\n",
       "  </tbody>\n",
       "</table>\n",
       "</div>"
      ],
      "text/plain": [
       "         Date  Count_Negatives\n",
       "0  2017-08-01            148.0\n",
       "1  2017-08-01            143.0\n",
       "2  2017-08-01            118.0\n",
       "3  2017-08-01            262.0\n",
       "4  2017-08-01            133.0"
      ]
     },
     "execution_count": 185,
     "metadata": {},
     "output_type": "execute_result"
    }
   ],
   "source": [
    "dataset.head()"
   ]
  },
  {
   "cell_type": "code",
   "execution_count": 186,
   "metadata": {},
   "outputs": [],
   "source": [
    "# Para unificar todos los registros de cada día, convierto mi columna Date en el índice\n",
    "\n",
    "dataset = dataset.set_index(\"Date\")"
   ]
  },
  {
   "cell_type": "code",
   "execution_count": 187,
   "metadata": {},
   "outputs": [],
   "source": [
    "# Ahora agrupo por día:\n",
    "\n",
    "dataset = dataset.groupby(\"Date\").agg({\"Count_Negatives\": \"sum\"})"
   ]
  },
  {
   "cell_type": "code",
   "execution_count": 188,
   "metadata": {},
   "outputs": [
    {
     "data": {
      "text/html": [
       "<div>\n",
       "<style scoped>\n",
       "    .dataframe tbody tr th:only-of-type {\n",
       "        vertical-align: middle;\n",
       "    }\n",
       "\n",
       "    .dataframe tbody tr th {\n",
       "        vertical-align: top;\n",
       "    }\n",
       "\n",
       "    .dataframe thead th {\n",
       "        text-align: right;\n",
       "    }\n",
       "</style>\n",
       "<table border=\"1\" class=\"dataframe\">\n",
       "  <thead>\n",
       "    <tr style=\"text-align: right;\">\n",
       "      <th></th>\n",
       "      <th>Count_Negatives</th>\n",
       "    </tr>\n",
       "    <tr>\n",
       "      <th>Date</th>\n",
       "      <th></th>\n",
       "    </tr>\n",
       "  </thead>\n",
       "  <tbody>\n",
       "    <tr>\n",
       "      <th>2017-08-01</th>\n",
       "      <td>7100.0</td>\n",
       "    </tr>\n",
       "    <tr>\n",
       "      <th>2017-08-02</th>\n",
       "      <td>4397.0</td>\n",
       "    </tr>\n",
       "    <tr>\n",
       "      <th>2017-08-03</th>\n",
       "      <td>4888.0</td>\n",
       "    </tr>\n",
       "    <tr>\n",
       "      <th>2017-08-04</th>\n",
       "      <td>4195.0</td>\n",
       "    </tr>\n",
       "    <tr>\n",
       "      <th>2017-08-05</th>\n",
       "      <td>2897.0</td>\n",
       "    </tr>\n",
       "  </tbody>\n",
       "</table>\n",
       "</div>"
      ],
      "text/plain": [
       "            Count_Negatives\n",
       "Date                       \n",
       "2017-08-01           7100.0\n",
       "2017-08-02           4397.0\n",
       "2017-08-03           4888.0\n",
       "2017-08-04           4195.0\n",
       "2017-08-05           2897.0"
      ]
     },
     "execution_count": 188,
     "metadata": {},
     "output_type": "execute_result"
    }
   ],
   "source": [
    "dataset.head()"
   ]
  },
  {
   "cell_type": "code",
   "execution_count": 189,
   "metadata": {},
   "outputs": [],
   "source": [
    "# Ya agrupados por días, vuelvo a sacar Date del index.\n",
    "\n",
    "dataset = dataset.reset_index()"
   ]
  },
  {
   "cell_type": "code",
   "execution_count": 190,
   "metadata": {},
   "outputs": [
    {
     "data": {
      "text/html": [
       "<div>\n",
       "<style scoped>\n",
       "    .dataframe tbody tr th:only-of-type {\n",
       "        vertical-align: middle;\n",
       "    }\n",
       "\n",
       "    .dataframe tbody tr th {\n",
       "        vertical-align: top;\n",
       "    }\n",
       "\n",
       "    .dataframe thead th {\n",
       "        text-align: right;\n",
       "    }\n",
       "</style>\n",
       "<table border=\"1\" class=\"dataframe\">\n",
       "  <thead>\n",
       "    <tr style=\"text-align: right;\">\n",
       "      <th></th>\n",
       "      <th>Date</th>\n",
       "      <th>Count_Negatives</th>\n",
       "    </tr>\n",
       "  </thead>\n",
       "  <tbody>\n",
       "    <tr>\n",
       "      <th>0</th>\n",
       "      <td>2017-08-01</td>\n",
       "      <td>7100.0</td>\n",
       "    </tr>\n",
       "    <tr>\n",
       "      <th>1</th>\n",
       "      <td>2017-08-02</td>\n",
       "      <td>4397.0</td>\n",
       "    </tr>\n",
       "    <tr>\n",
       "      <th>2</th>\n",
       "      <td>2017-08-03</td>\n",
       "      <td>4888.0</td>\n",
       "    </tr>\n",
       "    <tr>\n",
       "      <th>3</th>\n",
       "      <td>2017-08-04</td>\n",
       "      <td>4195.0</td>\n",
       "    </tr>\n",
       "    <tr>\n",
       "      <th>4</th>\n",
       "      <td>2017-08-05</td>\n",
       "      <td>2897.0</td>\n",
       "    </tr>\n",
       "  </tbody>\n",
       "</table>\n",
       "</div>"
      ],
      "text/plain": [
       "        Date  Count_Negatives\n",
       "0 2017-08-01           7100.0\n",
       "1 2017-08-02           4397.0\n",
       "2 2017-08-03           4888.0\n",
       "3 2017-08-04           4195.0\n",
       "4 2017-08-05           2897.0"
      ]
     },
     "execution_count": 190,
     "metadata": {},
     "output_type": "execute_result"
    }
   ],
   "source": [
    "# Y reconvierto sus valores a datetime\n",
    "\n",
    "dataset[\"Date\"] = pd.to_datetime(dataset[\"Date\"], dayfirst = True)\n",
    "dataset.head()"
   ]
  },
  {
   "cell_type": "code",
   "execution_count": 191,
   "metadata": {},
   "outputs": [
    {
     "data": {
      "text/html": [
       "<div>\n",
       "<style scoped>\n",
       "    .dataframe tbody tr th:only-of-type {\n",
       "        vertical-align: middle;\n",
       "    }\n",
       "\n",
       "    .dataframe tbody tr th {\n",
       "        vertical-align: top;\n",
       "    }\n",
       "\n",
       "    .dataframe thead th {\n",
       "        text-align: right;\n",
       "    }\n",
       "</style>\n",
       "<table border=\"1\" class=\"dataframe\">\n",
       "  <thead>\n",
       "    <tr style=\"text-align: right;\">\n",
       "      <th></th>\n",
       "      <th>bpi</th>\n",
       "      <th>disclaimer</th>\n",
       "      <th>time</th>\n",
       "    </tr>\n",
       "  </thead>\n",
       "  <tbody>\n",
       "    <tr>\n",
       "      <th>2017-01-08</th>\n",
       "      <td>913.5238</td>\n",
       "      <td>This data was produced from the CoinDesk Bitco...</td>\n",
       "      <td>NaN</td>\n",
       "    </tr>\n",
       "    <tr>\n",
       "      <th>2017-01-09</th>\n",
       "      <td>899.3500</td>\n",
       "      <td>This data was produced from the CoinDesk Bitco...</td>\n",
       "      <td>NaN</td>\n",
       "    </tr>\n",
       "    <tr>\n",
       "      <th>2017-01-10</th>\n",
       "      <td>904.7925</td>\n",
       "      <td>This data was produced from the CoinDesk Bitco...</td>\n",
       "      <td>NaN</td>\n",
       "    </tr>\n",
       "    <tr>\n",
       "      <th>2017-01-11</th>\n",
       "      <td>775.9813</td>\n",
       "      <td>This data was produced from the CoinDesk Bitco...</td>\n",
       "      <td>NaN</td>\n",
       "    </tr>\n",
       "    <tr>\n",
       "      <th>2017-01-12</th>\n",
       "      <td>802.8288</td>\n",
       "      <td>This data was produced from the CoinDesk Bitco...</td>\n",
       "      <td>NaN</td>\n",
       "    </tr>\n",
       "  </tbody>\n",
       "</table>\n",
       "</div>"
      ],
      "text/plain": [
       "                 bpi                                         disclaimer time\n",
       "2017-01-08  913.5238  This data was produced from the CoinDesk Bitco...  NaN\n",
       "2017-01-09  899.3500  This data was produced from the CoinDesk Bitco...  NaN\n",
       "2017-01-10  904.7925  This data was produced from the CoinDesk Bitco...  NaN\n",
       "2017-01-11  775.9813  This data was produced from the CoinDesk Bitco...  NaN\n",
       "2017-01-12  802.8288  This data was produced from the CoinDesk Bitco...  NaN"
      ]
     },
     "execution_count": 191,
     "metadata": {},
     "output_type": "execute_result"
    }
   ],
   "source": [
    "# Ahora limpio el dataframe obtenido de la API\n",
    "\n",
    "dataset2.head()"
   ]
  },
  {
   "cell_type": "code",
   "execution_count": 192,
   "metadata": {},
   "outputs": [
    {
     "data": {
      "text/html": [
       "<div>\n",
       "<style scoped>\n",
       "    .dataframe tbody tr th:only-of-type {\n",
       "        vertical-align: middle;\n",
       "    }\n",
       "\n",
       "    .dataframe tbody tr th {\n",
       "        vertical-align: top;\n",
       "    }\n",
       "\n",
       "    .dataframe thead th {\n",
       "        text-align: right;\n",
       "    }\n",
       "</style>\n",
       "<table border=\"1\" class=\"dataframe\">\n",
       "  <thead>\n",
       "    <tr style=\"text-align: right;\">\n",
       "      <th></th>\n",
       "      <th>index</th>\n",
       "      <th>bpi</th>\n",
       "      <th>disclaimer</th>\n",
       "      <th>time</th>\n",
       "    </tr>\n",
       "  </thead>\n",
       "  <tbody>\n",
       "    <tr>\n",
       "      <th>0</th>\n",
       "      <td>2017-01-08</td>\n",
       "      <td>913.5238</td>\n",
       "      <td>This data was produced from the CoinDesk Bitco...</td>\n",
       "      <td>NaN</td>\n",
       "    </tr>\n",
       "    <tr>\n",
       "      <th>1</th>\n",
       "      <td>2017-01-09</td>\n",
       "      <td>899.3500</td>\n",
       "      <td>This data was produced from the CoinDesk Bitco...</td>\n",
       "      <td>NaN</td>\n",
       "    </tr>\n",
       "    <tr>\n",
       "      <th>2</th>\n",
       "      <td>2017-01-10</td>\n",
       "      <td>904.7925</td>\n",
       "      <td>This data was produced from the CoinDesk Bitco...</td>\n",
       "      <td>NaN</td>\n",
       "    </tr>\n",
       "    <tr>\n",
       "      <th>3</th>\n",
       "      <td>2017-01-11</td>\n",
       "      <td>775.9813</td>\n",
       "      <td>This data was produced from the CoinDesk Bitco...</td>\n",
       "      <td>NaN</td>\n",
       "    </tr>\n",
       "    <tr>\n",
       "      <th>4</th>\n",
       "      <td>2017-01-12</td>\n",
       "      <td>802.8288</td>\n",
       "      <td>This data was produced from the CoinDesk Bitco...</td>\n",
       "      <td>NaN</td>\n",
       "    </tr>\n",
       "  </tbody>\n",
       "</table>\n",
       "</div>"
      ],
      "text/plain": [
       "        index       bpi                                         disclaimer  \\\n",
       "0  2017-01-08  913.5238  This data was produced from the CoinDesk Bitco...   \n",
       "1  2017-01-09  899.3500  This data was produced from the CoinDesk Bitco...   \n",
       "2  2017-01-10  904.7925  This data was produced from the CoinDesk Bitco...   \n",
       "3  2017-01-11  775.9813  This data was produced from the CoinDesk Bitco...   \n",
       "4  2017-01-12  802.8288  This data was produced from the CoinDesk Bitco...   \n",
       "\n",
       "  time  \n",
       "0  NaN  \n",
       "1  NaN  \n",
       "2  NaN  \n",
       "3  NaN  \n",
       "4  NaN  "
      ]
     },
     "execution_count": 192,
     "metadata": {},
     "output_type": "execute_result"
    }
   ],
   "source": [
    "# Saco las fechas del index\n",
    "\n",
    "dataset2 = dataset2.reset_index()\n",
    "dataset2.head()"
   ]
  },
  {
   "cell_type": "code",
   "execution_count": 193,
   "metadata": {},
   "outputs": [
    {
     "data": {
      "text/html": [
       "<div>\n",
       "<style scoped>\n",
       "    .dataframe tbody tr th:only-of-type {\n",
       "        vertical-align: middle;\n",
       "    }\n",
       "\n",
       "    .dataframe tbody tr th {\n",
       "        vertical-align: top;\n",
       "    }\n",
       "\n",
       "    .dataframe thead th {\n",
       "        text-align: right;\n",
       "    }\n",
       "</style>\n",
       "<table border=\"1\" class=\"dataframe\">\n",
       "  <thead>\n",
       "    <tr style=\"text-align: right;\">\n",
       "      <th></th>\n",
       "      <th>Date</th>\n",
       "      <th>bpi</th>\n",
       "      <th>disclaimer</th>\n",
       "      <th>time</th>\n",
       "    </tr>\n",
       "  </thead>\n",
       "  <tbody>\n",
       "    <tr>\n",
       "      <th>0</th>\n",
       "      <td>2017-01-08</td>\n",
       "      <td>913.5238</td>\n",
       "      <td>This data was produced from the CoinDesk Bitco...</td>\n",
       "      <td>NaN</td>\n",
       "    </tr>\n",
       "    <tr>\n",
       "      <th>1</th>\n",
       "      <td>2017-01-09</td>\n",
       "      <td>899.3500</td>\n",
       "      <td>This data was produced from the CoinDesk Bitco...</td>\n",
       "      <td>NaN</td>\n",
       "    </tr>\n",
       "    <tr>\n",
       "      <th>2</th>\n",
       "      <td>2017-01-10</td>\n",
       "      <td>904.7925</td>\n",
       "      <td>This data was produced from the CoinDesk Bitco...</td>\n",
       "      <td>NaN</td>\n",
       "    </tr>\n",
       "    <tr>\n",
       "      <th>3</th>\n",
       "      <td>2017-01-11</td>\n",
       "      <td>775.9813</td>\n",
       "      <td>This data was produced from the CoinDesk Bitco...</td>\n",
       "      <td>NaN</td>\n",
       "    </tr>\n",
       "    <tr>\n",
       "      <th>4</th>\n",
       "      <td>2017-01-12</td>\n",
       "      <td>802.8288</td>\n",
       "      <td>This data was produced from the CoinDesk Bitco...</td>\n",
       "      <td>NaN</td>\n",
       "    </tr>\n",
       "  </tbody>\n",
       "</table>\n",
       "</div>"
      ],
      "text/plain": [
       "         Date       bpi                                         disclaimer  \\\n",
       "0  2017-01-08  913.5238  This data was produced from the CoinDesk Bitco...   \n",
       "1  2017-01-09  899.3500  This data was produced from the CoinDesk Bitco...   \n",
       "2  2017-01-10  904.7925  This data was produced from the CoinDesk Bitco...   \n",
       "3  2017-01-11  775.9813  This data was produced from the CoinDesk Bitco...   \n",
       "4  2017-01-12  802.8288  This data was produced from the CoinDesk Bitco...   \n",
       "\n",
       "  time  \n",
       "0  NaN  \n",
       "1  NaN  \n",
       "2  NaN  \n",
       "3  NaN  \n",
       "4  NaN  "
      ]
     },
     "execution_count": 193,
     "metadata": {},
     "output_type": "execute_result"
    }
   ],
   "source": [
    "# Cambio el nombre de la columna de las fechas\n",
    "\n",
    "dataset2 = dataset2.rename(columns={\"index\": \"Date\"})\n",
    "dataset2.head()"
   ]
  },
  {
   "cell_type": "code",
   "execution_count": 194,
   "metadata": {},
   "outputs": [
    {
     "data": {
      "text/html": [
       "<div>\n",
       "<style scoped>\n",
       "    .dataframe tbody tr th:only-of-type {\n",
       "        vertical-align: middle;\n",
       "    }\n",
       "\n",
       "    .dataframe tbody tr th {\n",
       "        vertical-align: top;\n",
       "    }\n",
       "\n",
       "    .dataframe thead th {\n",
       "        text-align: right;\n",
       "    }\n",
       "</style>\n",
       "<table border=\"1\" class=\"dataframe\">\n",
       "  <thead>\n",
       "    <tr style=\"text-align: right;\">\n",
       "      <th></th>\n",
       "      <th>Date</th>\n",
       "      <th>bpi</th>\n",
       "    </tr>\n",
       "  </thead>\n",
       "  <tbody>\n",
       "    <tr>\n",
       "      <th>0</th>\n",
       "      <td>2017-01-08</td>\n",
       "      <td>913.5238</td>\n",
       "    </tr>\n",
       "    <tr>\n",
       "      <th>1</th>\n",
       "      <td>2017-01-09</td>\n",
       "      <td>899.3500</td>\n",
       "    </tr>\n",
       "    <tr>\n",
       "      <th>2</th>\n",
       "      <td>2017-01-10</td>\n",
       "      <td>904.7925</td>\n",
       "    </tr>\n",
       "    <tr>\n",
       "      <th>3</th>\n",
       "      <td>2017-01-11</td>\n",
       "      <td>775.9813</td>\n",
       "    </tr>\n",
       "    <tr>\n",
       "      <th>4</th>\n",
       "      <td>2017-01-12</td>\n",
       "      <td>802.8288</td>\n",
       "    </tr>\n",
       "  </tbody>\n",
       "</table>\n",
       "</div>"
      ],
      "text/plain": [
       "         Date       bpi\n",
       "0  2017-01-08  913.5238\n",
       "1  2017-01-09  899.3500\n",
       "2  2017-01-10  904.7925\n",
       "3  2017-01-11  775.9813\n",
       "4  2017-01-12  802.8288"
      ]
     },
     "metadata": {},
     "output_type": "display_data"
    },
    {
     "data": {
      "text/plain": [
       "746"
      ]
     },
     "execution_count": 194,
     "metadata": {},
     "output_type": "execute_result"
    }
   ],
   "source": [
    "# Me deshago de las columnas innecesarias\n",
    "\n",
    "dataset2 = dataset2.drop([\"disclaimer\", \"time\"], axis = 1)\n",
    "display(dataset2.head())\n",
    "len(dataset2.index)"
   ]
  },
  {
   "cell_type": "code",
   "execution_count": 195,
   "metadata": {},
   "outputs": [
    {
     "data": {
      "text/html": [
       "<div>\n",
       "<style scoped>\n",
       "    .dataframe tbody tr th:only-of-type {\n",
       "        vertical-align: middle;\n",
       "    }\n",
       "\n",
       "    .dataframe tbody tr th {\n",
       "        vertical-align: top;\n",
       "    }\n",
       "\n",
       "    .dataframe thead th {\n",
       "        text-align: right;\n",
       "    }\n",
       "</style>\n",
       "<table border=\"1\" class=\"dataframe\">\n",
       "  <thead>\n",
       "    <tr style=\"text-align: right;\">\n",
       "      <th></th>\n",
       "      <th>Date</th>\n",
       "      <th>Count_Negatives</th>\n",
       "    </tr>\n",
       "  </thead>\n",
       "  <tbody>\n",
       "    <tr>\n",
       "      <th>0</th>\n",
       "      <td>2017-08-01</td>\n",
       "      <td>7100.0</td>\n",
       "    </tr>\n",
       "    <tr>\n",
       "      <th>1</th>\n",
       "      <td>2017-08-02</td>\n",
       "      <td>4397.0</td>\n",
       "    </tr>\n",
       "    <tr>\n",
       "      <th>2</th>\n",
       "      <td>2017-08-03</td>\n",
       "      <td>4888.0</td>\n",
       "    </tr>\n",
       "    <tr>\n",
       "      <th>3</th>\n",
       "      <td>2017-08-04</td>\n",
       "      <td>4195.0</td>\n",
       "    </tr>\n",
       "    <tr>\n",
       "      <th>4</th>\n",
       "      <td>2017-08-05</td>\n",
       "      <td>2897.0</td>\n",
       "    </tr>\n",
       "  </tbody>\n",
       "</table>\n",
       "</div>"
      ],
      "text/plain": [
       "        Date  Count_Negatives\n",
       "0 2017-08-01           7100.0\n",
       "1 2017-08-02           4397.0\n",
       "2 2017-08-03           4888.0\n",
       "3 2017-08-04           4195.0\n",
       "4 2017-08-05           2897.0"
      ]
     },
     "metadata": {},
     "output_type": "display_data"
    },
    {
     "data": {
      "text/plain": [
       "539"
      ]
     },
     "execution_count": 195,
     "metadata": {},
     "output_type": "execute_result"
    }
   ],
   "source": [
    "display(dataset.head())\n",
    "len(dataset.index)"
   ]
  },
  {
   "cell_type": "markdown",
   "metadata": {},
   "source": [
    "Veo que por alguna razón, hay más valores en el dataframe que he optenido de la API, que en el mío original. Por tanto, no voy a poder concatenar directamente. Voy a tener que añadir valores del bpi a una nueva columna de mi dataframe original solo cuando dataset[\"Date\"] y dataset2[\"Date\"] sean iguales. Para eso, van a tener que estar todos los valores de ambas columnas en el mismo type."
   ]
  },
  {
   "cell_type": "code",
   "execution_count": 196,
   "metadata": {},
   "outputs": [],
   "source": [
    "# Para poder convertir las fechas de dataset2[\"Date\"] a datetime, me tengo que deshacer primero de resgistros con \n",
    "# valores erróneos.\n",
    "\n",
    "dataset2 = dataset2[(dataset2[\"Date\"] != \"updatedISO\") & (dataset2[\"Date\"] != \"updated\")]"
   ]
  },
  {
   "cell_type": "code",
   "execution_count": 197,
   "metadata": {},
   "outputs": [],
   "source": [
    "# Convierto a datetime\n",
    "\n",
    "dataset2[\"Date\"] = pd.to_datetime(dataset2[\"Date\"], dayfirst = True)"
   ]
  },
  {
   "cell_type": "markdown",
   "metadata": {},
   "source": [
    "### ANALYSIS"
   ]
  },
  {
   "cell_type": "code",
   "execution_count": 198,
   "metadata": {},
   "outputs": [
    {
     "name": "stdout",
     "output_type": "stream",
     "text": [
      "Minimum value: 3.0\n",
      "Maximum value: 32918.0\n",
      "Average: 5882.769944341373\n",
      "Meadian: 4931.0\n",
      "Quantiles: 0.33    4176.54\n",
      "0.66    6010.16\n",
      "Name: Count_Negatives, dtype: float64\n"
     ]
    }
   ],
   "source": [
    "# Ahora tengo que hacer binning. Voy a aplicarlo a mi columna Count_Negatives de mi dataframe original, dividiéndola en \n",
    "# Few, Medium, Many.\n",
    "\n",
    "# Estudio los valores:\n",
    "\n",
    "print(\"Minimum value:\", dataset.Count_Negatives.min())\n",
    "print(\"Maximum value:\", dataset.Count_Negatives.max())\n",
    "print(\"Average:\", dataset.Count_Negatives.mean())\n",
    "print(\"Meadian:\", dataset.Count_Negatives.median())\n",
    "print(\"Quantiles:\", dataset.Count_Negatives.quantile([0.33, 0.66]))"
   ]
  },
  {
   "cell_type": "code",
   "execution_count": 199,
   "metadata": {},
   "outputs": [],
   "source": [
    "# Hago binning, llenando cada bin con el mismo número de valores. Los cortes serán los quantiles que he calculado \n",
    "# arriba.\n",
    "\n",
    "Count_labels = [\"Few\", \"Medium\", \"Many\"]\n",
    "\n",
    "bins = pd.qcut(dataset[\"Count_Negatives\"], 3, labels = Count_labels)\n",
    "dataset[\"Count_Negatives\"] = bins"
   ]
  },
  {
   "cell_type": "code",
   "execution_count": 200,
   "metadata": {},
   "outputs": [
    {
     "data": {
      "text/html": [
       "<div>\n",
       "<style scoped>\n",
       "    .dataframe tbody tr th:only-of-type {\n",
       "        vertical-align: middle;\n",
       "    }\n",
       "\n",
       "    .dataframe tbody tr th {\n",
       "        vertical-align: top;\n",
       "    }\n",
       "\n",
       "    .dataframe thead th {\n",
       "        text-align: right;\n",
       "    }\n",
       "</style>\n",
       "<table border=\"1\" class=\"dataframe\">\n",
       "  <thead>\n",
       "    <tr style=\"text-align: right;\">\n",
       "      <th></th>\n",
       "      <th>Date</th>\n",
       "      <th>Count_Negatives</th>\n",
       "    </tr>\n",
       "  </thead>\n",
       "  <tbody>\n",
       "    <tr>\n",
       "      <th>0</th>\n",
       "      <td>2017-08-01</td>\n",
       "      <td>Many</td>\n",
       "    </tr>\n",
       "    <tr>\n",
       "      <th>1</th>\n",
       "      <td>2017-08-02</td>\n",
       "      <td>Medium</td>\n",
       "    </tr>\n",
       "    <tr>\n",
       "      <th>2</th>\n",
       "      <td>2017-08-03</td>\n",
       "      <td>Medium</td>\n",
       "    </tr>\n",
       "    <tr>\n",
       "      <th>3</th>\n",
       "      <td>2017-08-04</td>\n",
       "      <td>Medium</td>\n",
       "    </tr>\n",
       "    <tr>\n",
       "      <th>4</th>\n",
       "      <td>2017-08-05</td>\n",
       "      <td>Few</td>\n",
       "    </tr>\n",
       "  </tbody>\n",
       "</table>\n",
       "</div>"
      ],
      "text/plain": [
       "        Date Count_Negatives\n",
       "0 2017-08-01            Many\n",
       "1 2017-08-02          Medium\n",
       "2 2017-08-03          Medium\n",
       "3 2017-08-04          Medium\n",
       "4 2017-08-05             Few"
      ]
     },
     "execution_count": 200,
     "metadata": {},
     "output_type": "execute_result"
    }
   ],
   "source": [
    "dataset.head()"
   ]
  },
  {
   "cell_type": "markdown",
   "metadata": {},
   "source": [
    "#### Voy a proceder a juntar los datos obtenidos a través de la API con mi dataset original. "
   ]
  },
  {
   "cell_type": "code",
   "execution_count": 201,
   "metadata": {},
   "outputs": [],
   "source": [
    "# Creo una nueva columna en mi dataframe original donde en BPI aparezcan los precios del bitcoin correspondientes a la\n",
    "# fecha, obtenidos del dataframe que he conseguido a través de la API.\n",
    "\n",
    "for i in dataset[\"Date\"]:\n",
    "    for e in dataset2[\"Date\"]:\n",
    "        if i == e:\n",
    "            dataset[\"BPI\"] = dataset2[\"bpi\"]"
   ]
  },
  {
   "cell_type": "code",
   "execution_count": 202,
   "metadata": {},
   "outputs": [
    {
     "data": {
      "text/html": [
       "<div>\n",
       "<style scoped>\n",
       "    .dataframe tbody tr th:only-of-type {\n",
       "        vertical-align: middle;\n",
       "    }\n",
       "\n",
       "    .dataframe tbody tr th {\n",
       "        vertical-align: top;\n",
       "    }\n",
       "\n",
       "    .dataframe thead th {\n",
       "        text-align: right;\n",
       "    }\n",
       "</style>\n",
       "<table border=\"1\" class=\"dataframe\">\n",
       "  <thead>\n",
       "    <tr style=\"text-align: right;\">\n",
       "      <th></th>\n",
       "      <th>Date</th>\n",
       "      <th>Count_Negatives</th>\n",
       "      <th>BPI</th>\n",
       "    </tr>\n",
       "  </thead>\n",
       "  <tbody>\n",
       "    <tr>\n",
       "      <th>0</th>\n",
       "      <td>2017-08-01</td>\n",
       "      <td>Many</td>\n",
       "      <td>913.5238</td>\n",
       "    </tr>\n",
       "    <tr>\n",
       "      <th>1</th>\n",
       "      <td>2017-08-02</td>\n",
       "      <td>Medium</td>\n",
       "      <td>899.3500</td>\n",
       "    </tr>\n",
       "    <tr>\n",
       "      <th>2</th>\n",
       "      <td>2017-08-03</td>\n",
       "      <td>Medium</td>\n",
       "      <td>904.7925</td>\n",
       "    </tr>\n",
       "    <tr>\n",
       "      <th>3</th>\n",
       "      <td>2017-08-04</td>\n",
       "      <td>Medium</td>\n",
       "      <td>775.9813</td>\n",
       "    </tr>\n",
       "    <tr>\n",
       "      <th>4</th>\n",
       "      <td>2017-08-05</td>\n",
       "      <td>Few</td>\n",
       "      <td>802.8288</td>\n",
       "    </tr>\n",
       "  </tbody>\n",
       "</table>\n",
       "</div>"
      ],
      "text/plain": [
       "        Date Count_Negatives       BPI\n",
       "0 2017-08-01            Many  913.5238\n",
       "1 2017-08-02          Medium  899.3500\n",
       "2 2017-08-03          Medium  904.7925\n",
       "3 2017-08-04          Medium  775.9813\n",
       "4 2017-08-05             Few  802.8288"
      ]
     },
     "execution_count": 202,
     "metadata": {},
     "output_type": "execute_result"
    }
   ],
   "source": [
    "dataset.head()"
   ]
  },
  {
   "cell_type": "code",
   "execution_count": 203,
   "metadata": {},
   "outputs": [],
   "source": [
    "# Ya lo tengo. Pero lo que me interesa es ver si el número de tuits que hablan mal sobre el bitcoin tienen efecto \n",
    "# sobre el precio del bitcoin del día siguiente. Por tanto, tengo que añadir una columna que muestre el crecimiento \n",
    "# del precio del bitcoin de un día para otro\n",
    "\n",
    "BPIs = []\n",
    "\n",
    "for i in range(len(dataset[\"BPI\"]) - 1):\n",
    "    BPIs.append((dataset[\"BPI\"][i+1] - dataset[\"BPI\"][i])/dataset[\"BPI\"][i])\n",
    "\n",
    "BPIs.append(0)"
   ]
  },
  {
   "cell_type": "code",
   "execution_count": 204,
   "metadata": {},
   "outputs": [
    {
     "name": "stdout",
     "output_type": "stream",
     "text": [
      "539\n",
      "539\n"
     ]
    }
   ],
   "source": [
    "print(len(BPIs))\n",
    "print(len(dataset.index))"
   ]
  },
  {
   "cell_type": "code",
   "execution_count": 205,
   "metadata": {},
   "outputs": [],
   "source": [
    "dataset[\"Price_Change\"] = BPIs"
   ]
  },
  {
   "cell_type": "code",
   "execution_count": 206,
   "metadata": {},
   "outputs": [
    {
     "data": {
      "text/html": [
       "<div>\n",
       "<style scoped>\n",
       "    .dataframe tbody tr th:only-of-type {\n",
       "        vertical-align: middle;\n",
       "    }\n",
       "\n",
       "    .dataframe tbody tr th {\n",
       "        vertical-align: top;\n",
       "    }\n",
       "\n",
       "    .dataframe thead th {\n",
       "        text-align: right;\n",
       "    }\n",
       "</style>\n",
       "<table border=\"1\" class=\"dataframe\">\n",
       "  <thead>\n",
       "    <tr style=\"text-align: right;\">\n",
       "      <th></th>\n",
       "      <th>Date</th>\n",
       "      <th>Count_Negatives</th>\n",
       "      <th>BPI</th>\n",
       "      <th>Price_Change</th>\n",
       "    </tr>\n",
       "  </thead>\n",
       "  <tbody>\n",
       "    <tr>\n",
       "      <th>0</th>\n",
       "      <td>2017-08-01</td>\n",
       "      <td>Many</td>\n",
       "      <td>913.5238</td>\n",
       "      <td>-0.015516</td>\n",
       "    </tr>\n",
       "    <tr>\n",
       "      <th>1</th>\n",
       "      <td>2017-08-02</td>\n",
       "      <td>Medium</td>\n",
       "      <td>899.3500</td>\n",
       "      <td>0.006052</td>\n",
       "    </tr>\n",
       "    <tr>\n",
       "      <th>2</th>\n",
       "      <td>2017-08-03</td>\n",
       "      <td>Medium</td>\n",
       "      <td>904.7925</td>\n",
       "      <td>-0.142365</td>\n",
       "    </tr>\n",
       "    <tr>\n",
       "      <th>3</th>\n",
       "      <td>2017-08-04</td>\n",
       "      <td>Medium</td>\n",
       "      <td>775.9813</td>\n",
       "      <td>0.034598</td>\n",
       "    </tr>\n",
       "    <tr>\n",
       "      <th>4</th>\n",
       "      <td>2017-08-05</td>\n",
       "      <td>Few</td>\n",
       "      <td>802.8288</td>\n",
       "      <td>0.029013</td>\n",
       "    </tr>\n",
       "  </tbody>\n",
       "</table>\n",
       "</div>"
      ],
      "text/plain": [
       "        Date Count_Negatives       BPI  Price_Change\n",
       "0 2017-08-01            Many  913.5238     -0.015516\n",
       "1 2017-08-02          Medium  899.3500      0.006052\n",
       "2 2017-08-03          Medium  904.7925     -0.142365\n",
       "3 2017-08-04          Medium  775.9813      0.034598\n",
       "4 2017-08-05             Few  802.8288      0.029013"
      ]
     },
     "execution_count": 206,
     "metadata": {},
     "output_type": "execute_result"
    }
   ],
   "source": [
    "dataset.head()"
   ]
  },
  {
   "cell_type": "code",
   "execution_count": 207,
   "metadata": {},
   "outputs": [
    {
     "data": {
      "text/html": [
       "<div>\n",
       "<style scoped>\n",
       "    .dataframe tbody tr th:only-of-type {\n",
       "        vertical-align: middle;\n",
       "    }\n",
       "\n",
       "    .dataframe tbody tr th {\n",
       "        vertical-align: top;\n",
       "    }\n",
       "\n",
       "    .dataframe thead th {\n",
       "        text-align: right;\n",
       "    }\n",
       "</style>\n",
       "<table border=\"1\" class=\"dataframe\">\n",
       "  <thead>\n",
       "    <tr style=\"text-align: right;\">\n",
       "      <th></th>\n",
       "      <th>Count_Negatives</th>\n",
       "      <th>Price_Change</th>\n",
       "    </tr>\n",
       "  </thead>\n",
       "  <tbody>\n",
       "    <tr>\n",
       "      <th>0</th>\n",
       "      <td>Many</td>\n",
       "      <td>-0.015516</td>\n",
       "    </tr>\n",
       "    <tr>\n",
       "      <th>1</th>\n",
       "      <td>Medium</td>\n",
       "      <td>0.006052</td>\n",
       "    </tr>\n",
       "    <tr>\n",
       "      <th>2</th>\n",
       "      <td>Medium</td>\n",
       "      <td>-0.142365</td>\n",
       "    </tr>\n",
       "    <tr>\n",
       "      <th>3</th>\n",
       "      <td>Medium</td>\n",
       "      <td>0.034598</td>\n",
       "    </tr>\n",
       "    <tr>\n",
       "      <th>4</th>\n",
       "      <td>Few</td>\n",
       "      <td>0.029013</td>\n",
       "    </tr>\n",
       "  </tbody>\n",
       "</table>\n",
       "</div>"
      ],
      "text/plain": [
       "  Count_Negatives  Price_Change\n",
       "0            Many     -0.015516\n",
       "1          Medium      0.006052\n",
       "2          Medium     -0.142365\n",
       "3          Medium      0.034598\n",
       "4             Few      0.029013"
      ]
     },
     "execution_count": 207,
     "metadata": {},
     "output_type": "execute_result"
    }
   ],
   "source": [
    "# Ya no me sirven las columnas Date y BPIs\n",
    "\n",
    "dataset = dataset.drop([\"BPI\", \"Date\"], axis =1)\n",
    "dataset.head()"
   ]
  },
  {
   "cell_type": "code",
   "execution_count": 208,
   "metadata": {},
   "outputs": [
    {
     "data": {
      "text/html": [
       "<div>\n",
       "<style scoped>\n",
       "    .dataframe tbody tr th:only-of-type {\n",
       "        vertical-align: middle;\n",
       "    }\n",
       "\n",
       "    .dataframe tbody tr th {\n",
       "        vertical-align: top;\n",
       "    }\n",
       "\n",
       "    .dataframe thead th {\n",
       "        text-align: right;\n",
       "    }\n",
       "</style>\n",
       "<table border=\"1\" class=\"dataframe\">\n",
       "  <thead>\n",
       "    <tr style=\"text-align: right;\">\n",
       "      <th></th>\n",
       "      <th>Price_Change</th>\n",
       "    </tr>\n",
       "    <tr>\n",
       "      <th>Count_Negatives</th>\n",
       "      <th></th>\n",
       "    </tr>\n",
       "  </thead>\n",
       "  <tbody>\n",
       "    <tr>\n",
       "      <th>Few</th>\n",
       "      <td>0.003122</td>\n",
       "    </tr>\n",
       "    <tr>\n",
       "      <th>Medium</th>\n",
       "      <td>0.003426</td>\n",
       "    </tr>\n",
       "    <tr>\n",
       "      <th>Many</th>\n",
       "      <td>0.007934</td>\n",
       "    </tr>\n",
       "  </tbody>\n",
       "</table>\n",
       "</div>"
      ],
      "text/plain": [
       "                 Price_Change\n",
       "Count_Negatives              \n",
       "Few                  0.003122\n",
       "Medium               0.003426\n",
       "Many                 0.007934"
      ]
     },
     "execution_count": 208,
     "metadata": {},
     "output_type": "execute_result"
    }
   ],
   "source": [
    "# Y ahora hago la media de los respectivos efectos de Few, Medium y Many\n",
    "\n",
    "dataset = dataset.groupby(\"Count_Negatives\").agg({\"Price_Change\": \"mean\"})\n",
    "\n",
    "dataset"
   ]
  },
  {
   "cell_type": "code",
   "execution_count": 209,
   "metadata": {},
   "outputs": [],
   "source": [
    "dataset = dataset.reset_index()"
   ]
  },
  {
   "cell_type": "code",
   "execution_count": 210,
   "metadata": {},
   "outputs": [
    {
     "data": {
      "text/html": [
       "<div>\n",
       "<style scoped>\n",
       "    .dataframe tbody tr th:only-of-type {\n",
       "        vertical-align: middle;\n",
       "    }\n",
       "\n",
       "    .dataframe tbody tr th {\n",
       "        vertical-align: top;\n",
       "    }\n",
       "\n",
       "    .dataframe thead th {\n",
       "        text-align: right;\n",
       "    }\n",
       "</style>\n",
       "<table border=\"1\" class=\"dataframe\">\n",
       "  <thead>\n",
       "    <tr style=\"text-align: right;\">\n",
       "      <th></th>\n",
       "      <th>Count_Negatives</th>\n",
       "      <th>Price_Change</th>\n",
       "    </tr>\n",
       "  </thead>\n",
       "  <tbody>\n",
       "    <tr>\n",
       "      <th>0</th>\n",
       "      <td>Few</td>\n",
       "      <td>0.003122</td>\n",
       "    </tr>\n",
       "    <tr>\n",
       "      <th>1</th>\n",
       "      <td>Medium</td>\n",
       "      <td>0.003426</td>\n",
       "    </tr>\n",
       "    <tr>\n",
       "      <th>2</th>\n",
       "      <td>Many</td>\n",
       "      <td>0.007934</td>\n",
       "    </tr>\n",
       "  </tbody>\n",
       "</table>\n",
       "</div>"
      ],
      "text/plain": [
       "  Count_Negatives  Price_Change\n",
       "0             Few      0.003122\n",
       "1          Medium      0.003426\n",
       "2            Many      0.007934"
      ]
     },
     "execution_count": 210,
     "metadata": {},
     "output_type": "execute_result"
    }
   ],
   "source": [
    "dataset"
   ]
  },
  {
   "cell_type": "markdown",
   "metadata": {},
   "source": [
    "### REPORTING"
   ]
  },
  {
   "cell_type": "code",
   "execution_count": 211,
   "metadata": {},
   "outputs": [],
   "source": [
    "# Importo matplotlib para visualizar gráficos\n",
    "\n",
    "%matplotlib inline\n",
    "import matplotlib\n",
    "import matplotlib.pyplot as plt\n",
    "import seaborn as sns"
   ]
  },
  {
   "cell_type": "code",
   "execution_count": 212,
   "metadata": {},
   "outputs": [
    {
     "data": {
      "text/plain": [
       "Text(0.5, 1.0, 'Effect of negative tweets on Bitcoin price\\n')"
      ]
     },
     "execution_count": 212,
     "metadata": {},
     "output_type": "execute_result"
    },
    {
     "data": {
      "image/png": "[encoded data removed]",
      "text/plain": [
       "<Figure size 648x576 with 1 Axes>"
      ]
     },
     "metadata": {
      "needs_background": "light"
     },
     "output_type": "display_data"
    }
   ],
   "source": [
    "# dataset.plot.bar()\n",
    "\n",
    "title = \"Effect of negative tweets on Bitcoin price\"\n",
    "\n",
    "fig, ax = plt.subplots(figsize = (9,8))\n",
    "barchart = sns.barplot(data = dataset, x = \"Count_Negatives\", y = \"Price_Change\")\n",
    "plt.title(title + \"\\n\", fontsize = 20)"
   ]
  },
  {
   "cell_type": "code",
   "execution_count": 213,
   "metadata": {},
   "outputs": [],
   "source": [
    "fig = barchart.get_figure()\n",
    "fig.savefig(title + '.png')"
   ]
  },
  {
   "cell_type": "markdown",
   "metadata": {},
   "source": [
    "Los resultados muestran que cuando el número de tuits con carga negativa se encuentra en mayor rango, el precio del bitcoin del día posterior tiene de media un mayor crecimiento."
   ]
  },
  {
   "cell_type": "markdown",
   "metadata": {},
   "source": [
    "Esto puede deberse a:\n",
    "\n",
    "#### - \"Cualquier publicidad es buena publicidad\". \n",
    "\n",
    "Cuanto más se hable de algo, bien o mal, más presente estará entre la sociedad, y más importancia cobrará. Twitter no es precisamente una plataforma seria a donde acudan inversores a buscar tendencias bursátiles entre las opiniones de los tuiteros. Por lo tanto, más que la calidad del contenido, es la cantidad del contenido de Twitter la que parece reflejar el acrecimiento difusivo de la criptomoneda, lo cual sí que tiene un golpe de efecto sobre el valor de la misma. (Podría calcular ahora si el gráfico es parecido cuando en lugar de \"tuits negativos\", mido el efecto de \"tuits totales que hablen sobre bitcoin\").\n",
    "\n",
    "#### -  Críticas al crecimiento de la burbuja.\n",
    "Durante el exponencial crecimiento del bitcoin a finales de 2017, se escuchaban muchos comentarios que auguraban la explosión de la burbuja. Por tanto, a medida que su valor crecía, más en picado parecía que iba a ser la caída, y más \"morbo\" tenía comentarlo.\n",
    "\n",
    "#### - No existe tal relación\n",
    "Puede ser que, en contraste, el número de tuits negativos no tenga ningún efecto sobre el precio del bitcoin del día siguiente. Es posible que el efecto de causalidad sea inverso: el número de tuits negativos sobre el bitcoin es una consecuencia del crecimiento de su precio, y no al revés. Además, tanto el mundo de las inversiones (sobre todo en un sector digital), como la actividad en Twitter tiene un movimiento constante, y a lo largo del día puede variar todo en gran medida. "
   ]
  },
  {
   "cell_type": "markdown",
   "metadata": {},
   "source": [
    "En consecuencia, sería interesante continuar este análisis estudiando el efecto de los \"tuits totales que hablen sobre bitcoin\", comprobando si hay algún tipo de relación cuando se mide el efecto con causalidad inversa, y categorizando los registros en franjas temporales menores (2h en lugar de 24h)."
   ]
  },
  {
   "cell_type": "code",
   "execution_count": null,
   "metadata": {},
   "outputs": [],
   "source": []
  }
 ],
 "metadata": {
  "kernelspec": {
   "display_name": "Python 3",
   "language": "python",
   "name": "python3"
  },
  "language_info": {
   "codemirror_mode": {
    "name": "ipython",
    "version": 3
   },
   "file_extension": ".py",
   "mimetype": "text/x-python",
   "name": "python",
   "nbconvert_exporter": "python",
   "pygments_lexer": "ipython3",
   "version": "3.7.3"
  }
 },
 "nbformat": 4,
 "nbformat_minor": 2
}

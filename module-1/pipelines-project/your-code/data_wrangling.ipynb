{
 "cells": [
  {
   "cell_type": "markdown",
   "metadata": {},
   "source": [
    "# Análisis sobre el efecto de los tuits (y otros factores) en el precio del Bitcoin y otras criptomonedas."
   ]
  },
  {
   "cell_type": "code",
   "execution_count": 372,
   "metadata": {},
   "outputs": [],
   "source": [
    "# Importo pandas para trabajar con dataframes, y numpy para posibles operaciones numéricas con los datos.\n",
    "\n",
    "import pandas as pd\n",
    "import numpy as np"
   ]
  },
  {
   "cell_type": "code",
   "execution_count": 373,
   "metadata": {},
   "outputs": [],
   "source": [
    "dataset = pd.read_csv(\"Data_To_Hourervals_no_filter.csv\", sep=';')\n",
    "\n",
    "url_dataset = \"https://www.kaggle.com/jaimebadiola/bitcoin-tweets-and-price/version/1\""
   ]
  },
  {
   "cell_type": "code",
   "execution_count": 374,
   "metadata": {},
   "outputs": [
    {
     "data": {
      "text/html": [
       "<div>\n",
       "<style scoped>\n",
       "    .dataframe tbody tr th:only-of-type {\n",
       "        vertical-align: middle;\n",
       "    }\n",
       "\n",
       "    .dataframe tbody tr th {\n",
       "        vertical-align: top;\n",
       "    }\n",
       "\n",
       "    .dataframe thead th {\n",
       "        text-align: right;\n",
       "    }\n",
       "</style>\n",
       "<table border=\"1\" class=\"dataframe\">\n",
       "  <thead>\n",
       "    <tr style=\"text-align: right;\">\n",
       "      <th></th>\n",
       "      <th>Date</th>\n",
       "      <th>Compound_Score</th>\n",
       "      <th>n</th>\n",
       "      <th>Count_Negatives</th>\n",
       "      <th>Count_Positives</th>\n",
       "      <th>Count_Neutrals</th>\n",
       "      <th>Sent_Negatives</th>\n",
       "      <th>Sent_Positives</th>\n",
       "      <th>Open</th>\n",
       "      <th>High</th>\n",
       "      <th>Low</th>\n",
       "      <th>Close</th>\n",
       "      <th>Volume (BTC)</th>\n",
       "      <th>Volume (Currency)</th>\n",
       "    </tr>\n",
       "  </thead>\n",
       "  <tbody>\n",
       "    <tr>\n",
       "      <th>0</th>\n",
       "      <td>01/08/2017 0:00</td>\n",
       "      <td>0.097156</td>\n",
       "      <td>1027.0</td>\n",
       "      <td>148.0</td>\n",
       "      <td>403.0</td>\n",
       "      <td>476.0</td>\n",
       "      <td>-0.504061</td>\n",
       "      <td>0.432704</td>\n",
       "      <td>2855.81</td>\n",
       "      <td>2863.06</td>\n",
       "      <td>2823.00</td>\n",
       "      <td>2825.92</td>\n",
       "      <td>184.02</td>\n",
       "      <td>522951,00</td>\n",
       "    </tr>\n",
       "    <tr>\n",
       "      <th>1</th>\n",
       "      <td>01/08/2017 1:00</td>\n",
       "      <td>0.064507</td>\n",
       "      <td>778.0</td>\n",
       "      <td>143.0</td>\n",
       "      <td>239.0</td>\n",
       "      <td>396.0</td>\n",
       "      <td>-0.381007</td>\n",
       "      <td>0.437953</td>\n",
       "      <td>2823.01</td>\n",
       "      <td>2860.02</td>\n",
       "      <td>2821.01</td>\n",
       "      <td>2853.38</td>\n",
       "      <td>77.3</td>\n",
       "      <td>219605.16</td>\n",
       "    </tr>\n",
       "    <tr>\n",
       "      <th>2</th>\n",
       "      <td>01/08/2017 2:00</td>\n",
       "      <td>0.119218</td>\n",
       "      <td>836.0</td>\n",
       "      <td>118.0</td>\n",
       "      <td>333.0</td>\n",
       "      <td>385.0</td>\n",
       "      <td>-0.394999</td>\n",
       "      <td>0.439269</td>\n",
       "      <td>2846.27</td>\n",
       "      <td>2858.04</td>\n",
       "      <td>2837.31</td>\n",
       "      <td>2841.60</td>\n",
       "      <td>135.83</td>\n",
       "      <td>386739.15</td>\n",
       "    </tr>\n",
       "    <tr>\n",
       "      <th>3</th>\n",
       "      <td>01/08/2017 3:00</td>\n",
       "      <td>0.004163</td>\n",
       "      <td>984.0</td>\n",
       "      <td>262.0</td>\n",
       "      <td>279.0</td>\n",
       "      <td>443.0</td>\n",
       "      <td>-0.431913</td>\n",
       "      <td>0.420278</td>\n",
       "      <td>2841.84</td>\n",
       "      <td>2863.88</td>\n",
       "      <td>2837.73</td>\n",
       "      <td>2862.93</td>\n",
       "      <td>143.2</td>\n",
       "      <td>408360.03</td>\n",
       "    </tr>\n",
       "    <tr>\n",
       "      <th>4</th>\n",
       "      <td>01/08/2017 4:00</td>\n",
       "      <td>0.065608</td>\n",
       "      <td>751.0</td>\n",
       "      <td>133.0</td>\n",
       "      <td>237.0</td>\n",
       "      <td>381.0</td>\n",
       "      <td>-0.405835</td>\n",
       "      <td>0.435645</td>\n",
       "      <td>2862.92</td>\n",
       "      <td>2876.00</td>\n",
       "      <td>2848.11</td>\n",
       "      <td>2874.99</td>\n",
       "      <td>222.53</td>\n",
       "      <td>637045.88</td>\n",
       "    </tr>\n",
       "  </tbody>\n",
       "</table>\n",
       "</div>"
      ],
      "text/plain": [
       "              Date  Compound_Score       n  Count_Negatives  Count_Positives  \\\n",
       "0  01/08/2017 0:00        0.097156  1027.0            148.0            403.0   \n",
       "1  01/08/2017 1:00        0.064507   778.0            143.0            239.0   \n",
       "2  01/08/2017 2:00        0.119218   836.0            118.0            333.0   \n",
       "3  01/08/2017 3:00        0.004163   984.0            262.0            279.0   \n",
       "4  01/08/2017 4:00        0.065608   751.0            133.0            237.0   \n",
       "\n",
       "   Count_Neutrals  Sent_Negatives  Sent_Positives     Open     High      Low  \\\n",
       "0           476.0       -0.504061        0.432704  2855.81  2863.06  2823.00   \n",
       "1           396.0       -0.381007        0.437953  2823.01  2860.02  2821.01   \n",
       "2           385.0       -0.394999        0.439269  2846.27  2858.04  2837.31   \n",
       "3           443.0       -0.431913        0.420278  2841.84  2863.88  2837.73   \n",
       "4           381.0       -0.405835        0.435645  2862.92  2876.00  2848.11   \n",
       "\n",
       "     Close Volume (BTC) Volume (Currency)  \n",
       "0  2825.92       184.02         522951,00  \n",
       "1  2853.38         77.3         219605.16  \n",
       "2  2841.60       135.83         386739.15  \n",
       "3  2862.93        143.2         408360.03  \n",
       "4  2874.99       222.53         637045.88  "
      ]
     },
     "execution_count": 374,
     "metadata": {},
     "output_type": "execute_result"
    }
   ],
   "source": [
    "dataset.head()"
   ]
  },
  {
   "cell_type": "code",
   "execution_count": 375,
   "metadata": {},
   "outputs": [
    {
     "name": "stdout",
     "output_type": "stream",
     "text": [
      "['Date' 'Compound_Score' 'n' 'Count_Negatives' 'Count_Positives'\n",
      " 'Count_Neutrals' 'Sent_Negatives' 'Sent_Positives' 'Open' 'High' 'Low'\n",
      " 'Close' 'Volume (BTC)' 'Volume (Currency)']\n"
     ]
    }
   ],
   "source": [
    "# Muestro los nombres de las columnas de mi dataset, para ver si me puedo deshacer de alguna que no \n",
    "# tenga relevancia para mi análisis.\n",
    "\n",
    "print(dataset.columns.values)"
   ]
  },
  {
   "cell_type": "markdown",
   "metadata": {},
   "source": [
    "### Voy a comparar el número de tuits negativos sobre bitcoin con su precio de cierre del día siguiente."
   ]
  },
  {
   "cell_type": "code",
   "execution_count": 376,
   "metadata": {},
   "outputs": [
    {
     "name": "stdout",
     "output_type": "stream",
     "text": [
      "Dataset rows: 12936\n",
      "Date: 12936\n",
      "Compound_Score: 12934\n",
      "n: 2913\n",
      "Count_Negatives: 1152\n",
      "Count_Positives: 1585\n",
      "Count_Neutrals: 1755\n",
      "Sent_Negatives: 12934\n",
      "Sent_Positives: 12936\n",
      "Open: 12676\n",
      "High: 12322\n",
      "Low: 12426\n",
      "Close: 12674\n",
      "Volume (BTC): 12876\n",
      "Volume (Currency): 4591\n",
      "None\n"
     ]
    }
   ],
   "source": [
    "# Me interesan Date, Count_Negatives, Close, y la columna que tenga menos duplicates para guardarla hasta el \n",
    "# final. # Miro a ver cuál es:\n",
    "\n",
    "def less_duplicates(dataset):\n",
    "    print(\"Dataset rows:\", len(dataset.index))\n",
    "    for a in dataset:\n",
    "        values = []\n",
    "        for v in dataset[\"{}\".format(a)]:\n",
    "            values.append(v)\n",
    "        print(\"{}:\".format(a), len(set(values)))\n",
    "\n",
    "print(less_duplicates(dataset))"
   ]
  },
  {
   "cell_type": "code",
   "execution_count": 377,
   "metadata": {},
   "outputs": [],
   "source": [
    "# Me sirve Date. Por tanto, me deshago de todas las columnas que no necesito:\n",
    "\n",
    "mis_columnas = [\"Date\", \"Count_Negatives\", \"Close\"]\n",
    "\n",
    "for columna in dataset.columns.values:\n",
    "    if columna not in mis_columnas:\n",
    "        dataset = dataset.drop(columna, axis = 1)"
   ]
  },
  {
   "cell_type": "code",
   "execution_count": 378,
   "metadata": {},
   "outputs": [
    {
     "data": {
      "text/html": [
       "<div>\n",
       "<style scoped>\n",
       "    .dataframe tbody tr th:only-of-type {\n",
       "        vertical-align: middle;\n",
       "    }\n",
       "\n",
       "    .dataframe tbody tr th {\n",
       "        vertical-align: top;\n",
       "    }\n",
       "\n",
       "    .dataframe thead th {\n",
       "        text-align: right;\n",
       "    }\n",
       "</style>\n",
       "<table border=\"1\" class=\"dataframe\">\n",
       "  <thead>\n",
       "    <tr style=\"text-align: right;\">\n",
       "      <th></th>\n",
       "      <th>Date</th>\n",
       "      <th>Count_Negatives</th>\n",
       "      <th>Close</th>\n",
       "    </tr>\n",
       "  </thead>\n",
       "  <tbody>\n",
       "    <tr>\n",
       "      <th>0</th>\n",
       "      <td>01/08/2017 0:00</td>\n",
       "      <td>148.0</td>\n",
       "      <td>2825.92</td>\n",
       "    </tr>\n",
       "    <tr>\n",
       "      <th>1</th>\n",
       "      <td>01/08/2017 1:00</td>\n",
       "      <td>143.0</td>\n",
       "      <td>2853.38</td>\n",
       "    </tr>\n",
       "    <tr>\n",
       "      <th>2</th>\n",
       "      <td>01/08/2017 2:00</td>\n",
       "      <td>118.0</td>\n",
       "      <td>2841.60</td>\n",
       "    </tr>\n",
       "    <tr>\n",
       "      <th>3</th>\n",
       "      <td>01/08/2017 3:00</td>\n",
       "      <td>262.0</td>\n",
       "      <td>2862.93</td>\n",
       "    </tr>\n",
       "    <tr>\n",
       "      <th>4</th>\n",
       "      <td>01/08/2017 4:00</td>\n",
       "      <td>133.0</td>\n",
       "      <td>2874.99</td>\n",
       "    </tr>\n",
       "  </tbody>\n",
       "</table>\n",
       "</div>"
      ],
      "text/plain": [
       "              Date  Count_Negatives    Close\n",
       "0  01/08/2017 0:00            148.0  2825.92\n",
       "1  01/08/2017 1:00            143.0  2853.38\n",
       "2  01/08/2017 2:00            118.0  2841.60\n",
       "3  01/08/2017 3:00            262.0  2862.93\n",
       "4  01/08/2017 4:00            133.0  2874.99"
      ]
     },
     "execution_count": 378,
     "metadata": {},
     "output_type": "execute_result"
    }
   ],
   "source": [
    "dataset.head()"
   ]
  },
  {
   "cell_type": "code",
   "execution_count": 379,
   "metadata": {},
   "outputs": [
    {
     "data": {
      "text/plain": [
       "Count_Negatives    271\n",
       "dtype: int64"
      ]
     },
     "execution_count": 379,
     "metadata": {},
     "output_type": "execute_result"
    }
   ],
   "source": [
    "# Compruebo a ver cuántos valores nulos tengo en cada columna:\n",
    "\n",
    "null_cols = dataset.isnull().sum()\n",
    "\n",
    "null_cols[null_cols > 0]"
   ]
  },
  {
   "cell_type": "code",
   "execution_count": 380,
   "metadata": {},
   "outputs": [],
   "source": [
    "# No me van a servir esos registros, así que me deshago de ellos:\n",
    "\n",
    "dataset = dataset[dataset.Count_Negatives.notnull()]"
   ]
  },
  {
   "cell_type": "code",
   "execution_count": 381,
   "metadata": {},
   "outputs": [
    {
     "data": {
      "text/plain": [
       "Series([], dtype: int64)"
      ]
     },
     "execution_count": 381,
     "metadata": {},
     "output_type": "execute_result"
    }
   ],
   "source": [
    "null_cols = dataset.isnull().sum()\n",
    "\n",
    "null_cols[null_cols > 0]"
   ]
  },
  {
   "cell_type": "code",
   "execution_count": 382,
   "metadata": {},
   "outputs": [
    {
     "data": {
      "text/html": [
       "<div>\n",
       "<style scoped>\n",
       "    .dataframe tbody tr th:only-of-type {\n",
       "        vertical-align: middle;\n",
       "    }\n",
       "\n",
       "    .dataframe tbody tr th {\n",
       "        vertical-align: top;\n",
       "    }\n",
       "\n",
       "    .dataframe thead th {\n",
       "        text-align: right;\n",
       "    }\n",
       "</style>\n",
       "<table border=\"1\" class=\"dataframe\">\n",
       "  <thead>\n",
       "    <tr style=\"text-align: right;\">\n",
       "      <th></th>\n",
       "      <th>Date</th>\n",
       "      <th>Count_Negatives</th>\n",
       "      <th>Close</th>\n",
       "    </tr>\n",
       "  </thead>\n",
       "  <tbody>\n",
       "    <tr>\n",
       "      <th>0</th>\n",
       "      <td>01/08/2017 0:00</td>\n",
       "      <td>148.0</td>\n",
       "      <td>2825.92</td>\n",
       "    </tr>\n",
       "    <tr>\n",
       "      <th>1</th>\n",
       "      <td>01/08/2017 1:00</td>\n",
       "      <td>143.0</td>\n",
       "      <td>2853.38</td>\n",
       "    </tr>\n",
       "    <tr>\n",
       "      <th>2</th>\n",
       "      <td>01/08/2017 2:00</td>\n",
       "      <td>118.0</td>\n",
       "      <td>2841.60</td>\n",
       "    </tr>\n",
       "    <tr>\n",
       "      <th>3</th>\n",
       "      <td>01/08/2017 3:00</td>\n",
       "      <td>262.0</td>\n",
       "      <td>2862.93</td>\n",
       "    </tr>\n",
       "    <tr>\n",
       "      <th>4</th>\n",
       "      <td>01/08/2017 4:00</td>\n",
       "      <td>133.0</td>\n",
       "      <td>2874.99</td>\n",
       "    </tr>\n",
       "  </tbody>\n",
       "</table>\n",
       "</div>"
      ],
      "text/plain": [
       "              Date  Count_Negatives    Close\n",
       "0  01/08/2017 0:00            148.0  2825.92\n",
       "1  01/08/2017 1:00            143.0  2853.38\n",
       "2  01/08/2017 2:00            118.0  2841.60\n",
       "3  01/08/2017 3:00            262.0  2862.93\n",
       "4  01/08/2017 4:00            133.0  2874.99"
      ]
     },
     "execution_count": 382,
     "metadata": {},
     "output_type": "execute_result"
    }
   ],
   "source": [
    "dataset.head()"
   ]
  },
  {
   "cell_type": "code",
   "execution_count": 383,
   "metadata": {},
   "outputs": [],
   "source": [
    "# Quiero los valores de los datos en datetime, para poder categorizarlos en franjas temporales:\n",
    "\n",
    "dataset[\"Date\"] = pd.to_datetime(dataset[\"Date\"], dayfirst = True)"
   ]
  },
  {
   "cell_type": "code",
   "execution_count": 384,
   "metadata": {},
   "outputs": [],
   "source": [
    "dataset[\"Date\"] = dataset[\"Date\"].dt.date"
   ]
  },
  {
   "cell_type": "code",
   "execution_count": 385,
   "metadata": {},
   "outputs": [
    {
     "data": {
      "text/html": [
       "<div>\n",
       "<style scoped>\n",
       "    .dataframe tbody tr th:only-of-type {\n",
       "        vertical-align: middle;\n",
       "    }\n",
       "\n",
       "    .dataframe tbody tr th {\n",
       "        vertical-align: top;\n",
       "    }\n",
       "\n",
       "    .dataframe thead th {\n",
       "        text-align: right;\n",
       "    }\n",
       "</style>\n",
       "<table border=\"1\" class=\"dataframe\">\n",
       "  <thead>\n",
       "    <tr style=\"text-align: right;\">\n",
       "      <th></th>\n",
       "      <th>Date</th>\n",
       "      <th>Count_Negatives</th>\n",
       "      <th>Close</th>\n",
       "    </tr>\n",
       "  </thead>\n",
       "  <tbody>\n",
       "    <tr>\n",
       "      <th>0</th>\n",
       "      <td>2017-08-01</td>\n",
       "      <td>148.0</td>\n",
       "      <td>2825.92</td>\n",
       "    </tr>\n",
       "    <tr>\n",
       "      <th>1</th>\n",
       "      <td>2017-08-01</td>\n",
       "      <td>143.0</td>\n",
       "      <td>2853.38</td>\n",
       "    </tr>\n",
       "    <tr>\n",
       "      <th>2</th>\n",
       "      <td>2017-08-01</td>\n",
       "      <td>118.0</td>\n",
       "      <td>2841.60</td>\n",
       "    </tr>\n",
       "    <tr>\n",
       "      <th>3</th>\n",
       "      <td>2017-08-01</td>\n",
       "      <td>262.0</td>\n",
       "      <td>2862.93</td>\n",
       "    </tr>\n",
       "    <tr>\n",
       "      <th>4</th>\n",
       "      <td>2017-08-01</td>\n",
       "      <td>133.0</td>\n",
       "      <td>2874.99</td>\n",
       "    </tr>\n",
       "  </tbody>\n",
       "</table>\n",
       "</div>"
      ],
      "text/plain": [
       "         Date  Count_Negatives    Close\n",
       "0  2017-08-01            148.0  2825.92\n",
       "1  2017-08-01            143.0  2853.38\n",
       "2  2017-08-01            118.0  2841.60\n",
       "3  2017-08-01            262.0  2862.93\n",
       "4  2017-08-01            133.0  2874.99"
      ]
     },
     "execution_count": 385,
     "metadata": {},
     "output_type": "execute_result"
    }
   ],
   "source": [
    "dataset.head()"
   ]
  },
  {
   "cell_type": "code",
   "execution_count": 386,
   "metadata": {},
   "outputs": [],
   "source": [
    "dataset = dataset.set_index(\"Date\")"
   ]
  },
  {
   "cell_type": "code",
   "execution_count": 387,
   "metadata": {},
   "outputs": [],
   "source": [
    "# Ahora agrupo por día:\n",
    "\n",
    "dataset = dataset.groupby(\"Date\").agg({\"Count_Negatives\": \"sum\", \"Close\": \"mean\"})"
   ]
  },
  {
   "cell_type": "code",
   "execution_count": 388,
   "metadata": {},
   "outputs": [
    {
     "data": {
      "text/html": [
       "<div>\n",
       "<style scoped>\n",
       "    .dataframe tbody tr th:only-of-type {\n",
       "        vertical-align: middle;\n",
       "    }\n",
       "\n",
       "    .dataframe tbody tr th {\n",
       "        vertical-align: top;\n",
       "    }\n",
       "\n",
       "    .dataframe thead th {\n",
       "        text-align: right;\n",
       "    }\n",
       "</style>\n",
       "<table border=\"1\" class=\"dataframe\">\n",
       "  <thead>\n",
       "    <tr style=\"text-align: right;\">\n",
       "      <th></th>\n",
       "      <th>Count_Negatives</th>\n",
       "      <th>Close</th>\n",
       "    </tr>\n",
       "    <tr>\n",
       "      <th>Date</th>\n",
       "      <th></th>\n",
       "      <th></th>\n",
       "    </tr>\n",
       "  </thead>\n",
       "  <tbody>\n",
       "    <tr>\n",
       "      <th>2017-08-01</th>\n",
       "      <td>7100.0</td>\n",
       "      <td>2764.869167</td>\n",
       "    </tr>\n",
       "    <tr>\n",
       "      <th>2017-08-02</th>\n",
       "      <td>4397.0</td>\n",
       "      <td>2711.504737</td>\n",
       "    </tr>\n",
       "    <tr>\n",
       "      <th>2017-08-03</th>\n",
       "      <td>4888.0</td>\n",
       "      <td>2745.320417</td>\n",
       "    </tr>\n",
       "    <tr>\n",
       "      <th>2017-08-04</th>\n",
       "      <td>4195.0</td>\n",
       "      <td>2827.973750</td>\n",
       "    </tr>\n",
       "    <tr>\n",
       "      <th>2017-08-05</th>\n",
       "      <td>2897.0</td>\n",
       "      <td>3161.758750</td>\n",
       "    </tr>\n",
       "  </tbody>\n",
       "</table>\n",
       "</div>"
      ],
      "text/plain": [
       "            Count_Negatives        Close\n",
       "Date                                    \n",
       "2017-08-01           7100.0  2764.869167\n",
       "2017-08-02           4397.0  2711.504737\n",
       "2017-08-03           4888.0  2745.320417\n",
       "2017-08-04           4195.0  2827.973750\n",
       "2017-08-05           2897.0  3161.758750"
      ]
     },
     "execution_count": 388,
     "metadata": {},
     "output_type": "execute_result"
    }
   ],
   "source": [
    "dataset.head()"
   ]
  },
  {
   "cell_type": "code",
   "execution_count": 389,
   "metadata": {},
   "outputs": [
    {
     "name": "stdout",
     "output_type": "stream",
     "text": [
      "Minimum value: 3.0\n",
      "Maximum value: 32918.0\n",
      "Average: 5882.769944341373\n",
      "Meadian: 4931.0\n",
      "Quantiles: 0.33    4176.54\n",
      "0.66    6010.16\n",
      "Name: Count_Negatives, dtype: float64\n"
     ]
    }
   ],
   "source": [
    "# Ahora tengo que hacer binning. Voy a aplicarlo a mi columna count, posiblemente dividiéndola en \n",
    "# Few, Medium, Many.\n",
    "\n",
    "# Voy a estudiar los valores:\n",
    "\n",
    "print(\"Minimum value:\", dataset.Count_Negatives.min())\n",
    "print(\"Maximum value:\", dataset.Count_Negatives.max())\n",
    "print(\"Average:\", dataset.Count_Negatives.mean())\n",
    "print(\"Meadian:\", dataset.Count_Negatives.median())\n",
    "print(\"Quantiles:\", dataset.Count_Negatives.quantile([0.33, 0.66]))"
   ]
  },
  {
   "cell_type": "code",
   "execution_count": 390,
   "metadata": {},
   "outputs": [],
   "source": [
    "# Para hacer binning, voy a utilizar los quantiles.\n",
    "\n",
    "Count_labels = [\"Few\", \"Medium\", \"Many\"]\n",
    "\n",
    "bins = pd.qcut(dataset[\"Count_Negatives\"], 3, labels = Count_labels)\n",
    "dataset[\"Count_Negatives\"] = bins"
   ]
  },
  {
   "cell_type": "code",
   "execution_count": 391,
   "metadata": {},
   "outputs": [
    {
     "data": {
      "text/html": [
       "<div>\n",
       "<style scoped>\n",
       "    .dataframe tbody tr th:only-of-type {\n",
       "        vertical-align: middle;\n",
       "    }\n",
       "\n",
       "    .dataframe tbody tr th {\n",
       "        vertical-align: top;\n",
       "    }\n",
       "\n",
       "    .dataframe thead th {\n",
       "        text-align: right;\n",
       "    }\n",
       "</style>\n",
       "<table border=\"1\" class=\"dataframe\">\n",
       "  <thead>\n",
       "    <tr style=\"text-align: right;\">\n",
       "      <th></th>\n",
       "      <th>Count_Negatives</th>\n",
       "      <th>Close</th>\n",
       "    </tr>\n",
       "    <tr>\n",
       "      <th>Date</th>\n",
       "      <th></th>\n",
       "      <th></th>\n",
       "    </tr>\n",
       "  </thead>\n",
       "  <tbody>\n",
       "    <tr>\n",
       "      <th>2017-08-01</th>\n",
       "      <td>Many</td>\n",
       "      <td>2764.869167</td>\n",
       "    </tr>\n",
       "    <tr>\n",
       "      <th>2017-08-02</th>\n",
       "      <td>Medium</td>\n",
       "      <td>2711.504737</td>\n",
       "    </tr>\n",
       "    <tr>\n",
       "      <th>2017-08-03</th>\n",
       "      <td>Medium</td>\n",
       "      <td>2745.320417</td>\n",
       "    </tr>\n",
       "    <tr>\n",
       "      <th>2017-08-04</th>\n",
       "      <td>Medium</td>\n",
       "      <td>2827.973750</td>\n",
       "    </tr>\n",
       "    <tr>\n",
       "      <th>2017-08-05</th>\n",
       "      <td>Few</td>\n",
       "      <td>3161.758750</td>\n",
       "    </tr>\n",
       "  </tbody>\n",
       "</table>\n",
       "</div>"
      ],
      "text/plain": [
       "           Count_Negatives        Close\n",
       "Date                                   \n",
       "2017-08-01            Many  2764.869167\n",
       "2017-08-02          Medium  2711.504737\n",
       "2017-08-03          Medium  2745.320417\n",
       "2017-08-04          Medium  2827.973750\n",
       "2017-08-05             Few  3161.758750"
      ]
     },
     "execution_count": 391,
     "metadata": {},
     "output_type": "execute_result"
    }
   ],
   "source": [
    "dataset.head()"
   ]
  },
  {
   "cell_type": "code",
   "execution_count": 392,
   "metadata": {},
   "outputs": [],
   "source": [
    "# Ahora voy a empezar a usar APIs para encontrar datos interesantes(precio bitcoin diario, precio ethereum diario, \n",
    "# precio oro diario, cambio-dolar bitcoin diario)\n",
    "\n",
    "url = \"https://api.coindesk.com/v1/bpi/historical/close.json?start=2017-01-08&end=2019-01-21\"\n"
   ]
  },
  {
   "cell_type": "code",
   "execution_count": 393,
   "metadata": {},
   "outputs": [],
   "source": [
    "import json\n",
    "import requests"
   ]
  },
  {
   "cell_type": "code",
   "execution_count": 394,
   "metadata": {},
   "outputs": [],
   "source": [
    "response = requests.get(url)\n",
    "results = response.json()"
   ]
  },
  {
   "cell_type": "code",
   "execution_count": 395,
   "metadata": {},
   "outputs": [],
   "source": [
    "dataset2 = pd.DataFrame(results)"
   ]
  },
  {
   "cell_type": "code",
   "execution_count": 396,
   "metadata": {},
   "outputs": [
    {
     "data": {
      "text/html": [
       "<div>\n",
       "<style scoped>\n",
       "    .dataframe tbody tr th:only-of-type {\n",
       "        vertical-align: middle;\n",
       "    }\n",
       "\n",
       "    .dataframe tbody tr th {\n",
       "        vertical-align: top;\n",
       "    }\n",
       "\n",
       "    .dataframe thead th {\n",
       "        text-align: right;\n",
       "    }\n",
       "</style>\n",
       "<table border=\"1\" class=\"dataframe\">\n",
       "  <thead>\n",
       "    <tr style=\"text-align: right;\">\n",
       "      <th></th>\n",
       "      <th>bpi</th>\n",
       "      <th>disclaimer</th>\n",
       "      <th>time</th>\n",
       "    </tr>\n",
       "  </thead>\n",
       "  <tbody>\n",
       "    <tr>\n",
       "      <th>2017-01-08</th>\n",
       "      <td>913.5238</td>\n",
       "      <td>This data was produced from the CoinDesk Bitco...</td>\n",
       "      <td>NaN</td>\n",
       "    </tr>\n",
       "    <tr>\n",
       "      <th>2017-01-09</th>\n",
       "      <td>899.3500</td>\n",
       "      <td>This data was produced from the CoinDesk Bitco...</td>\n",
       "      <td>NaN</td>\n",
       "    </tr>\n",
       "    <tr>\n",
       "      <th>2017-01-10</th>\n",
       "      <td>904.7925</td>\n",
       "      <td>This data was produced from the CoinDesk Bitco...</td>\n",
       "      <td>NaN</td>\n",
       "    </tr>\n",
       "    <tr>\n",
       "      <th>2017-01-11</th>\n",
       "      <td>775.9813</td>\n",
       "      <td>This data was produced from the CoinDesk Bitco...</td>\n",
       "      <td>NaN</td>\n",
       "    </tr>\n",
       "    <tr>\n",
       "      <th>2017-01-12</th>\n",
       "      <td>802.8288</td>\n",
       "      <td>This data was produced from the CoinDesk Bitco...</td>\n",
       "      <td>NaN</td>\n",
       "    </tr>\n",
       "  </tbody>\n",
       "</table>\n",
       "</div>"
      ],
      "text/plain": [
       "                 bpi                                         disclaimer time\n",
       "2017-01-08  913.5238  This data was produced from the CoinDesk Bitco...  NaN\n",
       "2017-01-09  899.3500  This data was produced from the CoinDesk Bitco...  NaN\n",
       "2017-01-10  904.7925  This data was produced from the CoinDesk Bitco...  NaN\n",
       "2017-01-11  775.9813  This data was produced from the CoinDesk Bitco...  NaN\n",
       "2017-01-12  802.8288  This data was produced from the CoinDesk Bitco...  NaN"
      ]
     },
     "execution_count": 396,
     "metadata": {},
     "output_type": "execute_result"
    }
   ],
   "source": [
    "dataset2.head()"
   ]
  },
  {
   "cell_type": "code",
   "execution_count": 397,
   "metadata": {},
   "outputs": [],
   "source": [
    "dataset2 = dataset2.reset_index()"
   ]
  },
  {
   "cell_type": "code",
   "execution_count": 398,
   "metadata": {},
   "outputs": [
    {
     "data": {
      "text/html": [
       "<div>\n",
       "<style scoped>\n",
       "    .dataframe tbody tr th:only-of-type {\n",
       "        vertical-align: middle;\n",
       "    }\n",
       "\n",
       "    .dataframe tbody tr th {\n",
       "        vertical-align: top;\n",
       "    }\n",
       "\n",
       "    .dataframe thead th {\n",
       "        text-align: right;\n",
       "    }\n",
       "</style>\n",
       "<table border=\"1\" class=\"dataframe\">\n",
       "  <thead>\n",
       "    <tr style=\"text-align: right;\">\n",
       "      <th></th>\n",
       "      <th>index</th>\n",
       "      <th>bpi</th>\n",
       "      <th>disclaimer</th>\n",
       "      <th>time</th>\n",
       "    </tr>\n",
       "  </thead>\n",
       "  <tbody>\n",
       "    <tr>\n",
       "      <th>0</th>\n",
       "      <td>2017-01-08</td>\n",
       "      <td>913.5238</td>\n",
       "      <td>This data was produced from the CoinDesk Bitco...</td>\n",
       "      <td>NaN</td>\n",
       "    </tr>\n",
       "    <tr>\n",
       "      <th>1</th>\n",
       "      <td>2017-01-09</td>\n",
       "      <td>899.3500</td>\n",
       "      <td>This data was produced from the CoinDesk Bitco...</td>\n",
       "      <td>NaN</td>\n",
       "    </tr>\n",
       "    <tr>\n",
       "      <th>2</th>\n",
       "      <td>2017-01-10</td>\n",
       "      <td>904.7925</td>\n",
       "      <td>This data was produced from the CoinDesk Bitco...</td>\n",
       "      <td>NaN</td>\n",
       "    </tr>\n",
       "    <tr>\n",
       "      <th>3</th>\n",
       "      <td>2017-01-11</td>\n",
       "      <td>775.9813</td>\n",
       "      <td>This data was produced from the CoinDesk Bitco...</td>\n",
       "      <td>NaN</td>\n",
       "    </tr>\n",
       "    <tr>\n",
       "      <th>4</th>\n",
       "      <td>2017-01-12</td>\n",
       "      <td>802.8288</td>\n",
       "      <td>This data was produced from the CoinDesk Bitco...</td>\n",
       "      <td>NaN</td>\n",
       "    </tr>\n",
       "  </tbody>\n",
       "</table>\n",
       "</div>"
      ],
      "text/plain": [
       "        index       bpi                                         disclaimer  \\\n",
       "0  2017-01-08  913.5238  This data was produced from the CoinDesk Bitco...   \n",
       "1  2017-01-09  899.3500  This data was produced from the CoinDesk Bitco...   \n",
       "2  2017-01-10  904.7925  This data was produced from the CoinDesk Bitco...   \n",
       "3  2017-01-11  775.9813  This data was produced from the CoinDesk Bitco...   \n",
       "4  2017-01-12  802.8288  This data was produced from the CoinDesk Bitco...   \n",
       "\n",
       "  time  \n",
       "0  NaN  \n",
       "1  NaN  \n",
       "2  NaN  \n",
       "3  NaN  \n",
       "4  NaN  "
      ]
     },
     "execution_count": 398,
     "metadata": {},
     "output_type": "execute_result"
    }
   ],
   "source": [
    "dataset2.head()"
   ]
  },
  {
   "cell_type": "code",
   "execution_count": 399,
   "metadata": {},
   "outputs": [],
   "source": [
    "dataset2 = dataset2.rename(columns={\"index\": \"Date\"})"
   ]
  },
  {
   "cell_type": "code",
   "execution_count": 400,
   "metadata": {},
   "outputs": [
    {
     "data": {
      "text/html": [
       "<div>\n",
       "<style scoped>\n",
       "    .dataframe tbody tr th:only-of-type {\n",
       "        vertical-align: middle;\n",
       "    }\n",
       "\n",
       "    .dataframe tbody tr th {\n",
       "        vertical-align: top;\n",
       "    }\n",
       "\n",
       "    .dataframe thead th {\n",
       "        text-align: right;\n",
       "    }\n",
       "</style>\n",
       "<table border=\"1\" class=\"dataframe\">\n",
       "  <thead>\n",
       "    <tr style=\"text-align: right;\">\n",
       "      <th></th>\n",
       "      <th>Date2</th>\n",
       "      <th>bpi</th>\n",
       "      <th>disclaimer</th>\n",
       "      <th>time</th>\n",
       "    </tr>\n",
       "  </thead>\n",
       "  <tbody>\n",
       "    <tr>\n",
       "      <th>0</th>\n",
       "      <td>2017-01-08</td>\n",
       "      <td>913.5238</td>\n",
       "      <td>This data was produced from the CoinDesk Bitco...</td>\n",
       "      <td>NaN</td>\n",
       "    </tr>\n",
       "    <tr>\n",
       "      <th>1</th>\n",
       "      <td>2017-01-09</td>\n",
       "      <td>899.3500</td>\n",
       "      <td>This data was produced from the CoinDesk Bitco...</td>\n",
       "      <td>NaN</td>\n",
       "    </tr>\n",
       "    <tr>\n",
       "      <th>2</th>\n",
       "      <td>2017-01-10</td>\n",
       "      <td>904.7925</td>\n",
       "      <td>This data was produced from the CoinDesk Bitco...</td>\n",
       "      <td>NaN</td>\n",
       "    </tr>\n",
       "    <tr>\n",
       "      <th>3</th>\n",
       "      <td>2017-01-11</td>\n",
       "      <td>775.9813</td>\n",
       "      <td>This data was produced from the CoinDesk Bitco...</td>\n",
       "      <td>NaN</td>\n",
       "    </tr>\n",
       "    <tr>\n",
       "      <th>4</th>\n",
       "      <td>2017-01-12</td>\n",
       "      <td>802.8288</td>\n",
       "      <td>This data was produced from the CoinDesk Bitco...</td>\n",
       "      <td>NaN</td>\n",
       "    </tr>\n",
       "  </tbody>\n",
       "</table>\n",
       "</div>"
      ],
      "text/plain": [
       "        Date2       bpi                                         disclaimer  \\\n",
       "0  2017-01-08  913.5238  This data was produced from the CoinDesk Bitco...   \n",
       "1  2017-01-09  899.3500  This data was produced from the CoinDesk Bitco...   \n",
       "2  2017-01-10  904.7925  This data was produced from the CoinDesk Bitco...   \n",
       "3  2017-01-11  775.9813  This data was produced from the CoinDesk Bitco...   \n",
       "4  2017-01-12  802.8288  This data was produced from the CoinDesk Bitco...   \n",
       "\n",
       "  time  \n",
       "0  NaN  \n",
       "1  NaN  \n",
       "2  NaN  \n",
       "3  NaN  \n",
       "4  NaN  "
      ]
     },
     "execution_count": 400,
     "metadata": {},
     "output_type": "execute_result"
    }
   ],
   "source": [
    "dataset2.head()"
   ]
  },
  {
   "cell_type": "code",
   "execution_count": 401,
   "metadata": {},
   "outputs": [],
   "source": [
    "dataset2 = dataset2.drop([\"disclaimer\", \"time\"], axis = 1)"
   ]
  },
  {
   "cell_type": "code",
   "execution_count": 409,
   "metadata": {},
   "outputs": [
    {
     "data": {
      "text/html": [
       "<div>\n",
       "<style scoped>\n",
       "    .dataframe tbody tr th:only-of-type {\n",
       "        vertical-align: middle;\n",
       "    }\n",
       "\n",
       "    .dataframe tbody tr th {\n",
       "        vertical-align: top;\n",
       "    }\n",
       "\n",
       "    .dataframe thead th {\n",
       "        text-align: right;\n",
       "    }\n",
       "</style>\n",
       "<table border=\"1\" class=\"dataframe\">\n",
       "  <thead>\n",
       "    <tr style=\"text-align: right;\">\n",
       "      <th></th>\n",
       "      <th>Date2</th>\n",
       "      <th>bpi</th>\n",
       "    </tr>\n",
       "  </thead>\n",
       "  <tbody>\n",
       "    <tr>\n",
       "      <th>0</th>\n",
       "      <td>2017-01-08</td>\n",
       "      <td>913.5238</td>\n",
       "    </tr>\n",
       "    <tr>\n",
       "      <th>1</th>\n",
       "      <td>2017-01-09</td>\n",
       "      <td>899.3500</td>\n",
       "    </tr>\n",
       "    <tr>\n",
       "      <th>2</th>\n",
       "      <td>2017-01-10</td>\n",
       "      <td>904.7925</td>\n",
       "    </tr>\n",
       "    <tr>\n",
       "      <th>3</th>\n",
       "      <td>2017-01-11</td>\n",
       "      <td>775.9813</td>\n",
       "    </tr>\n",
       "    <tr>\n",
       "      <th>4</th>\n",
       "      <td>2017-01-12</td>\n",
       "      <td>802.8288</td>\n",
       "    </tr>\n",
       "  </tbody>\n",
       "</table>\n",
       "</div>"
      ],
      "text/plain": [
       "        Date2       bpi\n",
       "0  2017-01-08  913.5238\n",
       "1  2017-01-09  899.3500\n",
       "2  2017-01-10  904.7925\n",
       "3  2017-01-11  775.9813\n",
       "4  2017-01-12  802.8288"
      ]
     },
     "execution_count": 409,
     "metadata": {},
     "output_type": "execute_result"
    }
   ],
   "source": [
    "dataset2.head()"
   ]
  },
  {
   "cell_type": "code",
   "execution_count": 408,
   "metadata": {},
   "outputs": [
    {
     "data": {
      "text/html": [
       "<div>\n",
       "<style scoped>\n",
       "    .dataframe tbody tr th:only-of-type {\n",
       "        vertical-align: middle;\n",
       "    }\n",
       "\n",
       "    .dataframe tbody tr th {\n",
       "        vertical-align: top;\n",
       "    }\n",
       "\n",
       "    .dataframe thead th {\n",
       "        text-align: right;\n",
       "    }\n",
       "</style>\n",
       "<table border=\"1\" class=\"dataframe\">\n",
       "  <thead>\n",
       "    <tr style=\"text-align: right;\">\n",
       "      <th></th>\n",
       "      <th>Count_Negatives</th>\n",
       "      <th>Close</th>\n",
       "    </tr>\n",
       "    <tr>\n",
       "      <th>Date</th>\n",
       "      <th></th>\n",
       "      <th></th>\n",
       "    </tr>\n",
       "  </thead>\n",
       "  <tbody>\n",
       "    <tr>\n",
       "      <th>2017-08-01</th>\n",
       "      <td>Many</td>\n",
       "      <td>2764.869167</td>\n",
       "    </tr>\n",
       "    <tr>\n",
       "      <th>2017-08-02</th>\n",
       "      <td>Medium</td>\n",
       "      <td>2711.504737</td>\n",
       "    </tr>\n",
       "    <tr>\n",
       "      <th>2017-08-03</th>\n",
       "      <td>Medium</td>\n",
       "      <td>2745.320417</td>\n",
       "    </tr>\n",
       "    <tr>\n",
       "      <th>2017-08-04</th>\n",
       "      <td>Medium</td>\n",
       "      <td>2827.973750</td>\n",
       "    </tr>\n",
       "    <tr>\n",
       "      <th>2017-08-05</th>\n",
       "      <td>Few</td>\n",
       "      <td>3161.758750</td>\n",
       "    </tr>\n",
       "  </tbody>\n",
       "</table>\n",
       "</div>"
      ],
      "text/plain": [
       "           Count_Negatives        Close\n",
       "Date                                   \n",
       "2017-08-01            Many  2764.869167\n",
       "2017-08-02          Medium  2711.504737\n",
       "2017-08-03          Medium  2745.320417\n",
       "2017-08-04          Medium  2827.973750\n",
       "2017-08-05             Few  3161.758750"
      ]
     },
     "execution_count": 408,
     "metadata": {},
     "output_type": "execute_result"
    }
   ],
   "source": [
    "dataset.head()"
   ]
  },
  {
   "cell_type": "code",
   "execution_count": 406,
   "metadata": {},
   "outputs": [],
   "source": [
    "dataset3 = dataset.merge(dataset2, left_on='Date', right_on='Date2')"
   ]
  },
  {
   "cell_type": "code",
   "execution_count": 407,
   "metadata": {},
   "outputs": [
    {
     "data": {
      "text/html": [
       "<div>\n",
       "<style scoped>\n",
       "    .dataframe tbody tr th:only-of-type {\n",
       "        vertical-align: middle;\n",
       "    }\n",
       "\n",
       "    .dataframe tbody tr th {\n",
       "        vertical-align: top;\n",
       "    }\n",
       "\n",
       "    .dataframe thead th {\n",
       "        text-align: right;\n",
       "    }\n",
       "</style>\n",
       "<table border=\"1\" class=\"dataframe\">\n",
       "  <thead>\n",
       "    <tr style=\"text-align: right;\">\n",
       "      <th></th>\n",
       "      <th>Count_Negatives</th>\n",
       "      <th>Close</th>\n",
       "      <th>Date2</th>\n",
       "      <th>bpi</th>\n",
       "    </tr>\n",
       "  </thead>\n",
       "  <tbody>\n",
       "  </tbody>\n",
       "</table>\n",
       "</div>"
      ],
      "text/plain": [
       "Empty DataFrame\n",
       "Columns: [Count_Negatives, Close, Date2, bpi]\n",
       "Index: []"
      ]
     },
     "execution_count": 407,
     "metadata": {},
     "output_type": "execute_result"
    }
   ],
   "source": [
    "dataset3.head()"
   ]
  },
  {
   "cell_type": "code",
   "execution_count": null,
   "metadata": {},
   "outputs": [],
   "source": []
  },
  {
   "cell_type": "code",
   "execution_count": null,
   "metadata": {},
   "outputs": [],
   "source": [
    "# Ahora quiero una columna Price_Change que muestre la diferencia entre el precio de cierre del día siguiente y \n",
    "# el de ese día, para ver cómo es el efecto de los tuits negativos de un día, sobre el precio del día siguiente.\n",
    "\n"
   ]
  },
  {
   "cell_type": "code",
   "execution_count": 139,
   "metadata": {},
   "outputs": [
    {
     "name": "stdout",
     "output_type": "stream",
     "text": [
      "539\n",
      "539\n"
     ]
    }
   ],
   "source": [
    "# Ahora quiero que en cada registro me aparezca el valor de Close del día siguiente.\n",
    "# Creo una lista de los valores de Close, incluyendo 0 como primer elemento y borrando el último valor\n",
    "\n",
    "lista = [0]\n",
    "\n",
    "lista += list(dataset[\"Close\"])\n",
    "\n",
    "lista.pop()\n",
    "print(len(lista))\n",
    "print(len(dataset[\"Close\"]))"
   ]
  },
  {
   "cell_type": "code",
   "execution_count": 140,
   "metadata": {},
   "outputs": [],
   "source": [
    "dataset[\"Close_Next_Day\"] = lista"
   ]
  },
  {
   "cell_type": "code",
   "execution_count": 141,
   "metadata": {},
   "outputs": [
    {
     "data": {
      "text/html": [
       "<div>\n",
       "<style scoped>\n",
       "    .dataframe tbody tr th:only-of-type {\n",
       "        vertical-align: middle;\n",
       "    }\n",
       "\n",
       "    .dataframe tbody tr th {\n",
       "        vertical-align: top;\n",
       "    }\n",
       "\n",
       "    .dataframe thead th {\n",
       "        text-align: right;\n",
       "    }\n",
       "</style>\n",
       "<table border=\"1\" class=\"dataframe\">\n",
       "  <thead>\n",
       "    <tr style=\"text-align: right;\">\n",
       "      <th></th>\n",
       "      <th>Count_Negatives</th>\n",
       "      <th>Close</th>\n",
       "      <th>Close_Next_Day</th>\n",
       "    </tr>\n",
       "    <tr>\n",
       "      <th>Date</th>\n",
       "      <th></th>\n",
       "      <th></th>\n",
       "      <th></th>\n",
       "    </tr>\n",
       "  </thead>\n",
       "  <tbody>\n",
       "    <tr>\n",
       "      <th>2017-08-01</th>\n",
       "      <td>7100.0</td>\n",
       "      <td>2764.869167</td>\n",
       "      <td>0.000000</td>\n",
       "    </tr>\n",
       "    <tr>\n",
       "      <th>2017-08-02</th>\n",
       "      <td>4397.0</td>\n",
       "      <td>2711.504737</td>\n",
       "      <td>2764.869167</td>\n",
       "    </tr>\n",
       "    <tr>\n",
       "      <th>2017-08-03</th>\n",
       "      <td>4888.0</td>\n",
       "      <td>2745.320417</td>\n",
       "      <td>2711.504737</td>\n",
       "    </tr>\n",
       "    <tr>\n",
       "      <th>2017-08-04</th>\n",
       "      <td>4195.0</td>\n",
       "      <td>2827.973750</td>\n",
       "      <td>2745.320417</td>\n",
       "    </tr>\n",
       "    <tr>\n",
       "      <th>2017-08-05</th>\n",
       "      <td>2897.0</td>\n",
       "      <td>3161.758750</td>\n",
       "      <td>2827.973750</td>\n",
       "    </tr>\n",
       "  </tbody>\n",
       "</table>\n",
       "</div>"
      ],
      "text/plain": [
       "            Count_Negatives        Close  Close_Next_Day\n",
       "Date                                                    \n",
       "2017-08-01           7100.0  2764.869167        0.000000\n",
       "2017-08-02           4397.0  2711.504737     2764.869167\n",
       "2017-08-03           4888.0  2745.320417     2711.504737\n",
       "2017-08-04           4195.0  2827.973750     2745.320417\n",
       "2017-08-05           2897.0  3161.758750     2827.973750"
      ]
     },
     "execution_count": 141,
     "metadata": {},
     "output_type": "execute_result"
    }
   ],
   "source": [
    "dataset.head()"
   ]
  },
  {
   "cell_type": "code",
   "execution_count": 142,
   "metadata": {},
   "outputs": [],
   "source": [
    "dataset = dataset[dataset.Close_Next_Day != 0]"
   ]
  },
  {
   "cell_type": "code",
   "execution_count": 143,
   "metadata": {},
   "outputs": [
    {
     "data": {
      "text/html": [
       "<div>\n",
       "<style scoped>\n",
       "    .dataframe tbody tr th:only-of-type {\n",
       "        vertical-align: middle;\n",
       "    }\n",
       "\n",
       "    .dataframe tbody tr th {\n",
       "        vertical-align: top;\n",
       "    }\n",
       "\n",
       "    .dataframe thead th {\n",
       "        text-align: right;\n",
       "    }\n",
       "</style>\n",
       "<table border=\"1\" class=\"dataframe\">\n",
       "  <thead>\n",
       "    <tr style=\"text-align: right;\">\n",
       "      <th></th>\n",
       "      <th>Count_Negatives</th>\n",
       "      <th>Close</th>\n",
       "      <th>Close_Next_Day</th>\n",
       "    </tr>\n",
       "    <tr>\n",
       "      <th>Date</th>\n",
       "      <th></th>\n",
       "      <th></th>\n",
       "      <th></th>\n",
       "    </tr>\n",
       "  </thead>\n",
       "  <tbody>\n",
       "    <tr>\n",
       "      <th>2017-08-02</th>\n",
       "      <td>4397.0</td>\n",
       "      <td>2711.504737</td>\n",
       "      <td>2764.869167</td>\n",
       "    </tr>\n",
       "    <tr>\n",
       "      <th>2017-08-03</th>\n",
       "      <td>4888.0</td>\n",
       "      <td>2745.320417</td>\n",
       "      <td>2711.504737</td>\n",
       "    </tr>\n",
       "    <tr>\n",
       "      <th>2017-08-04</th>\n",
       "      <td>4195.0</td>\n",
       "      <td>2827.973750</td>\n",
       "      <td>2745.320417</td>\n",
       "    </tr>\n",
       "    <tr>\n",
       "      <th>2017-08-05</th>\n",
       "      <td>2897.0</td>\n",
       "      <td>3161.758750</td>\n",
       "      <td>2827.973750</td>\n",
       "    </tr>\n",
       "    <tr>\n",
       "      <th>2017-08-06</th>\n",
       "      <td>2795.0</td>\n",
       "      <td>3232.088333</td>\n",
       "      <td>3161.758750</td>\n",
       "    </tr>\n",
       "  </tbody>\n",
       "</table>\n",
       "</div>"
      ],
      "text/plain": [
       "            Count_Negatives        Close  Close_Next_Day\n",
       "Date                                                    \n",
       "2017-08-02           4397.0  2711.504737     2764.869167\n",
       "2017-08-03           4888.0  2745.320417     2711.504737\n",
       "2017-08-04           4195.0  2827.973750     2745.320417\n",
       "2017-08-05           2897.0  3161.758750     2827.973750\n",
       "2017-08-06           2795.0  3232.088333     3161.758750"
      ]
     },
     "execution_count": 143,
     "metadata": {},
     "output_type": "execute_result"
    }
   ],
   "source": [
    "dataset.head()"
   ]
  },
  {
   "cell_type": "code",
   "execution_count": null,
   "metadata": {},
   "outputs": [],
   "source": []
  },
  {
   "cell_type": "code",
   "execution_count": null,
   "metadata": {},
   "outputs": [],
   "source": []
  },
  {
   "cell_type": "code",
   "execution_count": null,
   "metadata": {},
   "outputs": [],
   "source": []
  }
 ],
 "metadata": {
  "kernelspec": {
   "display_name": "Python 3",
   "language": "python",
   "name": "python3"
  },
  "language_info": {
   "codemirror_mode": {
    "name": "ipython",
    "version": 3
   },
   "file_extension": ".py",
   "mimetype": "text/x-python",
   "name": "python",
   "nbconvert_exporter": "python",
   "pygments_lexer": "ipython3",
   "version": "3.7.3"
  }
 },
 "nbformat": 4,
 "nbformat_minor": 2
}

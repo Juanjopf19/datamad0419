{
 "cells": [
  {
   "cell_type": "code",
   "execution_count": 190,
   "metadata": {},
   "outputs": [],
   "source": [
    "# Importo pandas para trabajar con dataframes, y numpy para posibles operaciones numéricas con los datos.\n",
    "\n",
    "import pandas as pd\n",
    "import numpy as np"
   ]
  },
  {
   "cell_type": "code",
   "execution_count": 191,
   "metadata": {},
   "outputs": [],
   "source": [
    "dataset = pd.read_csv(\"Data_To_Hourervals_no_filter.csv\", sep=';')\n",
    "\n",
    "url_dataset = \"https://www.kaggle.com/jaimebadiola/bitcoin-tweets-and-price/version/1\""
   ]
  },
  {
   "cell_type": "code",
   "execution_count": 192,
   "metadata": {},
   "outputs": [
    {
     "data": {
      "text/html": [
       "<div>\n",
       "<style scoped>\n",
       "    .dataframe tbody tr th:only-of-type {\n",
       "        vertical-align: middle;\n",
       "    }\n",
       "\n",
       "    .dataframe tbody tr th {\n",
       "        vertical-align: top;\n",
       "    }\n",
       "\n",
       "    .dataframe thead th {\n",
       "        text-align: right;\n",
       "    }\n",
       "</style>\n",
       "<table border=\"1\" class=\"dataframe\">\n",
       "  <thead>\n",
       "    <tr style=\"text-align: right;\">\n",
       "      <th></th>\n",
       "      <th>Date</th>\n",
       "      <th>Compound_Score</th>\n",
       "      <th>n</th>\n",
       "      <th>Count_Negatives</th>\n",
       "      <th>Count_Positives</th>\n",
       "      <th>Count_Neutrals</th>\n",
       "      <th>Sent_Negatives</th>\n",
       "      <th>Sent_Positives</th>\n",
       "      <th>Open</th>\n",
       "      <th>High</th>\n",
       "      <th>Low</th>\n",
       "      <th>Close</th>\n",
       "      <th>Volume (BTC)</th>\n",
       "      <th>Volume (Currency)</th>\n",
       "    </tr>\n",
       "  </thead>\n",
       "  <tbody>\n",
       "    <tr>\n",
       "      <th>0</th>\n",
       "      <td>01/08/2017 0:00</td>\n",
       "      <td>0.097156</td>\n",
       "      <td>1027.0</td>\n",
       "      <td>148.0</td>\n",
       "      <td>403.0</td>\n",
       "      <td>476.0</td>\n",
       "      <td>-0.504061</td>\n",
       "      <td>0.432704</td>\n",
       "      <td>2855.81</td>\n",
       "      <td>2863.06</td>\n",
       "      <td>2823.00</td>\n",
       "      <td>2825.92</td>\n",
       "      <td>184.02</td>\n",
       "      <td>522951,00</td>\n",
       "    </tr>\n",
       "    <tr>\n",
       "      <th>1</th>\n",
       "      <td>01/08/2017 1:00</td>\n",
       "      <td>0.064507</td>\n",
       "      <td>778.0</td>\n",
       "      <td>143.0</td>\n",
       "      <td>239.0</td>\n",
       "      <td>396.0</td>\n",
       "      <td>-0.381007</td>\n",
       "      <td>0.437953</td>\n",
       "      <td>2823.01</td>\n",
       "      <td>2860.02</td>\n",
       "      <td>2821.01</td>\n",
       "      <td>2853.38</td>\n",
       "      <td>77.3</td>\n",
       "      <td>219605.16</td>\n",
       "    </tr>\n",
       "    <tr>\n",
       "      <th>2</th>\n",
       "      <td>01/08/2017 2:00</td>\n",
       "      <td>0.119218</td>\n",
       "      <td>836.0</td>\n",
       "      <td>118.0</td>\n",
       "      <td>333.0</td>\n",
       "      <td>385.0</td>\n",
       "      <td>-0.394999</td>\n",
       "      <td>0.439269</td>\n",
       "      <td>2846.27</td>\n",
       "      <td>2858.04</td>\n",
       "      <td>2837.31</td>\n",
       "      <td>2841.60</td>\n",
       "      <td>135.83</td>\n",
       "      <td>386739.15</td>\n",
       "    </tr>\n",
       "    <tr>\n",
       "      <th>3</th>\n",
       "      <td>01/08/2017 3:00</td>\n",
       "      <td>0.004163</td>\n",
       "      <td>984.0</td>\n",
       "      <td>262.0</td>\n",
       "      <td>279.0</td>\n",
       "      <td>443.0</td>\n",
       "      <td>-0.431913</td>\n",
       "      <td>0.420278</td>\n",
       "      <td>2841.84</td>\n",
       "      <td>2863.88</td>\n",
       "      <td>2837.73</td>\n",
       "      <td>2862.93</td>\n",
       "      <td>143.2</td>\n",
       "      <td>408360.03</td>\n",
       "    </tr>\n",
       "    <tr>\n",
       "      <th>4</th>\n",
       "      <td>01/08/2017 4:00</td>\n",
       "      <td>0.065608</td>\n",
       "      <td>751.0</td>\n",
       "      <td>133.0</td>\n",
       "      <td>237.0</td>\n",
       "      <td>381.0</td>\n",
       "      <td>-0.405835</td>\n",
       "      <td>0.435645</td>\n",
       "      <td>2862.92</td>\n",
       "      <td>2876.00</td>\n",
       "      <td>2848.11</td>\n",
       "      <td>2874.99</td>\n",
       "      <td>222.53</td>\n",
       "      <td>637045.88</td>\n",
       "    </tr>\n",
       "  </tbody>\n",
       "</table>\n",
       "</div>"
      ],
      "text/plain": [
       "              Date  Compound_Score       n  Count_Negatives  Count_Positives  \\\n",
       "0  01/08/2017 0:00        0.097156  1027.0            148.0            403.0   \n",
       "1  01/08/2017 1:00        0.064507   778.0            143.0            239.0   \n",
       "2  01/08/2017 2:00        0.119218   836.0            118.0            333.0   \n",
       "3  01/08/2017 3:00        0.004163   984.0            262.0            279.0   \n",
       "4  01/08/2017 4:00        0.065608   751.0            133.0            237.0   \n",
       "\n",
       "   Count_Neutrals  Sent_Negatives  Sent_Positives     Open     High      Low  \\\n",
       "0           476.0       -0.504061        0.432704  2855.81  2863.06  2823.00   \n",
       "1           396.0       -0.381007        0.437953  2823.01  2860.02  2821.01   \n",
       "2           385.0       -0.394999        0.439269  2846.27  2858.04  2837.31   \n",
       "3           443.0       -0.431913        0.420278  2841.84  2863.88  2837.73   \n",
       "4           381.0       -0.405835        0.435645  2862.92  2876.00  2848.11   \n",
       "\n",
       "     Close Volume (BTC) Volume (Currency)  \n",
       "0  2825.92       184.02         522951,00  \n",
       "1  2853.38         77.3         219605.16  \n",
       "2  2841.60       135.83         386739.15  \n",
       "3  2862.93        143.2         408360.03  \n",
       "4  2874.99       222.53         637045.88  "
      ]
     },
     "execution_count": 192,
     "metadata": {},
     "output_type": "execute_result"
    }
   ],
   "source": [
    "dataset.head()"
   ]
  },
  {
   "cell_type": "code",
   "execution_count": 193,
   "metadata": {},
   "outputs": [
    {
     "name": "stdout",
     "output_type": "stream",
     "text": [
      "['Date' 'Compound_Score' 'n' 'Count_Negatives' 'Count_Positives'\n",
      " 'Count_Neutrals' 'Sent_Negatives' 'Sent_Positives' 'Open' 'High' 'Low'\n",
      " 'Close' 'Volume (BTC)' 'Volume (Currency)']\n"
     ]
    }
   ],
   "source": [
    "# Muestro los nombres de las columnas de mi dataset, para ver si me puedo deshacer de alguna que no \n",
    "# tenga relevancia para mi análisis.\n",
    "\n",
    "print(dataset.columns.values)"
   ]
  },
  {
   "cell_type": "code",
   "execution_count": 194,
   "metadata": {},
   "outputs": [
    {
     "name": "stdout",
     "output_type": "stream",
     "text": [
      "Dataset rows: 12936\n",
      "Date: 12936\n",
      "Compound_Score: 12934\n",
      "n: 2913\n",
      "Count_Negatives: 1152\n",
      "Count_Positives: 1585\n",
      "Count_Neutrals: 1755\n",
      "Sent_Negatives: 12934\n",
      "Sent_Positives: 12936\n",
      "Open: 12676\n",
      "High: 12322\n",
      "Low: 12426\n",
      "Close: 12674\n",
      "Volume (BTC): 12876\n",
      "Volume (Currency): 4591\n",
      "None\n"
     ]
    }
   ],
   "source": [
    "# Me interesan Date, Count_Negatives, Open, Close, y la columna que tenga menos duplicates para guardarla hasta el \n",
    "# final. # Miro a ver cuál es:\n",
    "\n",
    "\n",
    "def less_duplicates(dataset):\n",
    "    print(\"Dataset rows:\", len(dataset.index))\n",
    "    columnas = dataset.columns.values\n",
    "    for a in dataset:\n",
    "        values = []\n",
    "        for v in dataset[\"{}\".format(a)]:\n",
    "            values.append(v)\n",
    "        print(\"{}:\".format(a), len(set(values)))\n",
    "\n",
    "print(less_duplicates(dataset))"
   ]
  },
  {
   "cell_type": "code",
   "execution_count": 195,
   "metadata": {},
   "outputs": [],
   "source": [
    "# Me sirve Date. Por tanto, me deshago de todas las columnas que no necesito:\n",
    "\n",
    "mis_columnas = [\"Date\", \"Count_Negatives\", \"Close\"]\n",
    "\n",
    "for columna in dataset.columns.values:\n",
    "    if columna not in mis_columnas:\n",
    "        dataset = dataset.drop(columna, axis = 1)"
   ]
  },
  {
   "cell_type": "code",
   "execution_count": 196,
   "metadata": {},
   "outputs": [
    {
     "data": {
      "text/html": [
       "<div>\n",
       "<style scoped>\n",
       "    .dataframe tbody tr th:only-of-type {\n",
       "        vertical-align: middle;\n",
       "    }\n",
       "\n",
       "    .dataframe tbody tr th {\n",
       "        vertical-align: top;\n",
       "    }\n",
       "\n",
       "    .dataframe thead th {\n",
       "        text-align: right;\n",
       "    }\n",
       "</style>\n",
       "<table border=\"1\" class=\"dataframe\">\n",
       "  <thead>\n",
       "    <tr style=\"text-align: right;\">\n",
       "      <th></th>\n",
       "      <th>Date</th>\n",
       "      <th>Count_Negatives</th>\n",
       "      <th>Close</th>\n",
       "    </tr>\n",
       "  </thead>\n",
       "  <tbody>\n",
       "    <tr>\n",
       "      <th>0</th>\n",
       "      <td>01/08/2017 0:00</td>\n",
       "      <td>148.0</td>\n",
       "      <td>2825.92</td>\n",
       "    </tr>\n",
       "    <tr>\n",
       "      <th>1</th>\n",
       "      <td>01/08/2017 1:00</td>\n",
       "      <td>143.0</td>\n",
       "      <td>2853.38</td>\n",
       "    </tr>\n",
       "    <tr>\n",
       "      <th>2</th>\n",
       "      <td>01/08/2017 2:00</td>\n",
       "      <td>118.0</td>\n",
       "      <td>2841.60</td>\n",
       "    </tr>\n",
       "    <tr>\n",
       "      <th>3</th>\n",
       "      <td>01/08/2017 3:00</td>\n",
       "      <td>262.0</td>\n",
       "      <td>2862.93</td>\n",
       "    </tr>\n",
       "    <tr>\n",
       "      <th>4</th>\n",
       "      <td>01/08/2017 4:00</td>\n",
       "      <td>133.0</td>\n",
       "      <td>2874.99</td>\n",
       "    </tr>\n",
       "  </tbody>\n",
       "</table>\n",
       "</div>"
      ],
      "text/plain": [
       "              Date  Count_Negatives    Close\n",
       "0  01/08/2017 0:00            148.0  2825.92\n",
       "1  01/08/2017 1:00            143.0  2853.38\n",
       "2  01/08/2017 2:00            118.0  2841.60\n",
       "3  01/08/2017 3:00            262.0  2862.93\n",
       "4  01/08/2017 4:00            133.0  2874.99"
      ]
     },
     "execution_count": 196,
     "metadata": {},
     "output_type": "execute_result"
    }
   ],
   "source": [
    "dataset.head()"
   ]
  },
  {
   "cell_type": "code",
   "execution_count": 197,
   "metadata": {},
   "outputs": [
    {
     "data": {
      "text/plain": [
       "Count_Negatives    271\n",
       "dtype: int64"
      ]
     },
     "execution_count": 197,
     "metadata": {},
     "output_type": "execute_result"
    }
   ],
   "source": [
    "# Compruebo a ver cuántos valores nulos tengo en cada columna:\n",
    "\n",
    "null_cols = dataset.isnull().sum()\n",
    "\n",
    "null_cols[null_cols > 0]"
   ]
  },
  {
   "cell_type": "code",
   "execution_count": 198,
   "metadata": {},
   "outputs": [
    {
     "data": {
      "text/plain": [
       "12936"
      ]
     },
     "execution_count": 198,
     "metadata": {},
     "output_type": "execute_result"
    }
   ],
   "source": [
    "len(dataset.index)"
   ]
  },
  {
   "cell_type": "code",
   "execution_count": 199,
   "metadata": {},
   "outputs": [],
   "source": [
    "# No me van a servir esos registros, así que me deshago de ellos:\n",
    "\n",
    "dataset = dataset[dataset.Count_Negatives.notnull()]"
   ]
  },
  {
   "cell_type": "code",
   "execution_count": 200,
   "metadata": {},
   "outputs": [
    {
     "data": {
      "text/plain": [
       "Series([], dtype: int64)"
      ]
     },
     "execution_count": 200,
     "metadata": {},
     "output_type": "execute_result"
    }
   ],
   "source": [
    "null_cols = dataset.isnull().sum()\n",
    "\n",
    "null_cols[null_cols > 0]"
   ]
  },
  {
   "cell_type": "code",
   "execution_count": 201,
   "metadata": {},
   "outputs": [
    {
     "data": {
      "text/plain": [
       "Date                object\n",
       "Count_Negatives    float64\n",
       "Close              float64\n",
       "dtype: object"
      ]
     },
     "execution_count": 201,
     "metadata": {},
     "output_type": "execute_result"
    }
   ],
   "source": [
    "dataset.dtypes"
   ]
  },
  {
   "cell_type": "code",
   "execution_count": 202,
   "metadata": {},
   "outputs": [],
   "source": [
    "# Quiero los valores de los datos en datetime, para poder categorizarlos en franjas temporales:\n",
    "\n",
    "dataset[\"Date\"] = pd.to_datetime(dataset[\"Date\"])"
   ]
  },
  {
   "cell_type": "code",
   "execution_count": 203,
   "metadata": {},
   "outputs": [
    {
     "data": {
      "text/html": [
       "<div>\n",
       "<style scoped>\n",
       "    .dataframe tbody tr th:only-of-type {\n",
       "        vertical-align: middle;\n",
       "    }\n",
       "\n",
       "    .dataframe tbody tr th {\n",
       "        vertical-align: top;\n",
       "    }\n",
       "\n",
       "    .dataframe thead th {\n",
       "        text-align: right;\n",
       "    }\n",
       "</style>\n",
       "<table border=\"1\" class=\"dataframe\">\n",
       "  <thead>\n",
       "    <tr style=\"text-align: right;\">\n",
       "      <th></th>\n",
       "      <th>Date</th>\n",
       "      <th>Count_Negatives</th>\n",
       "      <th>Close</th>\n",
       "    </tr>\n",
       "  </thead>\n",
       "  <tbody>\n",
       "    <tr>\n",
       "      <th>0</th>\n",
       "      <td>2017-01-08 00:00:00</td>\n",
       "      <td>148.0</td>\n",
       "      <td>2825.92</td>\n",
       "    </tr>\n",
       "    <tr>\n",
       "      <th>1</th>\n",
       "      <td>2017-01-08 01:00:00</td>\n",
       "      <td>143.0</td>\n",
       "      <td>2853.38</td>\n",
       "    </tr>\n",
       "    <tr>\n",
       "      <th>2</th>\n",
       "      <td>2017-01-08 02:00:00</td>\n",
       "      <td>118.0</td>\n",
       "      <td>2841.60</td>\n",
       "    </tr>\n",
       "    <tr>\n",
       "      <th>3</th>\n",
       "      <td>2017-01-08 03:00:00</td>\n",
       "      <td>262.0</td>\n",
       "      <td>2862.93</td>\n",
       "    </tr>\n",
       "    <tr>\n",
       "      <th>4</th>\n",
       "      <td>2017-01-08 04:00:00</td>\n",
       "      <td>133.0</td>\n",
       "      <td>2874.99</td>\n",
       "    </tr>\n",
       "  </tbody>\n",
       "</table>\n",
       "</div>"
      ],
      "text/plain": [
       "                 Date  Count_Negatives    Close\n",
       "0 2017-01-08 00:00:00            148.0  2825.92\n",
       "1 2017-01-08 01:00:00            143.0  2853.38\n",
       "2 2017-01-08 02:00:00            118.0  2841.60\n",
       "3 2017-01-08 03:00:00            262.0  2862.93\n",
       "4 2017-01-08 04:00:00            133.0  2874.99"
      ]
     },
     "execution_count": 203,
     "metadata": {},
     "output_type": "execute_result"
    }
   ],
   "source": [
    "dataset.head()"
   ]
  },
  {
   "cell_type": "code",
   "execution_count": 204,
   "metadata": {},
   "outputs": [
    {
     "data": {
      "text/plain": [
       "Date               datetime64[ns]\n",
       "Count_Negatives           float64\n",
       "Close                     float64\n",
       "dtype: object"
      ]
     },
     "execution_count": 204,
     "metadata": {},
     "output_type": "execute_result"
    }
   ],
   "source": [
    "dataset.dtypes"
   ]
  },
  {
   "cell_type": "code",
   "execution_count": 206,
   "metadata": {},
   "outputs": [
    {
     "name": "stdout",
     "output_type": "stream",
     "text": [
      "12665\n",
      "12665\n"
     ]
    }
   ],
   "source": [
    "# Ahora quiero que en cada registro me aparezca el valor de Close del día siguiente\n",
    "\n",
    "lista = [0]\n",
    "\n",
    "lista += list(dataset[\"Close\"])\n",
    "\n",
    "lista.pop()\n",
    "print(len(lista))\n",
    "print(len(dataset[\"Close\"]))"
   ]
  },
  {
   "cell_type": "code",
   "execution_count": 207,
   "metadata": {},
   "outputs": [],
   "source": [
    "dataset[\"Close_Next_Day\"] = lista"
   ]
  },
  {
   "cell_type": "code",
   "execution_count": 208,
   "metadata": {},
   "outputs": [
    {
     "data": {
      "text/html": [
       "<div>\n",
       "<style scoped>\n",
       "    .dataframe tbody tr th:only-of-type {\n",
       "        vertical-align: middle;\n",
       "    }\n",
       "\n",
       "    .dataframe tbody tr th {\n",
       "        vertical-align: top;\n",
       "    }\n",
       "\n",
       "    .dataframe thead th {\n",
       "        text-align: right;\n",
       "    }\n",
       "</style>\n",
       "<table border=\"1\" class=\"dataframe\">\n",
       "  <thead>\n",
       "    <tr style=\"text-align: right;\">\n",
       "      <th></th>\n",
       "      <th>Date</th>\n",
       "      <th>Count_Negatives</th>\n",
       "      <th>Close</th>\n",
       "      <th>Close_Next_Day</th>\n",
       "    </tr>\n",
       "  </thead>\n",
       "  <tbody>\n",
       "    <tr>\n",
       "      <th>0</th>\n",
       "      <td>2017-01-08 00:00:00</td>\n",
       "      <td>148.0</td>\n",
       "      <td>2825.92</td>\n",
       "      <td>0.00</td>\n",
       "    </tr>\n",
       "    <tr>\n",
       "      <th>1</th>\n",
       "      <td>2017-01-08 01:00:00</td>\n",
       "      <td>143.0</td>\n",
       "      <td>2853.38</td>\n",
       "      <td>2825.92</td>\n",
       "    </tr>\n",
       "    <tr>\n",
       "      <th>2</th>\n",
       "      <td>2017-01-08 02:00:00</td>\n",
       "      <td>118.0</td>\n",
       "      <td>2841.60</td>\n",
       "      <td>2853.38</td>\n",
       "    </tr>\n",
       "    <tr>\n",
       "      <th>3</th>\n",
       "      <td>2017-01-08 03:00:00</td>\n",
       "      <td>262.0</td>\n",
       "      <td>2862.93</td>\n",
       "      <td>2841.60</td>\n",
       "    </tr>\n",
       "    <tr>\n",
       "      <th>4</th>\n",
       "      <td>2017-01-08 04:00:00</td>\n",
       "      <td>133.0</td>\n",
       "      <td>2874.99</td>\n",
       "      <td>2862.93</td>\n",
       "    </tr>\n",
       "  </tbody>\n",
       "</table>\n",
       "</div>"
      ],
      "text/plain": [
       "                 Date  Count_Negatives    Close  Close_Next_Day\n",
       "0 2017-01-08 00:00:00            148.0  2825.92            0.00\n",
       "1 2017-01-08 01:00:00            143.0  2853.38         2825.92\n",
       "2 2017-01-08 02:00:00            118.0  2841.60         2853.38\n",
       "3 2017-01-08 03:00:00            262.0  2862.93         2841.60\n",
       "4 2017-01-08 04:00:00            133.0  2874.99         2862.93"
      ]
     },
     "execution_count": 208,
     "metadata": {},
     "output_type": "execute_result"
    }
   ],
   "source": [
    "dataset.head()"
   ]
  },
  {
   "cell_type": "code",
   "execution_count": 209,
   "metadata": {},
   "outputs": [],
   "source": [
    "dataset = dataset[dataset.Close_Next_Day != 0]"
   ]
  },
  {
   "cell_type": "code",
   "execution_count": 210,
   "metadata": {},
   "outputs": [
    {
     "data": {
      "text/html": [
       "<div>\n",
       "<style scoped>\n",
       "    .dataframe tbody tr th:only-of-type {\n",
       "        vertical-align: middle;\n",
       "    }\n",
       "\n",
       "    .dataframe tbody tr th {\n",
       "        vertical-align: top;\n",
       "    }\n",
       "\n",
       "    .dataframe thead th {\n",
       "        text-align: right;\n",
       "    }\n",
       "</style>\n",
       "<table border=\"1\" class=\"dataframe\">\n",
       "  <thead>\n",
       "    <tr style=\"text-align: right;\">\n",
       "      <th></th>\n",
       "      <th>Date</th>\n",
       "      <th>Count_Negatives</th>\n",
       "      <th>Close</th>\n",
       "      <th>Close_Next_Day</th>\n",
       "    </tr>\n",
       "  </thead>\n",
       "  <tbody>\n",
       "    <tr>\n",
       "      <th>1</th>\n",
       "      <td>2017-01-08 01:00:00</td>\n",
       "      <td>143.0</td>\n",
       "      <td>2853.38</td>\n",
       "      <td>2825.92</td>\n",
       "    </tr>\n",
       "    <tr>\n",
       "      <th>2</th>\n",
       "      <td>2017-01-08 02:00:00</td>\n",
       "      <td>118.0</td>\n",
       "      <td>2841.60</td>\n",
       "      <td>2853.38</td>\n",
       "    </tr>\n",
       "    <tr>\n",
       "      <th>3</th>\n",
       "      <td>2017-01-08 03:00:00</td>\n",
       "      <td>262.0</td>\n",
       "      <td>2862.93</td>\n",
       "      <td>2841.60</td>\n",
       "    </tr>\n",
       "    <tr>\n",
       "      <th>4</th>\n",
       "      <td>2017-01-08 04:00:00</td>\n",
       "      <td>133.0</td>\n",
       "      <td>2874.99</td>\n",
       "      <td>2862.93</td>\n",
       "    </tr>\n",
       "    <tr>\n",
       "      <th>5</th>\n",
       "      <td>2017-01-08 05:00:00</td>\n",
       "      <td>133.0</td>\n",
       "      <td>2900.00</td>\n",
       "      <td>2874.99</td>\n",
       "    </tr>\n",
       "  </tbody>\n",
       "</table>\n",
       "</div>"
      ],
      "text/plain": [
       "                 Date  Count_Negatives    Close  Close_Next_Day\n",
       "1 2017-01-08 01:00:00            143.0  2853.38         2825.92\n",
       "2 2017-01-08 02:00:00            118.0  2841.60         2853.38\n",
       "3 2017-01-08 03:00:00            262.0  2862.93         2841.60\n",
       "4 2017-01-08 04:00:00            133.0  2874.99         2862.93\n",
       "5 2017-01-08 05:00:00            133.0  2900.00         2874.99"
      ]
     },
     "execution_count": 210,
     "metadata": {},
     "output_type": "execute_result"
    }
   ],
   "source": [
    "dataset.head()"
   ]
  },
  {
   "cell_type": "code",
   "execution_count": null,
   "metadata": {},
   "outputs": [],
   "source": [
    "# Ya tengo mi dataset limpio. Empiezo a hacer API requests:\n",
    "\n"
   ]
  },
  {
   "cell_type": "code",
   "execution_count": null,
   "metadata": {},
   "outputs": [],
   "source": []
  }
 ],
 "metadata": {
  "kernelspec": {
   "display_name": "Python 3",
   "language": "python",
   "name": "python3"
  },
  "language_info": {
   "codemirror_mode": {
    "name": "ipython",
    "version": 3
   },
   "file_extension": ".py",
   "mimetype": "text/x-python",
   "name": "python",
   "nbconvert_exporter": "python",
   "pygments_lexer": "ipython3",
   "version": "3.7.3"
  }
 },
 "nbformat": 4,
 "nbformat_minor": 2
}

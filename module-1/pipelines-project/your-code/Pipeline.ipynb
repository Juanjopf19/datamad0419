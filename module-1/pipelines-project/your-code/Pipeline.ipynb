{
 "cells": [
  {
   "cell_type": "markdown",
   "metadata": {},
   "source": [
    "#### IMPORTS"
   ]
  },
  {
   "cell_type": "code",
   "execution_count": 128,
   "metadata": {},
   "outputs": [],
   "source": [
    "import pandas as pd\n",
    "import numpy as np\n",
    "\n",
    "import operator\n",
    "\n",
    "import json\n",
    "import requests\n",
    "\n",
    "%matplotlib inline\n",
    "import matplotlib\n",
    "import matplotlib.pyplot as plt\n",
    "import seaborn as sns"
   ]
  },
  {
   "cell_type": "markdown",
   "metadata": {},
   "source": [
    "####  GLOBAL VARIABLES"
   ]
  },
  {
   "cell_type": "code",
   "execution_count": 129,
   "metadata": {},
   "outputs": [
    {
     "name": "stdout",
     "output_type": "stream",
     "text": [
      "Enter the type ('n', 'Count_Negatives', 'Count_Positives', 'Count_Neutrals'): Count_Neutrals\n"
     ]
    }
   ],
   "source": [
    "tweet_type = str(input(\"Enter the type ('n', 'Count_Negatives', 'Count_Positives', 'Count_Neutrals'): \"))"
   ]
  },
  {
   "cell_type": "code",
   "execution_count": 130,
   "metadata": {},
   "outputs": [],
   "source": [
    "title = \"Effect of {} tweets on Bitcoin price\".format(tweet_type)"
   ]
  },
  {
   "cell_type": "markdown",
   "metadata": {},
   "source": [
    "#### ACQUISITION"
   ]
  },
  {
   "cell_type": "code",
   "execution_count": 131,
   "metadata": {},
   "outputs": [],
   "source": [
    "def acquire():\n",
    "    df = pd.read_csv(\"Data_To_Hourervals_no_filter.csv\", sep =';')\n",
    "    response = requests.get(\"https://api.coindesk.com/v1/bpi/historical/close.json?start=2017-01-08&end=2019-01-21\")\n",
    "    results = response.json()\n",
    "    df2 = pd.DataFrame(results)\n",
    "    return df, df2"
   ]
  },
  {
   "cell_type": "markdown",
   "metadata": {},
   "source": [
    "#### WRANGLING"
   ]
  },
  {
   "cell_type": "code",
   "execution_count": 132,
   "metadata": {},
   "outputs": [],
   "source": [
    "def wrangle(df, df2):\n",
    "    my_columns = [\"Date\", \"{}\".format(tweet_type)]\n",
    "    for col in df.columns.values:\n",
    "        if col not in my_columns:\n",
    "            filtered = df.drop(col, axis = 1)\n",
    "    \n",
    "    filtered[\"Date\"] = pd.to_datetime(df[\"Date\"], dayfirst = True)\n",
    "    filtered[\"Date\"] = filtered[\"Date\"].dt.date\n",
    "    filtered = filtered.set_index(\"Date\")\n",
    "    filtered = filtered.groupby(\"Date\").agg({\"{}\".format(tweet_type): \"sum\"})\n",
    "    filtered = filtered.reset_index()\n",
    "    filtered[\"Date\"] = pd.to_datetime(df[\"Date\"], dayfirst = True)\n",
    "    \n",
    "    filtered2 = df2.reset_index()\n",
    "    filtered2 = filtered2.rename(columns={\"index\": \"Date\"})\n",
    "    filtered2 = filtered2.drop([\"disclaimer\", \"time\"], axis = 1)\n",
    "    filtered2 = filtered2[(filtered2[\"Date\"] != \"updatedISO\") & (filtered2[\"Date\"] != \"updated\")]\n",
    "    filtered2[\"Date\"] = pd.to_datetime(filtered2[\"Date\"], dayfirst = True)\n",
    "    \n",
    "    return filtered, filtered2"
   ]
  },
  {
   "cell_type": "markdown",
   "metadata": {},
   "source": [
    "#### ANALYSIS"
   ]
  },
  {
   "cell_type": "code",
   "execution_count": 133,
   "metadata": {},
   "outputs": [],
   "source": [
    "def analyze(filtered, filtered2):\n",
    "    Count_labels = [\"Few\", \"Medium\", \"Many\"]\n",
    "    bins = pd.qcut(filtered[\"{}\".format(tweet_type)], 3, labels = Count_labels)\n",
    "    filtered[\"{}\".format(tweet_type)] = bins\n",
    "    \n",
    "    for i in filtered[\"Date\"]:\n",
    "        for e in filtered2[\"Date\"]:\n",
    "            if i == e:\n",
    "                filtered[\"BPI\"] = filtered2[\"bpi\"]\n",
    "                \n",
    "    BPIs = []\n",
    "    for i in range(len(filtered[\"BPI\"]) - 1):\n",
    "        BPIs.append((filtered[\"BPI\"][i+1] - filtered[\"BPI\"][i])/filtered[\"BPI\"][i])\n",
    "    BPIs.append(0)\n",
    "    filtered[\"Price_Change\"] = BPIs\n",
    "    \n",
    "    filtered = filtered.drop([\"BPI\", \"Date\"], axis =1)\n",
    "    \n",
    "    filtered = filtered.groupby(\"{}\".format(tweet_type)).agg({\"Price_Change\": \"mean\"})\n",
    "    \n",
    "    results = filtered.reset_index()\n",
    "    return results"
   ]
  },
  {
   "cell_type": "markdown",
   "metadata": {},
   "source": [
    "#### REPORTING"
   ]
  },
  {
   "cell_type": "code",
   "execution_count": 134,
   "metadata": {},
   "outputs": [],
   "source": [
    "def visualize(results):\n",
    "    fig, ax = plt.subplots(figsize = (9,8))\n",
    "    barchart = sns.barplot(data = results, x = \"{}\".format(tweet_type), y = \"Price_Change\")\n",
    "    plt.title(title + \"\\n\", fontsize = 20)\n",
    "    return barchart\n",
    "\n",
    "def save_viz(barchart):\n",
    "    fig = barchart.get_figure()\n",
    "    fig.savefig(title + '.png')"
   ]
  },
  {
   "cell_type": "code",
   "execution_count": 135,
   "metadata": {},
   "outputs": [
    {
     "data": {
      "image/png": "[encoded data removed]",
      "text/plain": [
       "<Figure size 648x576 with 1 Axes>"
      ]
     },
     "metadata": {
      "needs_background": "light"
     },
     "output_type": "display_data"
    }
   ],
   "source": [
    "if __name__ == '__main__':\n",
    "    df, df2 = acquire()\n",
    "    filtered, filtered2 = wrangle(df, df2)\n",
    "    results = analyze(filtered, filtered2)\n",
    "    barchart = visualize(results)\n",
    "    save_viz(barchart)"
   ]
  },
  {
   "cell_type": "code",
   "execution_count": null,
   "metadata": {},
   "outputs": [],
   "source": []
  }
 ],
 "metadata": {
  "kernelspec": {
   "display_name": "Python 3",
   "language": "python",
   "name": "python3"
  },
  "language_info": {
   "codemirror_mode": {
    "name": "ipython",
    "version": 3
   },
   "file_extension": ".py",
   "mimetype": "text/x-python",
   "name": "python",
   "nbconvert_exporter": "python",
   "pygments_lexer": "ipython3",
   "version": "3.7.3"
  }
 },
 "nbformat": 4,
 "nbformat_minor": 2
}

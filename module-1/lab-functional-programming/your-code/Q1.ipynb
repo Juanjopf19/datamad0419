{
 "cells": [
  {
   "cell_type": "markdown",
   "metadata": {},
   "source": [
    "In the cell below, create a Python function that wraps your previous solution for the Bag of Words lab.\n",
    "\n",
    "Requirements:\n",
    "\n",
    "1. Your function should accept the following parameters:\n",
    "    * `docs` [REQUIRED] - array of document paths.\n",
    "    * `stop_words` [OPTIONAL] - array of stop words. The default value is an empty array.\n",
    "\n",
    "1. Your function should return a Python object that contains the following:\n",
    "    * `bag_of_words` - array of strings of normalized unique words in the corpus.\n",
    "    * `term_freq` - array of the term-frequency vectors."
   ]
  },
  {
   "cell_type": "code",
   "execution_count": 64,
   "metadata": {},
   "outputs": [],
   "source": [
    "# Import required libraries\n",
    "\n",
    "import numpy as np\n",
    "import pandas as pd\n",
    "from string import punctuation\n",
    "\n",
    "# Define function\n",
    "def get_bow_from_docs(docs, stop_words=[]):\n",
    "    \n",
    "    corpus = []\n",
    "    bag_of_words = []\n",
    "    term_freq = []\n",
    "    \n",
    "\n",
    "    for doc in docs:\n",
    "        file = open(doc)\n",
    "        text = file.read()\n",
    "        textnopunct = \"\".join(c for c in text if c not in punctuation)\n",
    "        textlower = [word.lower() for word in textnopunct]\n",
    "        string = ''.join(textlower)\n",
    "        corpus.append(string)\n",
    "        \n",
    "    for phrase in corpus:\n",
    "            words = phrase.split()\n",
    "            for word in words:\n",
    "                if word not in stop_words:\n",
    "                    if word not in bag_of_words:\n",
    "                        bag_of_words.append(word)\n",
    "\n",
    "\n",
    "    for i in range(len(corpus)):\n",
    "        term_freq.append([])\n",
    "        words = corpus[i].split()\n",
    "        for e in range(len(bag_of_words)):\n",
    "            term_freq[i].append(0)\n",
    "            if bag_of_words[e] in words:\n",
    "                term_freq[i][e] += 1\n",
    "    \n",
    "    # Now return your output as an object\n",
    "    return {\n",
    "        \"bag_of_words\": bag_of_words,\n",
    "        \"term_freq\": term_freq\n",
    "    }\n",
    "    "
   ]
  },
  {
   "cell_type": "markdown",
   "metadata": {},
   "source": [
    "Test your function without stop words. You should see the output like below:\n",
    "\n",
    "```{'bag_of_words': ['ironhack', 'is', 'cool', 'i', 'love', 'am', 'a', 'student', 'at'], 'term_freq': [[1, 1, 1, 0, 0, 0, 0, 0, 0], [1, 0, 0, 1, 1, 0, 0, 0, 0], [1, 0, 0, 1, 0, 1, 1, 1, 1]]}```"
   ]
  },
  {
   "cell_type": "code",
   "execution_count": 65,
   "metadata": {},
   "outputs": [
    {
     "name": "stdout",
     "output_type": "stream",
     "text": [
      "{'bag_of_words': ['ironhack', 'is', 'cool', 'i', 'love', 'am', 'a', 'student', 'at'], 'term_freq': [[1, 1, 1, 0, 0, 0, 0, 0, 0], [1, 0, 0, 1, 1, 0, 0, 0, 0], [1, 0, 0, 1, 0, 1, 1, 1, 1]]}\n"
     ]
    }
   ],
   "source": [
    "# Define doc paths array\n",
    "\n",
    "docs = ['doc1.txt', 'doc2.txt', 'doc3.txt']\n",
    "\n",
    "# Obtain BoW from your function\n",
    "bow = get_bow_from_docs(docs)\n",
    "\n",
    "# Print BoW\n",
    "print(bow)\n"
   ]
  },
  {
   "cell_type": "markdown",
   "metadata": {},
   "source": [
    "If your attempt above is successful, nice work done!\n",
    "\n",
    "Now test your function again with the stop words. In the previous lab we defined the stop words in a large array. In this lab, we'll import the stop words from Scikit-Learn."
   ]
  },
  {
   "cell_type": "code",
   "execution_count": 66,
   "metadata": {},
   "outputs": [
    {
     "name": "stdout",
     "output_type": "stream",
     "text": [
      "frozenset({'were', 'afterwards', 'many', 'meanwhile', 'my', 'may', 'whose', 'was', 'whereas', 'describe', 'bottom', 'if', 'everything', 'they', 'or', 'namely', 'nine', 'twelve', 'at', 'keep', 'first', 'itself', 'out', 'please', 'hundred', 'most', 'take', 'in', 'empty', 'eleven', 'before', 'among', 'and', 'always', 'another', 'same', 'hence', 'whole', 'ours', 'thereupon', 'un', 'the', 'being', 'cannot', 'bill', 'more', 'still', 'well', 'thus', 'myself', 'since', 'from', 'together', 'already', 'some', 'somehow', 'fill', 'someone', 'could', 'hasnt', 'himself', 'have', 'inc', 'yours', 'anywhere', 'upon', 'ie', 'hers', 'thick', 'when', 'here', 'themselves', 'might', 'almost', 'should', 'is', 'sincere', 'towards', 'further', 'hereupon', 'him', 'show', 'beyond', 'several', 'made', 're', 'off', 'seeming', 'wherever', 'thereafter', 'above', 'found', 'sixty', 'formerly', 'fifteen', 'whether', 'full', 'beside', 'will', 'name', 'due', 'ltd', 'whereupon', 'over', 'seems', 'with', 'into', 'serious', 'thru', 'third', 'eight', 'can', 'least', 'last', 'none', 'call', 'one', 'fifty', 'her', 'had', 'a', 'becomes', 'something', 'front', 'rather', 'on', 'our', 'nobody', 'through', 'nothing', 'fire', 'therefore', 'everyone', 'i', 'yourself', 'few', 'sometimes', 'both', 'there', 'who', 'etc', 'herein', 'hereby', 'becoming', 'been', 'co', 'two', 'whence', 'besides', 'without', 'yourselves', 'six', 'would', 'although', 'side', 'become', 'under', 'however', 'this', 'anyone', 'de', 'except', 'hereafter', 'beforehand', 'alone', 'below', 'then', 'seem', 'not', 'get', 'these', 'amongst', 'otherwise', 'such', 'which', 'nevertheless', 'any', 'find', 'less', 'top', 'each', 'while', 'whoever', 'so', 'its', 'of', 'whither', 'anyhow', 'than', 'very', 'own', 'thence', 'amount', 'perhaps', 'why', 'within', 'once', 'are', 'never', 'toward', 'you', 'your', 'what', 'behind', 'as', 'during', 'after', 'mostly', 'ourselves', 'four', 'it', 'indeed', 'how', 'must', 'all', 'latterly', 'up', 'now', 'eg', 'next', 'mill', 'has', 'along', 'per', 'couldnt', 'much', 'but', 'back', 'therein', 'often', 'even', 'though', 'nowhere', 'five', 'wherein', 'noone', 'whereby', 'we', 'against', 'via', 'everywhere', 'too', 'also', 'whenever', 'throughout', 'yet', 'an', 'us', 'their', 'them', 'con', 'other', 'part', 'me', 'cry', 'no', 'elsewhere', 'others', 'am', 'whatever', 'interest', 'she', 'he', 'down', 'thin', 'either', 'neither', 'for', 'onto', 'see', 'by', 'anyway', 'go', 'to', 'only', 'seemed', 'amoungst', 'anything', 'ever', 'twenty', 'be', 'do', 'until', 'moreover', 'somewhere', 'because', 'whom', 'ten', 'latter', 'forty', 'move', 'else', 'mine', 'that', 'about', 'put', 'done', 'former', 'herself', 'nor', 'again', 'around', 'enough', 'his', 'cant', 'thereby', 'where', 'became', 'every', 'three', 'sometime', 'detail', 'whereafter', 'across', 'system', 'those', 'give', 'between'})\n"
     ]
    }
   ],
   "source": [
    "from sklearn.feature_extraction import stop_words\n",
    "print(stop_words.ENGLISH_STOP_WORDS)"
   ]
  },
  {
   "cell_type": "markdown",
   "metadata": {},
   "source": [
    "You should have seen a large list of words that looks like:\n",
    "\n",
    "```frozenset({'across', 'mine', 'cannot', ...})```\n",
    "\n",
    "`frozenset` is a type of Python object that is immutable. In this lab you can use it just like an array without conversion."
   ]
  },
  {
   "cell_type": "markdown",
   "metadata": {},
   "source": [
    "Next, test your function with supplying `stop_words.ENGLISH_STOP_WORDS` as the second parameter."
   ]
  },
  {
   "cell_type": "code",
   "execution_count": 69,
   "metadata": {},
   "outputs": [
    {
     "name": "stdout",
     "output_type": "stream",
     "text": [
      "{'bag_of_words': ['ironhack', 'cool', 'love', 'student'], 'term_freq': [[1, 1, 0, 0], [1, 0, 1, 0], [1, 0, 0, 1]]}\n"
     ]
    }
   ],
   "source": [
    "bow = get_bow_from_docs(docs, stop_words.ENGLISH_STOP_WORDS)\n",
    "\n",
    "print(bow)"
   ]
  },
  {
   "cell_type": "markdown",
   "metadata": {},
   "source": [
    "You should have seen:\n",
    "\n",
    "```{'bag_of_words': ['ironhack', 'cool', 'love', 'student'], 'term_freq': [[1, 1, 0, 0], [1, 0, 1, 0], [1, 0, 0, 1]]}```"
   ]
  },
  {
   "cell_type": "code",
   "execution_count": null,
   "metadata": {},
   "outputs": [],
   "source": []
  }
 ],
 "metadata": {
  "kernelspec": {
   "display_name": "Python 3",
   "language": "python",
   "name": "python3"
  },
  "language_info": {
   "codemirror_mode": {
    "name": "ipython",
    "version": 3
   },
   "file_extension": ".py",
   "mimetype": "text/x-python",
   "name": "python",
   "nbconvert_exporter": "python",
   "pygments_lexer": "ipython3",
   "version": "3.7.3"
  }
 },
 "nbformat": 4,
 "nbformat_minor": 2
}
